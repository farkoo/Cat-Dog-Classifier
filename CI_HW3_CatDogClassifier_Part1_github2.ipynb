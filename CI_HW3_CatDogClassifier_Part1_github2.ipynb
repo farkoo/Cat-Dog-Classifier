{
  "nbformat": 4,
  "nbformat_minor": 0,
  "metadata": {
    "accelerator": "GPU",
    "colab": {
      "name": "CI-HW3-CatDogClassifier-Part1-github.ipynb",
      "provenance": [],
      "collapsed_sections": [],
      "toc_visible": true,
      "include_colab_link": true
    },
    "kernelspec": {
      "display_name": "Python 3",
      "name": "python3"
    },
    "language_info": {
      "name": "python"
    }
  },
  "cells": [
    {
      "cell_type": "markdown",
      "metadata": {
        "id": "view-in-github",
        "colab_type": "text"
      },
      "source": [
        "<a href=\"https://colab.research.google.com/github/farkoo/Cat-Dog-Classifier/blob/master/CI_HW3_CatDogClassifier_Part1_github2.ipynb\" target=\"_parent\"><img src=\"https://colab.research.google.com/assets/colab-badge.svg\" alt=\"Open In Colab\"/></a>"
      ]
    },
    {
      "cell_type": "code",
      "metadata": {
        "colab": {
          "base_uri": "https://localhost:8080/"
        },
        "id": "D5xrstSZNXev",
        "outputId": "eb10201c-9db7-4ae5-d465-99acb0ec3d45"
      },
      "source": [
        "!pwd"
      ],
      "execution_count": null,
      "outputs": [
        {
          "output_type": "stream",
          "text": [
            "/content\n"
          ],
          "name": "stdout"
        }
      ]
    },
    {
      "cell_type": "code",
      "metadata": {
        "id": "Zyk3Ez7AxCrP",
        "colab": {
          "base_uri": "https://localhost:8080/"
        },
        "outputId": "148d2c70-ca3d-4364-ed0d-47f6fe3a3101"
      },
      "source": [
        "from google.colab import drive\n",
        "drive.mount('/content/drive')"
      ],
      "execution_count": null,
      "outputs": [
        {
          "output_type": "stream",
          "text": [
            "Mounted at /content/drive\n"
          ],
          "name": "stdout"
        }
      ]
    },
    {
      "cell_type": "markdown",
      "metadata": {
        "id": "1g4Li6ngEF9d"
      },
      "source": [
        "# Prepare train and test data (Data Preprocessing)"
      ]
    },
    {
      "cell_type": "code",
      "metadata": {
        "colab": {
          "base_uri": "https://localhost:8080/"
        },
        "id": "UO3GJM9hdffS",
        "outputId": "be77e7a4-c007-4849-879b-d9c8d5f68d94"
      },
      "source": [
        "%cd /content/drive/MyDrive"
      ],
      "execution_count": null,
      "outputs": [
        {
          "output_type": "stream",
          "text": [
            "/content/drive/MyDrive\n"
          ],
          "name": "stdout"
        }
      ]
    },
    {
      "cell_type": "code",
      "metadata": {
        "colab": {
          "base_uri": "https://localhost:8080/"
        },
        "id": "38ScwC7bewNw",
        "outputId": "879bc735-faa0-4141-f452-75a5d9fbc137"
      },
      "source": [
        "%%bash\n",
        "git clone \"https://github.com/MKasaei00/IUT-CI-HW3-cat-dog-classifier.git\""
      ],
      "execution_count": null,
      "outputs": [
        {
          "output_type": "stream",
          "text": [
            "Cloning into 'IUT-CI-HW3-cat-dog-classifier'...\n",
            "Checking out files:  76% (10/13)   \rChecking out files:  84% (11/13)   \rChecking out files:  92% (12/13)   \rChecking out files: 100% (13/13)   \rChecking out files: 100% (13/13), done.\n"
          ],
          "name": "stderr"
        }
      ]
    },
    {
      "cell_type": "code",
      "metadata": {
        "colab": {
          "base_uri": "https://localhost:8080/"
        },
        "id": "UvNMNj1whfmG",
        "outputId": "a34623e6-afa2-412b-ae7a-b01931e6c9b0"
      },
      "source": [
        "%cd IUT-CI-HW3-cat-dog-classifier"
      ],
      "execution_count": null,
      "outputs": [
        {
          "output_type": "stream",
          "text": [
            "/content/drive/My Drive/IUT-CI-HW3-cat-dog-classifier\n"
          ],
          "name": "stdout"
        }
      ]
    },
    {
      "cell_type": "code",
      "metadata": {
        "colab": {
          "base_uri": "https://localhost:8080/"
        },
        "id": "Nb69RhJ5iDrW",
        "outputId": "38ebdf42-674c-4566-c18d-8f338338826b"
      },
      "source": [
        "%%bash\n",
        "7z x dataset/test_set.zip -odataset\n",
        "7z x dataset/training_set.zip -odataset"
      ],
      "execution_count": null,
      "outputs": [
        {
          "output_type": "stream",
          "text": [
            "\n",
            "7-Zip [64] 16.02 : Copyright (c) 1999-2016 Igor Pavlov : 2016-05-21\n",
            "p7zip Version 16.02 (locale=en_US.UTF-8,Utf16=on,HugeFiles=on,64 bits,2 CPUs Intel(R) Xeon(R) CPU @ 2.20GHz (406F0),ASM,AES-NI)\n",
            "\n",
            "Scanning the drive for archives:\n",
            "1 file, 3711630 bytes (3625 KiB)\n",
            "\n",
            "Extracting archive: dataset/test_set.zip\n",
            "--\n",
            "Path = dataset/test_set.zip\n",
            "Type = zip\n",
            "Physical Size = 3711630\n",
            "Embedded Stub Size = 4\n",
            "Total Physical Size = 45654670\n",
            "Multivolume = +\n",
            "Volume Index = 2\n",
            "Volumes = 3\n",
            "\n",
            "Everything is Ok\n",
            "\n",
            "Folders: 3\n",
            "Files: 2000\n",
            "Size:       45739128\n",
            "Compressed: 45654670\n",
            "\n",
            "7-Zip [64] 16.02 : Copyright (c) 1999-2016 Igor Pavlov : 2016-05-21\n",
            "p7zip Version 16.02 (locale=en_US.UTF-8,Utf16=on,HugeFiles=on,64 bits,2 CPUs Intel(R) Xeon(R) CPU @ 2.20GHz (406F0),ASM,AES-NI)\n",
            "\n",
            "Scanning the drive for archives:\n",
            "1 file, 13986903 bytes (14 MiB)\n",
            "\n",
            "Extracting archive: dataset/training_set.zip\n",
            "--\n",
            "Path = dataset/training_set.zip\n",
            "Type = zip\n",
            "Physical Size = 13986903\n",
            "Embedded Stub Size = 4\n",
            "Total Physical Size = 181759063\n",
            "Multivolume = +\n",
            "Volume Index = 8\n",
            "Volumes = 9\n",
            "\n",
            "Everything is Ok\n",
            "\n",
            "Folders: 3\n",
            "Files: 8000\n",
            "Size:       182042608\n",
            "Compressed: 181759063\n"
          ],
          "name": "stdout"
        }
      ]
    },
    {
      "cell_type": "code",
      "metadata": {
        "id": "hTd3JReGlT0r"
      },
      "source": [
        "import numpy as np\n",
        "import os\n",
        "import cv2\n",
        "from google.colab.patches import cv2_imshow\n",
        "from keras.utils import np_utils\n",
        "import matplotlib.pyplot as plt\n",
        "import tensorflow as tf\n",
        "import random"
      ],
      "execution_count": null,
      "outputs": []
    },
    {
      "cell_type": "code",
      "metadata": {
        "id": "uEHd7kq0leEJ"
      },
      "source": [
        "def get_image_shapes(dir,count_limit = 10):\n",
        "  shapes = {}\n",
        "  for category in os.listdir(dir):\n",
        "    for file in os.listdir(os.path.join(dir,category)):\n",
        "      img_path = os.path.join(dir,category,file)\n",
        "      img = cv2.imread(img_path)\n",
        "      shape = img.shape\n",
        "      if shape not in shapes:\n",
        "        shapes[shape] = 1\n",
        "      else:\n",
        "        shapes[shape] = shapes[shape] + 1\n",
        "      \n",
        "  return sorted(shapes.items(),key=lambda item : -item[1])[:count_limit]"
      ],
      "execution_count": null,
      "outputs": []
    },
    {
      "cell_type": "code",
      "metadata": {
        "id": "NA3x7ObDlopB"
      },
      "source": [
        "test_dir = 'dataset/test_set'\n",
        "training_dir = 'dataset/training_set'"
      ],
      "execution_count": null,
      "outputs": []
    },
    {
      "cell_type": "code",
      "metadata": {
        "id": "5lNX7WfLln7S"
      },
      "source": [
        "def load_data_from_directory(dir,width,height,classes):\n",
        "  img_data = []\n",
        "  img_label = []\n",
        "  categories = os.listdir(dir)\n",
        "  for category in categories:\n",
        "    for file in os.listdir(os.path.join(dir,category)):\n",
        "      img_path = os.path.join(dir,category,file)\n",
        "      img = cv2.imread(img_path)\n",
        "      img = cv2.resize(img,(width,height))\n",
        "      # cv2_imshow(img)\n",
        "      img = np.array(img).astype('float32') / 255\n",
        "      \n",
        "      img_data.append(img)\n",
        "      img_label.append(category)\n",
        "\n",
        "  img_onehot = np_utils.to_categorical([categories.index(label) for label in img_label],classes,dtype=np.ubyte)\n",
        "  img_data = np.array(img_data)\n",
        "  img_onehot = np.array(img_onehot)\n",
        "\n",
        "  zip_list = list(zip(img_data, img_label, img_onehot))\n",
        "  random.shuffle(zip_list)\n",
        "  img_data, img_label, img_onehot = zip(*zip_list)\n",
        "  return img_data , img_label, img_onehot"
      ],
      "execution_count": null,
      "outputs": []
    },
    {
      "cell_type": "code",
      "metadata": {
        "id": "cVb181xCZZbJ"
      },
      "source": [
        "classes = 2\n",
        "w = 128\n",
        "h = 128"
      ],
      "execution_count": null,
      "outputs": []
    },
    {
      "cell_type": "code",
      "metadata": {
        "id": "9kpvfOQ3mDqq"
      },
      "source": [
        "train_x , train_label, train_onehot = load_data_from_directory(training_dir,w,h,classes)\n",
        "test_x , test_label, test_onehot = load_data_from_directory(test_dir,w,h,classes)"
      ],
      "execution_count": null,
      "outputs": []
    },
    {
      "cell_type": "code",
      "metadata": {
        "id": "0TV8o9GRwGPi"
      },
      "source": [
        "test_label2 = []\n",
        "for i, label in enumerate(test_label):\n",
        "     test_label2.append(1) if (label == 'dogs') else test_label2.append(0)"
      ],
      "execution_count": null,
      "outputs": []
    },
    {
      "cell_type": "code",
      "metadata": {
        "id": "v7XgBhICe2Y6"
      },
      "source": [
        "train_x = np.asarray(train_x)\n",
        "train_label = np.asarray(train_label)\n",
        "train_onehot = np.asarray(train_onehot)\n",
        "\n",
        "test_x = np.asarray(test_x)\n",
        "test_label = np.asarray(test_label2)\n",
        "test_onehot = np.asarray(test_onehot)"
      ],
      "execution_count": null,
      "outputs": []
    },
    {
      "cell_type": "code",
      "metadata": {
        "id": "cYnCpcoumHxk"
      },
      "source": [
        "!rm -rf cleanData\n",
        "!mkdir cleanData\n",
        "np.save('cleanData/train_x.npy',train_x)\n",
        "np.save('cleanData/train_label.npy',train_label)\n",
        "np.save('cleanData/train_onehot.npy',train_onehot)\n",
        "\n",
        "np.save('cleanData/test_x.npy',test_x)\n",
        "np.save('cleanData/test_label.npy',test_label)\n",
        "np.save('cleanData/test_onehot.npy',test_onehot)"
      ],
      "execution_count": null,
      "outputs": []
    },
    {
      "cell_type": "code",
      "metadata": {
        "id": "mpcwCHVPmI1z"
      },
      "source": [
        "train_x = np.load('cleanData/train_x.npy')\n",
        "train_label = np.load('cleanData/train_onehot.npy')\n",
        "\n",
        "test_x = np.load('cleanData/test_x.npy')\n",
        "test_label = np.load('cleanData/test_onehot.npy')\n",
        "test_vec = np.load('cleanData/test_label.npy')"
      ],
      "execution_count": null,
      "outputs": []
    },
    {
      "cell_type": "code",
      "metadata": {
        "id": "7FLzp06qGu1b"
      },
      "source": [
        "from sklearn.model_selection import train_test_split\n",
        "train_X, valid_X, train_Label, valid_Label = train_test_split(train_x, train_label, test_size = 0.2, random_state = 13)"
      ],
      "execution_count": null,
      "outputs": []
    },
    {
      "cell_type": "markdown",
      "metadata": {
        "id": "_knM4FV1EPdM"
      },
      "source": [
        "# Generate basic Neural Network"
      ]
    },
    {
      "cell_type": "code",
      "metadata": {
        "id": "hKZBz2xEmUby"
      },
      "source": [
        "from keras.models import Sequential\n",
        "from keras.layers import Dense,Dropout,Activation,Flatten,LeakyReLU\n",
        "from keras.optimizers import Adam\n",
        "from keras.losses import categorical_crossentropy\n",
        "from keras.initializers import RandomNormal"
      ],
      "execution_count": null,
      "outputs": []
    },
    {
      "cell_type": "markdown",
      "metadata": {
        "id": "YSYVxFTDHd2E"
      },
      "source": [
        "# توضیح کلی در مورد عملکرد این تابع"
      ]
    },
    {
      "cell_type": "code",
      "metadata": {
        "id": "V4H9KiSMMz9A"
      },
      "source": [
        "def train_model(config):\n",
        "  model = Sequential()\n",
        "\n",
        "  model.add(Flatten(input_shape=(h,w,3)))\n",
        "  model.add(Dropout(config['in_drop_out']))\n",
        "\n",
        "  for act ,drop_out, layers in config['layers']:\n",
        "    for layer in layers:\n",
        "      model.add(Dense(layer))\n",
        "      model.add(act())\n",
        "      model.add(Dropout(drop_out))\n",
        "\n",
        "  model.compile(\n",
        "    optimizer=Adam(config['learning_rate']),\n",
        "    loss=categorical_crossentropy,\n",
        "    metrics=['accuracy']\n",
        "  )\n",
        "\n",
        "  history = model.fit(train_x,train_label,\n",
        "                    batch_size=config['batch'],\n",
        "                    epochs = config['epochs'],\n",
        "                    shuffle=True,\n",
        "                    validation_data=(valid_X,valid_Label))\n",
        "  \n",
        "  \n",
        "  plt.plot(history.history['accuracy'])\n",
        "  plt.plot(history.history['val_accuracy'])\n",
        "  plt.title('Model Accuracy')\n",
        "  plt.ylabel('accuracy')\n",
        "  plt.xlabel('epoch')\n",
        "  plt.legend(['train','validation'],loc='lower right')\n",
        "  plt.show()\n",
        "\n",
        "  test_eval = model.evaluate(test_x, test_label, verbose = 0)\n",
        "\n",
        "  print('Test loss: ', test_eval[0])\n",
        "  print('Test accuracy: ', test_eval[1])\n",
        "\n",
        "  return model"
      ],
      "execution_count": null,
      "outputs": []
    },
    {
      "cell_type": "markdown",
      "metadata": {
        "id": "h4Kquo41EqtQ"
      },
      "source": [
        "# 1- Initial model, Without any dropout and data augmentation\n",
        "\n",
        "به کمک دراپ‌اوت بصورت تصادفی تعدادی از نرون ها در هر لایه غیرفعال شده و با استفاده از این راه از بیش‌برازش شدن مدل جلوگیری می‌کنیم.\n",
        "\n"
      ]
    },
    {
      "cell_type": "code",
      "metadata": {
        "colab": {
          "base_uri": "https://localhost:8080/",
          "height": 1000
        },
        "id": "_ZCp78UkQtGz",
        "outputId": "3522a880-c8b8-4396-8488-a69a70b7208e"
      },
      "source": [
        "model = train_model({\n",
        "    'in_drop_out':0,\n",
        "    'layers' : [\n",
        "          (lambda : Activation('relu'),0,[2000,1600,800,600,500]+[400]*3+[400]*5+[300,250,200,150,120]), \n",
        "          (lambda : Activation('softmax'),0,[2])\n",
        "    ],\n",
        "    'learning_rate':3e-4,\n",
        "    'batch':256,\n",
        "    'epochs':100\n",
        "})"
      ],
      "execution_count": null,
      "outputs": [
        {
          "output_type": "stream",
          "text": [
            "Epoch 1/100\n",
            "32/32 [==============================] - 7s 84ms/step - loss: 0.6945 - accuracy: 0.5039 - val_loss: 0.6924 - val_accuracy: 0.5144\n",
            "Epoch 2/100\n",
            "32/32 [==============================] - 2s 66ms/step - loss: 0.6938 - accuracy: 0.4857 - val_loss: 0.6923 - val_accuracy: 0.5138\n",
            "Epoch 3/100\n",
            "32/32 [==============================] - 2s 68ms/step - loss: 0.6928 - accuracy: 0.5084 - val_loss: 0.6924 - val_accuracy: 0.4856\n",
            "Epoch 4/100\n",
            "32/32 [==============================] - 2s 66ms/step - loss: 0.6929 - accuracy: 0.5107 - val_loss: 0.6939 - val_accuracy: 0.4856\n",
            "Epoch 5/100\n",
            "32/32 [==============================] - 2s 64ms/step - loss: 0.6921 - accuracy: 0.5117 - val_loss: 0.6936 - val_accuracy: 0.4856\n",
            "Epoch 6/100\n",
            "32/32 [==============================] - 2s 66ms/step - loss: 0.6929 - accuracy: 0.5155 - val_loss: 0.6940 - val_accuracy: 0.4856\n",
            "Epoch 7/100\n",
            "32/32 [==============================] - 2s 66ms/step - loss: 0.6929 - accuracy: 0.5089 - val_loss: 0.6918 - val_accuracy: 0.5138\n",
            "Epoch 8/100\n",
            "32/32 [==============================] - 2s 66ms/step - loss: 0.6930 - accuracy: 0.5014 - val_loss: 0.6927 - val_accuracy: 0.4837\n",
            "Epoch 9/100\n",
            "32/32 [==============================] - 2s 66ms/step - loss: 0.6926 - accuracy: 0.5101 - val_loss: 0.6927 - val_accuracy: 0.5437\n",
            "Epoch 10/100\n",
            "32/32 [==============================] - 2s 65ms/step - loss: 0.6927 - accuracy: 0.5196 - val_loss: 0.6956 - val_accuracy: 0.4856\n",
            "Epoch 11/100\n",
            "32/32 [==============================] - 2s 66ms/step - loss: 0.6940 - accuracy: 0.4967 - val_loss: 0.6915 - val_accuracy: 0.5219\n",
            "Epoch 12/100\n",
            "32/32 [==============================] - 2s 65ms/step - loss: 0.6924 - accuracy: 0.5155 - val_loss: 0.6862 - val_accuracy: 0.6019\n",
            "Epoch 13/100\n",
            "32/32 [==============================] - 2s 66ms/step - loss: 0.6908 - accuracy: 0.5401 - val_loss: 0.6941 - val_accuracy: 0.4856\n",
            "Epoch 14/100\n",
            "32/32 [==============================] - 2s 66ms/step - loss: 0.6936 - accuracy: 0.4945 - val_loss: 0.6933 - val_accuracy: 0.4856\n",
            "Epoch 15/100\n",
            "32/32 [==============================] - 2s 67ms/step - loss: 0.6931 - accuracy: 0.5029 - val_loss: 0.6929 - val_accuracy: 0.4856\n",
            "Epoch 16/100\n",
            "32/32 [==============================] - 2s 67ms/step - loss: 0.6895 - accuracy: 0.5266 - val_loss: 0.6729 - val_accuracy: 0.6144\n",
            "Epoch 17/100\n",
            "32/32 [==============================] - 2s 65ms/step - loss: 0.6842 - accuracy: 0.5645 - val_loss: 0.6908 - val_accuracy: 0.5144\n",
            "Epoch 18/100\n",
            "32/32 [==============================] - 2s 67ms/step - loss: 0.6924 - accuracy: 0.5100 - val_loss: 0.6941 - val_accuracy: 0.4975\n",
            "Epoch 19/100\n",
            "32/32 [==============================] - 2s 66ms/step - loss: 0.6835 - accuracy: 0.5669 - val_loss: 0.6820 - val_accuracy: 0.5569\n",
            "Epoch 20/100\n",
            "32/32 [==============================] - 2s 66ms/step - loss: 0.6767 - accuracy: 0.5824 - val_loss: 0.7365 - val_accuracy: 0.5781\n",
            "Epoch 21/100\n",
            "32/32 [==============================] - 2s 68ms/step - loss: 0.6635 - accuracy: 0.6054 - val_loss: 0.7470 - val_accuracy: 0.5875\n",
            "Epoch 22/100\n",
            "32/32 [==============================] - 2s 68ms/step - loss: 0.6907 - accuracy: 0.5808 - val_loss: 0.6537 - val_accuracy: 0.6319\n",
            "Epoch 23/100\n",
            "32/32 [==============================] - 2s 66ms/step - loss: 0.6636 - accuracy: 0.6070 - val_loss: 0.6361 - val_accuracy: 0.6456\n",
            "Epoch 24/100\n",
            "32/32 [==============================] - 2s 66ms/step - loss: 0.6565 - accuracy: 0.6135 - val_loss: 0.6469 - val_accuracy: 0.6150\n",
            "Epoch 25/100\n",
            "32/32 [==============================] - 2s 67ms/step - loss: 0.6609 - accuracy: 0.5976 - val_loss: 0.6316 - val_accuracy: 0.6463\n",
            "Epoch 26/100\n",
            "32/32 [==============================] - 2s 68ms/step - loss: 0.6483 - accuracy: 0.6188 - val_loss: 0.6533 - val_accuracy: 0.6194\n",
            "Epoch 27/100\n",
            "32/32 [==============================] - 2s 65ms/step - loss: 0.6423 - accuracy: 0.6374 - val_loss: 0.6440 - val_accuracy: 0.6250\n",
            "Epoch 28/100\n",
            "32/32 [==============================] - 2s 65ms/step - loss: 0.6414 - accuracy: 0.6226 - val_loss: 0.6194 - val_accuracy: 0.6725\n",
            "Epoch 29/100\n",
            "32/32 [==============================] - 2s 65ms/step - loss: 0.6219 - accuracy: 0.6562 - val_loss: 0.6267 - val_accuracy: 0.6281\n",
            "Epoch 30/100\n",
            "32/32 [==============================] - 2s 67ms/step - loss: 0.6422 - accuracy: 0.6282 - val_loss: 0.6290 - val_accuracy: 0.6700\n",
            "Epoch 31/100\n",
            "32/32 [==============================] - 2s 66ms/step - loss: 0.6239 - accuracy: 0.6525 - val_loss: 0.6713 - val_accuracy: 0.6231\n",
            "Epoch 32/100\n",
            "32/32 [==============================] - 2s 67ms/step - loss: 0.6381 - accuracy: 0.6387 - val_loss: 0.6173 - val_accuracy: 0.6844\n",
            "Epoch 33/100\n",
            "32/32 [==============================] - 2s 66ms/step - loss: 0.6183 - accuracy: 0.6628 - val_loss: 0.6505 - val_accuracy: 0.6525\n",
            "Epoch 34/100\n",
            "32/32 [==============================] - 2s 66ms/step - loss: 0.6139 - accuracy: 0.6634 - val_loss: 0.5909 - val_accuracy: 0.6806\n",
            "Epoch 35/100\n",
            "32/32 [==============================] - 2s 64ms/step - loss: 0.5932 - accuracy: 0.6755 - val_loss: 0.5851 - val_accuracy: 0.6869\n",
            "Epoch 36/100\n",
            "32/32 [==============================] - 2s 66ms/step - loss: 0.5912 - accuracy: 0.6787 - val_loss: 0.6040 - val_accuracy: 0.6719\n",
            "Epoch 37/100\n",
            "32/32 [==============================] - 2s 67ms/step - loss: 0.5910 - accuracy: 0.6886 - val_loss: 0.5894 - val_accuracy: 0.6800\n",
            "Epoch 38/100\n",
            "32/32 [==============================] - 2s 67ms/step - loss: 0.5848 - accuracy: 0.6842 - val_loss: 0.6237 - val_accuracy: 0.6525\n",
            "Epoch 39/100\n",
            "32/32 [==============================] - 2s 67ms/step - loss: 0.5954 - accuracy: 0.6835 - val_loss: 0.5717 - val_accuracy: 0.7063\n",
            "Epoch 40/100\n",
            "32/32 [==============================] - 2s 67ms/step - loss: 0.5745 - accuracy: 0.7001 - val_loss: 0.6397 - val_accuracy: 0.6019\n",
            "Epoch 41/100\n",
            "32/32 [==============================] - 2s 67ms/step - loss: 0.6281 - accuracy: 0.6369 - val_loss: 0.5743 - val_accuracy: 0.7106\n",
            "Epoch 42/100\n",
            "32/32 [==============================] - 2s 66ms/step - loss: 0.5664 - accuracy: 0.7047 - val_loss: 0.5556 - val_accuracy: 0.7181\n",
            "Epoch 43/100\n",
            "32/32 [==============================] - 2s 67ms/step - loss: 0.5483 - accuracy: 0.7163 - val_loss: 0.5430 - val_accuracy: 0.7319\n",
            "Epoch 44/100\n",
            "32/32 [==============================] - 2s 67ms/step - loss: 0.5485 - accuracy: 0.7167 - val_loss: 0.5883 - val_accuracy: 0.7019\n",
            "Epoch 45/100\n",
            "32/32 [==============================] - 2s 67ms/step - loss: 0.5813 - accuracy: 0.6848 - val_loss: 0.5315 - val_accuracy: 0.7306\n",
            "Epoch 46/100\n",
            "32/32 [==============================] - 2s 66ms/step - loss: 0.5375 - accuracy: 0.7241 - val_loss: 0.5400 - val_accuracy: 0.7262\n",
            "Epoch 47/100\n",
            "32/32 [==============================] - 2s 67ms/step - loss: 0.5512 - accuracy: 0.7184 - val_loss: 0.5543 - val_accuracy: 0.7069\n",
            "Epoch 48/100\n",
            "32/32 [==============================] - 2s 68ms/step - loss: 0.5342 - accuracy: 0.7266 - val_loss: 0.5304 - val_accuracy: 0.7387\n",
            "Epoch 49/100\n",
            "32/32 [==============================] - 2s 67ms/step - loss: 0.5298 - accuracy: 0.7254 - val_loss: 0.5035 - val_accuracy: 0.7419\n",
            "Epoch 50/100\n",
            "32/32 [==============================] - 2s 67ms/step - loss: 0.5048 - accuracy: 0.7474 - val_loss: 0.4902 - val_accuracy: 0.7625\n",
            "Epoch 51/100\n",
            "32/32 [==============================] - 2s 66ms/step - loss: 0.4984 - accuracy: 0.7527 - val_loss: 0.5040 - val_accuracy: 0.7481\n",
            "Epoch 52/100\n",
            "32/32 [==============================] - 2s 67ms/step - loss: 0.4878 - accuracy: 0.7590 - val_loss: 0.4704 - val_accuracy: 0.7750\n",
            "Epoch 53/100\n",
            "32/32 [==============================] - 2s 66ms/step - loss: 0.4939 - accuracy: 0.7531 - val_loss: 0.5525 - val_accuracy: 0.7131\n",
            "Epoch 54/100\n",
            "32/32 [==============================] - 2s 67ms/step - loss: 0.5104 - accuracy: 0.7447 - val_loss: 0.4810 - val_accuracy: 0.7675\n",
            "Epoch 55/100\n",
            "32/32 [==============================] - 2s 67ms/step - loss: 0.4900 - accuracy: 0.7606 - val_loss: 0.4659 - val_accuracy: 0.7756\n",
            "Epoch 56/100\n",
            "32/32 [==============================] - 2s 67ms/step - loss: 0.4877 - accuracy: 0.7531 - val_loss: 0.4635 - val_accuracy: 0.7700\n",
            "Epoch 57/100\n",
            "32/32 [==============================] - 2s 68ms/step - loss: 0.4372 - accuracy: 0.7918 - val_loss: 0.4582 - val_accuracy: 0.7856\n",
            "Epoch 58/100\n",
            "32/32 [==============================] - 2s 66ms/step - loss: 0.4619 - accuracy: 0.7679 - val_loss: 0.4700 - val_accuracy: 0.7956\n",
            "Epoch 59/100\n",
            "32/32 [==============================] - 2s 67ms/step - loss: 0.4526 - accuracy: 0.7789 - val_loss: 0.4260 - val_accuracy: 0.8019\n",
            "Epoch 60/100\n",
            "32/32 [==============================] - 2s 67ms/step - loss: 0.4314 - accuracy: 0.7967 - val_loss: 0.3979 - val_accuracy: 0.8213\n",
            "Epoch 61/100\n",
            "32/32 [==============================] - 2s 67ms/step - loss: 0.4208 - accuracy: 0.8054 - val_loss: 0.4448 - val_accuracy: 0.7675\n",
            "Epoch 62/100\n",
            "32/32 [==============================] - 2s 67ms/step - loss: 0.4535 - accuracy: 0.7747 - val_loss: 0.5054 - val_accuracy: 0.6969\n",
            "Epoch 63/100\n",
            "32/32 [==============================] - 2s 67ms/step - loss: 0.4589 - accuracy: 0.7661 - val_loss: 0.4061 - val_accuracy: 0.8075\n",
            "Epoch 64/100\n",
            "32/32 [==============================] - 2s 68ms/step - loss: 0.4016 - accuracy: 0.8143 - val_loss: 0.4242 - val_accuracy: 0.8000\n",
            "Epoch 65/100\n",
            "32/32 [==============================] - 2s 67ms/step - loss: 0.3928 - accuracy: 0.8184 - val_loss: 0.3798 - val_accuracy: 0.8400\n",
            "Epoch 66/100\n",
            "32/32 [==============================] - 2s 68ms/step - loss: 0.3683 - accuracy: 0.8312 - val_loss: 0.4122 - val_accuracy: 0.8087\n",
            "Epoch 67/100\n",
            "32/32 [==============================] - 2s 66ms/step - loss: 0.3518 - accuracy: 0.8345 - val_loss: 0.3938 - val_accuracy: 0.8319\n",
            "Epoch 68/100\n",
            "32/32 [==============================] - 2s 68ms/step - loss: 0.3706 - accuracy: 0.8362 - val_loss: 0.4098 - val_accuracy: 0.8037\n",
            "Epoch 69/100\n",
            "32/32 [==============================] - 2s 67ms/step - loss: 0.3528 - accuracy: 0.8434 - val_loss: 0.3261 - val_accuracy: 0.8544\n",
            "Epoch 70/100\n",
            "32/32 [==============================] - 2s 67ms/step - loss: 0.3186 - accuracy: 0.8564 - val_loss: 0.3652 - val_accuracy: 0.8363\n",
            "Epoch 71/100\n",
            "32/32 [==============================] - 2s 66ms/step - loss: 0.3708 - accuracy: 0.8308 - val_loss: 0.3601 - val_accuracy: 0.8350\n",
            "Epoch 72/100\n",
            "32/32 [==============================] - 2s 68ms/step - loss: 0.3406 - accuracy: 0.8482 - val_loss: 0.4096 - val_accuracy: 0.8044\n",
            "Epoch 73/100\n",
            "32/32 [==============================] - 2s 68ms/step - loss: 0.3660 - accuracy: 0.8339 - val_loss: 0.3757 - val_accuracy: 0.8231\n",
            "Epoch 74/100\n",
            "32/32 [==============================] - 2s 66ms/step - loss: 0.3519 - accuracy: 0.8377 - val_loss: 0.3290 - val_accuracy: 0.8419\n",
            "Epoch 75/100\n",
            "32/32 [==============================] - 2s 67ms/step - loss: 0.2819 - accuracy: 0.8743 - val_loss: 0.3503 - val_accuracy: 0.8306\n",
            "Epoch 76/100\n",
            "32/32 [==============================] - 2s 69ms/step - loss: 0.3078 - accuracy: 0.8608 - val_loss: 0.4323 - val_accuracy: 0.8131\n",
            "Epoch 77/100\n",
            "32/32 [==============================] - 2s 68ms/step - loss: 0.3446 - accuracy: 0.8398 - val_loss: 0.2522 - val_accuracy: 0.8925\n",
            "Epoch 78/100\n",
            "32/32 [==============================] - 2s 68ms/step - loss: 0.2789 - accuracy: 0.8738 - val_loss: 0.2521 - val_accuracy: 0.8888\n",
            "Epoch 79/100\n",
            "32/32 [==============================] - 2s 67ms/step - loss: 0.2801 - accuracy: 0.8705 - val_loss: 0.2253 - val_accuracy: 0.9056\n",
            "Epoch 80/100\n",
            "32/32 [==============================] - 2s 67ms/step - loss: 0.2381 - accuracy: 0.8940 - val_loss: 0.2225 - val_accuracy: 0.9069\n",
            "Epoch 81/100\n",
            "32/32 [==============================] - 2s 68ms/step - loss: 0.2796 - accuracy: 0.8766 - val_loss: 0.3591 - val_accuracy: 0.8519\n",
            "Epoch 82/100\n",
            "32/32 [==============================] - 2s 68ms/step - loss: 0.2630 - accuracy: 0.8875 - val_loss: 0.3295 - val_accuracy: 0.8506\n",
            "Epoch 83/100\n",
            "32/32 [==============================] - 2s 67ms/step - loss: 0.2758 - accuracy: 0.8758 - val_loss: 0.2415 - val_accuracy: 0.8988\n",
            "Epoch 84/100\n",
            "32/32 [==============================] - 2s 68ms/step - loss: 0.2252 - accuracy: 0.9088 - val_loss: 0.2347 - val_accuracy: 0.9031\n",
            "Epoch 85/100\n",
            "32/32 [==============================] - 2s 68ms/step - loss: 0.2009 - accuracy: 0.9145 - val_loss: 0.1732 - val_accuracy: 0.9287\n",
            "Epoch 86/100\n",
            "32/32 [==============================] - 2s 67ms/step - loss: 0.2076 - accuracy: 0.9113 - val_loss: 0.2701 - val_accuracy: 0.9044\n",
            "Epoch 87/100\n",
            "32/32 [==============================] - 2s 67ms/step - loss: 0.2830 - accuracy: 0.8785 - val_loss: 0.2261 - val_accuracy: 0.9056\n",
            "Epoch 88/100\n",
            "32/32 [==============================] - 2s 68ms/step - loss: 0.2031 - accuracy: 0.9135 - val_loss: 0.2194 - val_accuracy: 0.9081\n",
            "Epoch 89/100\n",
            "32/32 [==============================] - 2s 68ms/step - loss: 0.2412 - accuracy: 0.8992 - val_loss: 0.1872 - val_accuracy: 0.9294\n",
            "Epoch 90/100\n",
            "32/32 [==============================] - 2s 66ms/step - loss: 0.2233 - accuracy: 0.9096 - val_loss: 0.2477 - val_accuracy: 0.8906\n",
            "Epoch 91/100\n",
            "32/32 [==============================] - 2s 68ms/step - loss: 0.2099 - accuracy: 0.9148 - val_loss: 0.2558 - val_accuracy: 0.8819\n",
            "Epoch 92/100\n",
            "32/32 [==============================] - 2s 68ms/step - loss: 0.2025 - accuracy: 0.9117 - val_loss: 0.1743 - val_accuracy: 0.9331\n",
            "Epoch 93/100\n",
            "32/32 [==============================] - 2s 68ms/step - loss: 0.1878 - accuracy: 0.9221 - val_loss: 0.1383 - val_accuracy: 0.9425\n",
            "Epoch 94/100\n",
            "32/32 [==============================] - 2s 67ms/step - loss: 0.1459 - accuracy: 0.9436 - val_loss: 0.2914 - val_accuracy: 0.8800\n",
            "Epoch 95/100\n",
            "32/32 [==============================] - 2s 67ms/step - loss: 0.2128 - accuracy: 0.9089 - val_loss: 0.1911 - val_accuracy: 0.9294\n",
            "Epoch 96/100\n",
            "32/32 [==============================] - 2s 66ms/step - loss: 0.2124 - accuracy: 0.9113 - val_loss: 0.1218 - val_accuracy: 0.9556\n",
            "Epoch 97/100\n",
            "32/32 [==============================] - 2s 69ms/step - loss: 0.1185 - accuracy: 0.9535 - val_loss: 0.0931 - val_accuracy: 0.9619\n",
            "Epoch 98/100\n",
            "32/32 [==============================] - 2s 68ms/step - loss: 0.1025 - accuracy: 0.9589 - val_loss: 0.0974 - val_accuracy: 0.9625\n",
            "Epoch 99/100\n",
            "32/32 [==============================] - 2s 68ms/step - loss: 0.1288 - accuracy: 0.9441 - val_loss: 0.1092 - val_accuracy: 0.9481\n",
            "Epoch 100/100\n",
            "32/32 [==============================] - 2s 68ms/step - loss: 0.2759 - accuracy: 0.8844 - val_loss: 0.3149 - val_accuracy: 0.8600\n"
          ],
          "name": "stdout"
        },
        {
          "output_type": "display_data",
          "data": {
            "image/png": "[encoded data removed]",
            "text/plain": [
              "<Figure size 432x288 with 1 Axes>"
            ]
          },
          "metadata": {
            "tags": [],
            "needs_background": "light"
          }
        },
        {
          "output_type": "stream",
          "text": [
            "Test loss:  1.7754216194152832\n",
            "Test accuracy:  0.6209999918937683\n"
          ],
          "name": "stdout"
        }
      ]
    },
    {
      "cell_type": "markdown",
      "metadata": {
        "id": "srRX1KBh1L81"
      },
      "source": [
        "Report Precision, Recall and F1-Score"
      ]
    },
    {
      "cell_type": "code",
      "metadata": {
        "id": "28Zxg0UmGar7"
      },
      "source": [
        "predictes_classes = model.predict(test_x)\n",
        "predicted_classes = np.argmax(np.round(predictes_classes), axis = 1)"
      ],
      "execution_count": null,
      "outputs": []
    },
    {
      "cell_type": "code",
      "metadata": {
        "colab": {
          "base_uri": "https://localhost:8080/"
        },
        "id": "kvV4TFs3GlUA",
        "outputId": "ee401dbf-3d9d-4773-cfad-7548ba813e5e"
      },
      "source": [
        "from sklearn.metrics import classification_report\n",
        "target_names = [\"Class {}\".format(i) for i in range(classes)]\n",
        "print(classification_report(test_vec, predicted_classes, target_names = target_names))"
      ],
      "execution_count": null,
      "outputs": [
        {
          "output_type": "stream",
          "text": [
            "              precision    recall  f1-score   support\n",
            "\n",
            "     Class 0       0.59      0.78      0.67      1000\n",
            "     Class 1       0.68      0.46      0.55      1000\n",
            "\n",
            "    accuracy                           0.62      2000\n",
            "   macro avg       0.64      0.62      0.61      2000\n",
            "weighted avg       0.64      0.62      0.61      2000\n",
            "\n"
          ],
          "name": "stdout"
        }
      ]
    },
    {
      "cell_type": "markdown",
      "metadata": {
        "id": "690MmD_Ik20Z"
      },
      "source": [
        "# تحلیل مدل اولیه\n",
        "\n",
        "با مقایسه صحت مدل در زمان آموزش و در زمان تست درمی‌یابیم که مدل دچار پیش‌برازش شده است، چرا که در زمان آموزش صحت مدل تا ۹۶ درصد افزایش یافته و در ۸۸ درصد متوقف شده است اما در زمان تست به ۶۲ درصد کاهش یافته است.\n",
        "\n",
        "برای حل این مشکل میتوانیم:\n",
        "- از مدل پیچیده تری استفاده کینم\n",
        "- در تکنیک منظم سازی دراپ‌اوت بهره بگیریم\n",
        "- به کمک آگمنتیشن تغییراتی در داده های زمان آموزش ایجاد کنیم\n",
        "\n",
        "در ادامه بوسیله‌ی دو راه حل آخر سعی شده که عملکرد مدل را بهبود دهیم."
      ]
    },
    {
      "cell_type": "markdown",
      "metadata": {
        "id": "zhb7FL87IGXz"
      },
      "source": [
        "# 2- Train model with Dropout Regularization"
      ]
    },
    {
      "cell_type": "code",
      "metadata": {
        "colab": {
          "base_uri": "https://localhost:8080/",
          "height": 1000
        },
        "id": "oNn6m5UnIPA9",
        "outputId": "6ff087a6-8d46-4ce7-8fa0-4c6a2a676085"
      },
      "source": [
        "model = train_model({\n",
        "    'in_drop_out':0,\n",
        "    'layers' : [\n",
        "          (lambda : Activation('relu'),0.1,[2000,1600,800,600,500]+[400]*3+[400]*5+[300,250,200,150,120]), \n",
        "          (lambda : Activation('softmax'),0,[2])\n",
        "    ],\n",
        "    'learning_rate':3e-4,\n",
        "    'batch':256,\n",
        "    'epochs':100\n",
        "})"
      ],
      "execution_count": null,
      "outputs": [
        {
          "output_type": "stream",
          "text": [
            "Epoch 1/100\n",
            "32/32 [==============================] - 4s 77ms/step - loss: 0.6997 - accuracy: 0.5028 - val_loss: 0.6937 - val_accuracy: 0.4856\n",
            "Epoch 2/100\n",
            "32/32 [==============================] - 2s 68ms/step - loss: 0.6948 - accuracy: 0.4997 - val_loss: 0.6939 - val_accuracy: 0.4856\n",
            "Epoch 3/100\n",
            "32/32 [==============================] - 2s 67ms/step - loss: 0.6940 - accuracy: 0.4954 - val_loss: 0.6927 - val_accuracy: 0.5163\n",
            "Epoch 4/100\n",
            "32/32 [==============================] - 2s 69ms/step - loss: 0.6931 - accuracy: 0.5056 - val_loss: 0.6932 - val_accuracy: 0.4819\n",
            "Epoch 5/100\n",
            "32/32 [==============================] - 2s 67ms/step - loss: 0.6934 - accuracy: 0.5024 - val_loss: 0.6945 - val_accuracy: 0.4856\n",
            "Epoch 6/100\n",
            "32/32 [==============================] - 2s 68ms/step - loss: 0.6935 - accuracy: 0.4981 - val_loss: 0.6919 - val_accuracy: 0.5294\n",
            "Epoch 7/100\n",
            "32/32 [==============================] - 2s 67ms/step - loss: 0.6922 - accuracy: 0.5226 - val_loss: 0.6909 - val_accuracy: 0.5506\n",
            "Epoch 8/100\n",
            "32/32 [==============================] - 2s 68ms/step - loss: 0.6912 - accuracy: 0.5313 - val_loss: 0.6924 - val_accuracy: 0.5238\n",
            "Epoch 9/100\n",
            "32/32 [==============================] - 2s 67ms/step - loss: 0.6927 - accuracy: 0.5138 - val_loss: 0.6875 - val_accuracy: 0.6006\n",
            "Epoch 10/100\n",
            "32/32 [==============================] - 2s 67ms/step - loss: 0.6877 - accuracy: 0.5538 - val_loss: 0.6815 - val_accuracy: 0.6081\n",
            "Epoch 11/100\n",
            "32/32 [==============================] - 2s 67ms/step - loss: 0.6880 - accuracy: 0.5352 - val_loss: 0.6955 - val_accuracy: 0.4856\n",
            "Epoch 12/100\n",
            "32/32 [==============================] - 2s 67ms/step - loss: 0.6933 - accuracy: 0.5071 - val_loss: 0.6933 - val_accuracy: 0.4856\n",
            "Epoch 13/100\n",
            "32/32 [==============================] - 2s 67ms/step - loss: 0.6924 - accuracy: 0.5200 - val_loss: 0.6887 - val_accuracy: 0.5788\n",
            "Epoch 14/100\n",
            "32/32 [==============================] - 2s 68ms/step - loss: 0.6881 - accuracy: 0.5630 - val_loss: 0.6944 - val_accuracy: 0.5144\n",
            "Epoch 15/100\n",
            "32/32 [==============================] - 2s 67ms/step - loss: 0.6947 - accuracy: 0.4988 - val_loss: 0.6932 - val_accuracy: 0.5150\n",
            "Epoch 16/100\n",
            "32/32 [==============================] - 2s 67ms/step - loss: 0.6937 - accuracy: 0.4991 - val_loss: 0.6938 - val_accuracy: 0.4863\n",
            "Epoch 17/100\n",
            "32/32 [==============================] - 2s 69ms/step - loss: 0.6937 - accuracy: 0.4928 - val_loss: 0.6931 - val_accuracy: 0.4825\n",
            "Epoch 18/100\n",
            "32/32 [==============================] - 2s 69ms/step - loss: 0.6924 - accuracy: 0.5335 - val_loss: 0.6900 - val_accuracy: 0.5681\n",
            "Epoch 19/100\n",
            "32/32 [==============================] - 2s 68ms/step - loss: 0.6899 - accuracy: 0.5396 - val_loss: 0.6756 - val_accuracy: 0.6069\n",
            "Epoch 20/100\n",
            "32/32 [==============================] - 2s 68ms/step - loss: 0.6962 - accuracy: 0.5411 - val_loss: 0.6945 - val_accuracy: 0.4856\n",
            "Epoch 21/100\n",
            "32/32 [==============================] - 2s 68ms/step - loss: 0.6933 - accuracy: 0.4979 - val_loss: 0.6915 - val_accuracy: 0.5469\n",
            "Epoch 22/100\n",
            "32/32 [==============================] - 2s 66ms/step - loss: 0.6906 - accuracy: 0.5523 - val_loss: 0.6819 - val_accuracy: 0.5556\n",
            "Epoch 23/100\n",
            "32/32 [==============================] - 2s 67ms/step - loss: 0.6809 - accuracy: 0.5574 - val_loss: 0.6790 - val_accuracy: 0.6119\n",
            "Epoch 24/100\n",
            "32/32 [==============================] - 2s 69ms/step - loss: 0.6710 - accuracy: 0.5945 - val_loss: 0.6817 - val_accuracy: 0.5725\n",
            "Epoch 25/100\n",
            "32/32 [==============================] - 2s 67ms/step - loss: 0.6646 - accuracy: 0.6014 - val_loss: 0.6486 - val_accuracy: 0.6281\n",
            "Epoch 26/100\n",
            "32/32 [==============================] - 2s 68ms/step - loss: 0.6633 - accuracy: 0.6075 - val_loss: 0.6683 - val_accuracy: 0.5631\n",
            "Epoch 27/100\n",
            "32/32 [==============================] - 2s 68ms/step - loss: 0.6686 - accuracy: 0.5895 - val_loss: 0.6407 - val_accuracy: 0.6438\n",
            "Epoch 28/100\n",
            "32/32 [==============================] - 2s 67ms/step - loss: 0.6533 - accuracy: 0.6219 - val_loss: 0.6350 - val_accuracy: 0.6481\n",
            "Epoch 29/100\n",
            "32/32 [==============================] - 2s 68ms/step - loss: 0.6462 - accuracy: 0.6291 - val_loss: 0.6239 - val_accuracy: 0.6594\n",
            "Epoch 30/100\n",
            "32/32 [==============================] - 2s 67ms/step - loss: 0.6453 - accuracy: 0.6333 - val_loss: 0.6302 - val_accuracy: 0.6456\n",
            "Epoch 31/100\n",
            "32/32 [==============================] - 2s 68ms/step - loss: 0.6412 - accuracy: 0.6308 - val_loss: 0.6459 - val_accuracy: 0.6519\n",
            "Epoch 32/100\n",
            "32/32 [==============================] - 2s 67ms/step - loss: 0.6447 - accuracy: 0.6345 - val_loss: 0.6293 - val_accuracy: 0.6612\n",
            "Epoch 33/100\n",
            "32/32 [==============================] - 2s 67ms/step - loss: 0.6380 - accuracy: 0.6401 - val_loss: 0.6170 - val_accuracy: 0.6650\n",
            "Epoch 34/100\n",
            "32/32 [==============================] - 2s 68ms/step - loss: 0.6352 - accuracy: 0.6330 - val_loss: 0.6127 - val_accuracy: 0.6756\n",
            "Epoch 35/100\n",
            "32/32 [==============================] - 2s 66ms/step - loss: 0.6263 - accuracy: 0.6543 - val_loss: 0.6181 - val_accuracy: 0.6675\n",
            "Epoch 36/100\n",
            "32/32 [==============================] - 2s 68ms/step - loss: 0.6286 - accuracy: 0.6511 - val_loss: 0.6216 - val_accuracy: 0.6619\n",
            "Epoch 37/100\n",
            "32/32 [==============================] - 2s 67ms/step - loss: 0.6242 - accuracy: 0.6624 - val_loss: 0.6266 - val_accuracy: 0.6662\n",
            "Epoch 38/100\n",
            "32/32 [==============================] - 2s 67ms/step - loss: 0.6265 - accuracy: 0.6577 - val_loss: 0.6025 - val_accuracy: 0.6787\n",
            "Epoch 39/100\n",
            "32/32 [==============================] - 2s 67ms/step - loss: 0.6264 - accuracy: 0.6500 - val_loss: 0.6135 - val_accuracy: 0.6581\n",
            "Epoch 40/100\n",
            "32/32 [==============================] - 2s 67ms/step - loss: 0.6279 - accuracy: 0.6512 - val_loss: 0.6272 - val_accuracy: 0.6419\n",
            "Epoch 41/100\n",
            "32/32 [==============================] - 2s 68ms/step - loss: 0.6261 - accuracy: 0.6508 - val_loss: 0.6042 - val_accuracy: 0.6806\n",
            "Epoch 42/100\n",
            "32/32 [==============================] - 2s 67ms/step - loss: 0.6131 - accuracy: 0.6629 - val_loss: 0.5958 - val_accuracy: 0.6888\n",
            "Epoch 43/100\n",
            "32/32 [==============================] - 2s 67ms/step - loss: 0.6019 - accuracy: 0.6709 - val_loss: 0.6010 - val_accuracy: 0.6750\n",
            "Epoch 44/100\n",
            "32/32 [==============================] - 2s 66ms/step - loss: 0.6109 - accuracy: 0.6719 - val_loss: 0.5988 - val_accuracy: 0.6794\n",
            "Epoch 45/100\n",
            "32/32 [==============================] - 2s 69ms/step - loss: 0.6222 - accuracy: 0.6631 - val_loss: 0.6114 - val_accuracy: 0.6956\n",
            "Epoch 46/100\n",
            "32/32 [==============================] - 2s 67ms/step - loss: 0.6158 - accuracy: 0.6639 - val_loss: 0.5935 - val_accuracy: 0.7038\n",
            "Epoch 47/100\n",
            "32/32 [==============================] - 2s 67ms/step - loss: 0.6006 - accuracy: 0.6856 - val_loss: 0.5830 - val_accuracy: 0.7006\n",
            "Epoch 48/100\n",
            "32/32 [==============================] - 2s 67ms/step - loss: 0.6074 - accuracy: 0.6739 - val_loss: 0.5970 - val_accuracy: 0.6837\n",
            "Epoch 49/100\n",
            "32/32 [==============================] - 2s 67ms/step - loss: 0.5951 - accuracy: 0.6767 - val_loss: 0.5910 - val_accuracy: 0.6950\n",
            "Epoch 50/100\n",
            "32/32 [==============================] - 2s 66ms/step - loss: 0.5956 - accuracy: 0.6876 - val_loss: 0.5811 - val_accuracy: 0.6881\n",
            "Epoch 51/100\n",
            "32/32 [==============================] - 2s 68ms/step - loss: 0.5896 - accuracy: 0.6912 - val_loss: 0.5764 - val_accuracy: 0.7006\n",
            "Epoch 52/100\n",
            "32/32 [==============================] - 2s 68ms/step - loss: 0.5941 - accuracy: 0.6856 - val_loss: 0.5551 - val_accuracy: 0.7156\n",
            "Epoch 53/100\n",
            "32/32 [==============================] - 2s 69ms/step - loss: 0.5770 - accuracy: 0.6993 - val_loss: 0.5650 - val_accuracy: 0.7194\n",
            "Epoch 54/100\n",
            "32/32 [==============================] - 2s 68ms/step - loss: 0.5928 - accuracy: 0.6948 - val_loss: 0.5561 - val_accuracy: 0.7244\n",
            "Epoch 55/100\n",
            "32/32 [==============================] - 2s 67ms/step - loss: 0.5820 - accuracy: 0.7003 - val_loss: 0.5675 - val_accuracy: 0.7125\n",
            "Epoch 56/100\n",
            "32/32 [==============================] - 2s 68ms/step - loss: 0.5719 - accuracy: 0.7026 - val_loss: 0.5699 - val_accuracy: 0.7031\n",
            "Epoch 57/100\n",
            "32/32 [==============================] - 2s 67ms/step - loss: 0.5738 - accuracy: 0.7116 - val_loss: 0.5685 - val_accuracy: 0.7150\n",
            "Epoch 58/100\n",
            "32/32 [==============================] - 2s 67ms/step - loss: 0.5691 - accuracy: 0.7152 - val_loss: 0.5675 - val_accuracy: 0.7031\n",
            "Epoch 59/100\n",
            "32/32 [==============================] - 2s 67ms/step - loss: 0.5806 - accuracy: 0.7001 - val_loss: 0.5540 - val_accuracy: 0.7219\n",
            "Epoch 60/100\n",
            "32/32 [==============================] - 2s 68ms/step - loss: 0.5666 - accuracy: 0.6989 - val_loss: 0.5819 - val_accuracy: 0.6931\n",
            "Epoch 61/100\n",
            "32/32 [==============================] - 2s 66ms/step - loss: 0.5925 - accuracy: 0.6860 - val_loss: 0.5660 - val_accuracy: 0.7081\n",
            "Epoch 62/100\n",
            "32/32 [==============================] - 2s 67ms/step - loss: 0.5876 - accuracy: 0.6980 - val_loss: 0.5642 - val_accuracy: 0.7063\n",
            "Epoch 63/100\n",
            "32/32 [==============================] - 2s 68ms/step - loss: 0.5816 - accuracy: 0.6988 - val_loss: 0.5533 - val_accuracy: 0.7194\n",
            "Epoch 64/100\n",
            "32/32 [==============================] - 2s 68ms/step - loss: 0.5566 - accuracy: 0.7261 - val_loss: 0.5521 - val_accuracy: 0.7450\n",
            "Epoch 65/100\n",
            "32/32 [==============================] - 2s 67ms/step - loss: 0.5536 - accuracy: 0.7246 - val_loss: 0.5648 - val_accuracy: 0.6919\n",
            "Epoch 66/100\n",
            "32/32 [==============================] - 2s 68ms/step - loss: 0.5678 - accuracy: 0.7109 - val_loss: 0.5550 - val_accuracy: 0.7262\n",
            "Epoch 67/100\n",
            "32/32 [==============================] - 2s 68ms/step - loss: 0.5697 - accuracy: 0.7145 - val_loss: 0.5245 - val_accuracy: 0.7556\n",
            "Epoch 68/100\n",
            "32/32 [==============================] - 2s 69ms/step - loss: 0.5307 - accuracy: 0.7343 - val_loss: 0.5500 - val_accuracy: 0.7250\n",
            "Epoch 69/100\n",
            "32/32 [==============================] - 2s 66ms/step - loss: 0.5555 - accuracy: 0.7189 - val_loss: 0.5262 - val_accuracy: 0.7419\n",
            "Epoch 70/100\n",
            "32/32 [==============================] - 2s 66ms/step - loss: 0.5446 - accuracy: 0.7294 - val_loss: 0.5165 - val_accuracy: 0.7462\n",
            "Epoch 71/100\n",
            "32/32 [==============================] - 2s 69ms/step - loss: 0.5301 - accuracy: 0.7399 - val_loss: 0.5303 - val_accuracy: 0.7237\n",
            "Epoch 72/100\n",
            "32/32 [==============================] - 2s 69ms/step - loss: 0.5400 - accuracy: 0.7364 - val_loss: 0.5291 - val_accuracy: 0.7369\n",
            "Epoch 73/100\n",
            "32/32 [==============================] - 2s 68ms/step - loss: 0.5416 - accuracy: 0.7284 - val_loss: 0.5094 - val_accuracy: 0.7594\n",
            "Epoch 74/100\n",
            "32/32 [==============================] - 2s 69ms/step - loss: 0.5375 - accuracy: 0.7290 - val_loss: 0.5026 - val_accuracy: 0.7669\n",
            "Epoch 75/100\n",
            "32/32 [==============================] - 2s 70ms/step - loss: 0.5134 - accuracy: 0.7552 - val_loss: 0.5011 - val_accuracy: 0.7663\n",
            "Epoch 76/100\n",
            "32/32 [==============================] - 2s 70ms/step - loss: 0.5297 - accuracy: 0.7449 - val_loss: 0.4950 - val_accuracy: 0.7644\n",
            "Epoch 77/100\n",
            "32/32 [==============================] - 2s 70ms/step - loss: 0.5043 - accuracy: 0.7622 - val_loss: 0.5049 - val_accuracy: 0.7594\n",
            "Epoch 78/100\n",
            "32/32 [==============================] - 2s 68ms/step - loss: 0.5315 - accuracy: 0.7405 - val_loss: 0.5079 - val_accuracy: 0.7738\n",
            "Epoch 79/100\n",
            "32/32 [==============================] - 2s 69ms/step - loss: 0.5283 - accuracy: 0.7458 - val_loss: 0.5301 - val_accuracy: 0.7325\n",
            "Epoch 80/100\n",
            "32/32 [==============================] - 2s 68ms/step - loss: 0.5662 - accuracy: 0.7158 - val_loss: 0.5018 - val_accuracy: 0.7625\n",
            "Epoch 81/100\n",
            "32/32 [==============================] - 2s 68ms/step - loss: 0.5177 - accuracy: 0.7500 - val_loss: 0.5428 - val_accuracy: 0.6931\n",
            "Epoch 82/100\n",
            "32/32 [==============================] - 2s 68ms/step - loss: 0.5375 - accuracy: 0.7335 - val_loss: 0.5267 - val_accuracy: 0.7394\n",
            "Epoch 83/100\n",
            "32/32 [==============================] - 2s 68ms/step - loss: 0.5443 - accuracy: 0.7397 - val_loss: 0.5516 - val_accuracy: 0.7312\n",
            "Epoch 84/100\n",
            "32/32 [==============================] - 2s 67ms/step - loss: 0.5365 - accuracy: 0.7347 - val_loss: 0.5316 - val_accuracy: 0.7387\n",
            "Epoch 85/100\n",
            "32/32 [==============================] - 2s 66ms/step - loss: 0.5514 - accuracy: 0.7237 - val_loss: 0.5170 - val_accuracy: 0.7481\n",
            "Epoch 86/100\n",
            "32/32 [==============================] - 2s 69ms/step - loss: 0.5386 - accuracy: 0.7385 - val_loss: 0.5182 - val_accuracy: 0.7756\n",
            "Epoch 87/100\n",
            "32/32 [==============================] - 2s 69ms/step - loss: 0.5196 - accuracy: 0.7549 - val_loss: 0.4949 - val_accuracy: 0.7594\n",
            "Epoch 88/100\n",
            "32/32 [==============================] - 2s 69ms/step - loss: 0.4963 - accuracy: 0.7701 - val_loss: 0.4872 - val_accuracy: 0.7769\n",
            "Epoch 89/100\n",
            "32/32 [==============================] - 2s 69ms/step - loss: 0.4847 - accuracy: 0.7746 - val_loss: 0.4677 - val_accuracy: 0.7919\n",
            "Epoch 90/100\n",
            "32/32 [==============================] - 2s 67ms/step - loss: 0.4873 - accuracy: 0.7789 - val_loss: 0.4741 - val_accuracy: 0.7844\n",
            "Epoch 91/100\n",
            "32/32 [==============================] - 2s 70ms/step - loss: 0.4823 - accuracy: 0.7837 - val_loss: 0.4980 - val_accuracy: 0.7819\n",
            "Epoch 92/100\n",
            "32/32 [==============================] - 2s 68ms/step - loss: 0.5016 - accuracy: 0.7679 - val_loss: 0.4791 - val_accuracy: 0.7912\n",
            "Epoch 93/100\n",
            "32/32 [==============================] - 2s 68ms/step - loss: 0.4862 - accuracy: 0.7815 - val_loss: 0.4359 - val_accuracy: 0.8219\n",
            "Epoch 94/100\n",
            "32/32 [==============================] - 2s 70ms/step - loss: 0.4597 - accuracy: 0.7946 - val_loss: 0.4856 - val_accuracy: 0.7638\n",
            "Epoch 95/100\n",
            "32/32 [==============================] - 2s 69ms/step - loss: 0.4771 - accuracy: 0.7786 - val_loss: 0.5199 - val_accuracy: 0.7113\n",
            "Epoch 96/100\n",
            "32/32 [==============================] - 2s 69ms/step - loss: 0.5153 - accuracy: 0.7487 - val_loss: 0.4512 - val_accuracy: 0.7962\n",
            "Epoch 97/100\n",
            "32/32 [==============================] - 2s 68ms/step - loss: 0.4802 - accuracy: 0.7811 - val_loss: 0.4703 - val_accuracy: 0.7763\n",
            "Epoch 98/100\n",
            "32/32 [==============================] - 2s 70ms/step - loss: 0.4792 - accuracy: 0.7757 - val_loss: 0.4434 - val_accuracy: 0.8062\n",
            "Epoch 99/100\n",
            "32/32 [==============================] - 2s 69ms/step - loss: 0.4647 - accuracy: 0.7857 - val_loss: 0.4474 - val_accuracy: 0.8019\n",
            "Epoch 100/100\n",
            "32/32 [==============================] - 2s 68ms/step - loss: 0.4744 - accuracy: 0.7830 - val_loss: 0.4450 - val_accuracy: 0.7969\n"
          ],
          "name": "stdout"
        },
        {
          "output_type": "display_data",
          "data": {
            "image/png": "[encoded data removed]",
            "text/plain": [
              "<Figure size 432x288 with 1 Axes>"
            ]
          },
          "metadata": {
            "tags": [],
            "needs_background": "light"
          }
        },
        {
          "output_type": "stream",
          "text": [
            "Test loss:  0.7485341429710388\n",
            "Test accuracy:  0.6299999952316284\n"
          ],
          "name": "stdout"
        }
      ]
    },
    {
      "cell_type": "markdown",
      "metadata": {
        "id": "s8j6Wvga2PM5"
      },
      "source": [
        "Report Precision, Recall and F1-Score"
      ]
    },
    {
      "cell_type": "code",
      "metadata": {
        "id": "Jlk0psuY2IYx"
      },
      "source": [
        "predictes_classes = model.predict(test_x)\n",
        "predicted_classes = np.argmax(np.round(predictes_classes), axis = 1)"
      ],
      "execution_count": null,
      "outputs": []
    },
    {
      "cell_type": "code",
      "metadata": {
        "colab": {
          "base_uri": "https://localhost:8080/"
        },
        "id": "sS5nczx42FsH",
        "outputId": "a38d44df-aa24-494e-de0c-d24f0ec53cc3"
      },
      "source": [
        "from sklearn.metrics import classification_report\n",
        "target_names = [\"Class {}\".format(i) for i in range(classes)]\n",
        "print(classification_report(test_vec, predicted_classes, target_names = target_names))"
      ],
      "execution_count": null,
      "outputs": [
        {
          "output_type": "stream",
          "text": [
            "              precision    recall  f1-score   support\n",
            "\n",
            "     Class 0       0.61      0.72      0.66      1000\n",
            "     Class 1       0.66      0.54      0.59      1000\n",
            "\n",
            "    accuracy                           0.63      2000\n",
            "   macro avg       0.63      0.63      0.63      2000\n",
            "weighted avg       0.63      0.63      0.63      2000\n",
            "\n"
          ],
          "name": "stdout"
        }
      ]
    },
    {
      "cell_type": "markdown",
      "metadata": {
        "id": "e4lD8HZ9mbYd"
      },
      "source": [
        "# تحلیل عملکرد مدل دوم\n",
        "\n",
        "در این مدل از شبکه ای مشابه با شبکه مدل قبل استفاده کردیم با این تفاوت که با استفاده از دراپ‌اوت ۱۰ درصد در لایه‌های درونی، بصورت تصادفی ۱۰ درصد از نرون ها غیرفعال شده اند تا از بیش‌بردازش مدل جلوگیری شود.\n",
        "\n",
        "\n",
        "با وجود اینکه صحت مدل در زمان تست نسبت به حالت اول افزایش یافته است، اما همچنان شاهد آورفیت شدن مدل هستیم چرا که صحت مدل در زمان آموزش و تست فاصله‌ی قابل توجهی دارد."
      ]
    },
    {
      "cell_type": "markdown",
      "metadata": {
        "id": "X0ctm-4PULNj"
      },
      "source": [
        "\n",
        "# 3- Add Data Augmentation(Without dropuot)\n"
      ]
    },
    {
      "cell_type": "code",
      "metadata": {
        "id": "jfKUyZ6VzqZB"
      },
      "source": [
        "from tensorflow.keras.preprocessing.image import ImageDataGenerator\n",
        "\n",
        "def train_model(config):\n",
        "  model = Sequential()\n",
        "\n",
        "  model.add(Flatten(input_shape=(h,w,3)))\n",
        "  model.add(Dropout(config['in_drop_out']))\n",
        "\n",
        "  for act ,drop_out, layers in config['layers']:\n",
        "    for layer in layers:\n",
        "      model.add(Dense(layer))\n",
        "      model.add(act())\n",
        "      model.add(Dropout(drop_out))\n",
        "\n",
        "  model.compile(\n",
        "    optimizer=Adam(config['learning_rate']),\n",
        "    loss=categorical_crossentropy,\n",
        "    metrics=['accuracy']\n",
        "  )\n",
        "\n",
        "  train_datagen = ImageDataGenerator(\n",
        "        rotation_range=config['aug_rotation'],\n",
        "        width_shift_range=config['aug_shift_w'],\n",
        "        height_shift_range=config['aug_shift_h'],\n",
        "        shear_range=config['aug_shear'],\n",
        "        zoom_range=config['aug_zoom'],\n",
        "        horizontal_flip=config['aug_horizontal_flip'],\n",
        "        fill_mode='nearest'\n",
        "  )\n",
        "\n",
        "  train_generator = train_datagen.flow(train_X, train_Label, batch_size = config['batch'])\n",
        "\n",
        "  validation_datagen = ImageDataGenerator()\n",
        "  validation_generator = validation_datagen.flow(valid_X,valid_Label,batch_size=256)\n",
        "\n",
        "  history = model.fit(train_generator,\n",
        "                      validation_data=validation_generator,\n",
        "                      epochs = config['epochs'],\n",
        "                    )\n",
        "  \n",
        "  plt.plot(history.history['accuracy'])\n",
        "  plt.plot(history.history['val_accuracy'])\n",
        "  plt.title('Model Accuracy')\n",
        "  plt.ylabel('accuracy')\n",
        "  plt.xlabel('epoch')\n",
        "  plt.legend(['train','validation'],loc='lower right')\n",
        "  plt.show()\n",
        "\n",
        "  test_eval = model.evaluate(test_x, test_label, verbose = 0)\n",
        "  print('Test loss: ', test_eval[0])\n",
        "  print('Test accuracy: ', test_eval[1])\n",
        "\n",
        "  return model"
      ],
      "execution_count": null,
      "outputs": []
    },
    {
      "cell_type": "code",
      "metadata": {
        "colab": {
          "base_uri": "https://localhost:8080/",
          "height": 1000
        },
        "id": "9TpjPKIIztbV",
        "outputId": "93f89a38-b059-4f54-d09c-8eabdf229d85"
      },
      "source": [
        "model = train_model({\n",
        "    'in_drop_out':0,\n",
        "    'layers' : [\n",
        "          (lambda : Activation('relu'),0,[2000,1600,800,600,500]+[400]*3+[400]*5+[300,250,200,150,120]), \n",
        "          (lambda : Activation('softmax'),0,[2])\n",
        "    ],\n",
        "    'learning_rate':3e-4,\n",
        "    'batch':256,\n",
        "    'epochs':100,\n",
        "    'aug_rotation':10,\n",
        "    'aug_shift_w':0.04,\n",
        "    'aug_shift_h':0.04,\n",
        "    'aug_shear':0.04,\n",
        "    'aug_zoom':0.04,\n",
        "    'aug_horizontal_flip':True\n",
        "})"
      ],
      "execution_count": null,
      "outputs": [
        {
          "output_type": "stream",
          "text": [
            "Epoch 1/100\n",
            "25/25 [==============================] - 20s 755ms/step - loss: 0.6945 - accuracy: 0.4950 - val_loss: 0.6925 - val_accuracy: 0.5144\n",
            "Epoch 2/100\n",
            "25/25 [==============================] - 19s 741ms/step - loss: 0.6940 - accuracy: 0.4947 - val_loss: 0.6931 - val_accuracy: 0.4856\n",
            "Epoch 3/100\n",
            "25/25 [==============================] - 19s 742ms/step - loss: 0.6930 - accuracy: 0.5108 - val_loss: 0.6937 - val_accuracy: 0.4856\n",
            "Epoch 4/100\n",
            "25/25 [==============================] - 19s 740ms/step - loss: 0.6926 - accuracy: 0.5101 - val_loss: 0.6933 - val_accuracy: 0.4856\n",
            "Epoch 5/100\n",
            "25/25 [==============================] - 19s 750ms/step - loss: 0.6929 - accuracy: 0.5206 - val_loss: 0.6936 - val_accuracy: 0.4856\n",
            "Epoch 6/100\n",
            "25/25 [==============================] - 19s 747ms/step - loss: 0.6922 - accuracy: 0.5217 - val_loss: 0.6832 - val_accuracy: 0.5800\n",
            "Epoch 7/100\n",
            "25/25 [==============================] - 19s 742ms/step - loss: 0.6902 - accuracy: 0.5347 - val_loss: 0.6917 - val_accuracy: 0.4856\n",
            "Epoch 8/100\n",
            "25/25 [==============================] - 19s 744ms/step - loss: 0.6922 - accuracy: 0.5112 - val_loss: 0.6909 - val_accuracy: 0.5219\n",
            "Epoch 9/100\n",
            "25/25 [==============================] - 19s 745ms/step - loss: 0.6930 - accuracy: 0.5151 - val_loss: 0.6786 - val_accuracy: 0.5838\n",
            "Epoch 10/100\n",
            "25/25 [==============================] - 19s 747ms/step - loss: 0.6765 - accuracy: 0.5795 - val_loss: 0.6747 - val_accuracy: 0.6044\n",
            "Epoch 11/100\n",
            "25/25 [==============================] - 19s 744ms/step - loss: 0.6719 - accuracy: 0.6032 - val_loss: 0.6527 - val_accuracy: 0.6244\n",
            "Epoch 12/100\n",
            "25/25 [==============================] - 19s 742ms/step - loss: 0.6607 - accuracy: 0.6013 - val_loss: 0.6542 - val_accuracy: 0.6137\n",
            "Epoch 13/100\n",
            "25/25 [==============================] - 19s 747ms/step - loss: 0.6765 - accuracy: 0.5922 - val_loss: 0.6591 - val_accuracy: 0.6106\n",
            "Epoch 14/100\n",
            "25/25 [==============================] - 19s 748ms/step - loss: 0.6629 - accuracy: 0.5974 - val_loss: 0.6480 - val_accuracy: 0.6150\n",
            "Epoch 15/100\n",
            "25/25 [==============================] - 19s 740ms/step - loss: 0.6626 - accuracy: 0.6127 - val_loss: 0.6449 - val_accuracy: 0.6338\n",
            "Epoch 16/100\n",
            "25/25 [==============================] - 19s 747ms/step - loss: 0.6509 - accuracy: 0.6214 - val_loss: 0.6593 - val_accuracy: 0.6031\n",
            "Epoch 17/100\n",
            "25/25 [==============================] - 19s 740ms/step - loss: 0.6448 - accuracy: 0.6220 - val_loss: 0.6491 - val_accuracy: 0.6381\n",
            "Epoch 18/100\n",
            "25/25 [==============================] - 19s 741ms/step - loss: 0.6545 - accuracy: 0.6184 - val_loss: 0.6726 - val_accuracy: 0.6087\n",
            "Epoch 19/100\n",
            "25/25 [==============================] - 19s 742ms/step - loss: 0.6712 - accuracy: 0.5941 - val_loss: 0.6533 - val_accuracy: 0.6263\n",
            "Epoch 20/100\n",
            "25/25 [==============================] - 18s 738ms/step - loss: 0.6589 - accuracy: 0.6148 - val_loss: 0.6533 - val_accuracy: 0.6194\n",
            "Epoch 21/100\n",
            "25/25 [==============================] - 19s 747ms/step - loss: 0.6415 - accuracy: 0.6291 - val_loss: 0.6331 - val_accuracy: 0.6444\n",
            "Epoch 22/100\n",
            "25/25 [==============================] - 19s 742ms/step - loss: 0.6495 - accuracy: 0.6133 - val_loss: 0.6505 - val_accuracy: 0.5875\n",
            "Epoch 23/100\n",
            "25/25 [==============================] - 19s 745ms/step - loss: 0.6390 - accuracy: 0.6293 - val_loss: 0.6421 - val_accuracy: 0.6231\n",
            "Epoch 24/100\n",
            "25/25 [==============================] - 18s 737ms/step - loss: 0.6380 - accuracy: 0.6348 - val_loss: 0.6374 - val_accuracy: 0.6369\n",
            "Epoch 25/100\n",
            "25/25 [==============================] - 19s 744ms/step - loss: 0.6422 - accuracy: 0.6267 - val_loss: 0.6362 - val_accuracy: 0.6381\n",
            "Epoch 26/100\n",
            "25/25 [==============================] - 19s 743ms/step - loss: 0.6339 - accuracy: 0.6454 - val_loss: 0.6338 - val_accuracy: 0.6394\n",
            "Epoch 27/100\n",
            "25/25 [==============================] - 19s 745ms/step - loss: 0.6331 - accuracy: 0.6411 - val_loss: 0.6354 - val_accuracy: 0.6256\n",
            "Epoch 28/100\n",
            "25/25 [==============================] - 18s 738ms/step - loss: 0.6288 - accuracy: 0.6494 - val_loss: 0.6374 - val_accuracy: 0.6300\n",
            "Epoch 29/100\n",
            "25/25 [==============================] - 19s 740ms/step - loss: 0.6261 - accuracy: 0.6449 - val_loss: 0.6471 - val_accuracy: 0.6231\n",
            "Epoch 30/100\n",
            "25/25 [==============================] - 19s 746ms/step - loss: 0.6333 - accuracy: 0.6436 - val_loss: 0.6422 - val_accuracy: 0.6100\n",
            "Epoch 31/100\n",
            "25/25 [==============================] - 19s 742ms/step - loss: 0.6306 - accuracy: 0.6414 - val_loss: 0.6220 - val_accuracy: 0.6475\n",
            "Epoch 32/100\n",
            "25/25 [==============================] - 19s 750ms/step - loss: 0.6289 - accuracy: 0.6472 - val_loss: 0.6400 - val_accuracy: 0.6219\n",
            "Epoch 33/100\n",
            "25/25 [==============================] - 18s 738ms/step - loss: 0.6352 - accuracy: 0.6500 - val_loss: 0.6405 - val_accuracy: 0.6181\n",
            "Epoch 34/100\n",
            "25/25 [==============================] - 19s 743ms/step - loss: 0.6282 - accuracy: 0.6442 - val_loss: 0.6419 - val_accuracy: 0.6200\n",
            "Epoch 35/100\n",
            "25/25 [==============================] - 19s 743ms/step - loss: 0.6330 - accuracy: 0.6425 - val_loss: 0.6227 - val_accuracy: 0.6400\n",
            "Epoch 36/100\n",
            "25/25 [==============================] - 19s 743ms/step - loss: 0.6214 - accuracy: 0.6488 - val_loss: 0.6313 - val_accuracy: 0.6425\n",
            "Epoch 37/100\n",
            "25/25 [==============================] - 19s 743ms/step - loss: 0.6297 - accuracy: 0.6416 - val_loss: 0.6374 - val_accuracy: 0.6319\n",
            "Epoch 38/100\n",
            "25/25 [==============================] - 18s 737ms/step - loss: 0.6257 - accuracy: 0.6510 - val_loss: 0.6421 - val_accuracy: 0.6175\n",
            "Epoch 39/100\n",
            "25/25 [==============================] - 19s 747ms/step - loss: 0.6247 - accuracy: 0.6453 - val_loss: 0.6233 - val_accuracy: 0.6456\n",
            "Epoch 40/100\n",
            "25/25 [==============================] - 19s 751ms/step - loss: 0.6145 - accuracy: 0.6619 - val_loss: 0.6404 - val_accuracy: 0.6281\n",
            "Epoch 41/100\n",
            "25/25 [==============================] - 19s 744ms/step - loss: 0.6201 - accuracy: 0.6541 - val_loss: 0.6316 - val_accuracy: 0.6344\n",
            "Epoch 42/100\n",
            "25/25 [==============================] - 18s 736ms/step - loss: 0.6197 - accuracy: 0.6507 - val_loss: 0.6325 - val_accuracy: 0.6225\n",
            "Epoch 43/100\n",
            "25/25 [==============================] - 19s 740ms/step - loss: 0.6201 - accuracy: 0.6459 - val_loss: 0.6292 - val_accuracy: 0.6231\n",
            "Epoch 44/100\n",
            "25/25 [==============================] - 19s 748ms/step - loss: 0.6085 - accuracy: 0.6590 - val_loss: 0.6221 - val_accuracy: 0.6513\n",
            "Epoch 45/100\n",
            "25/25 [==============================] - 19s 742ms/step - loss: 0.6231 - accuracy: 0.6516 - val_loss: 0.6465 - val_accuracy: 0.6200\n",
            "Epoch 46/100\n",
            "25/25 [==============================] - 19s 742ms/step - loss: 0.6224 - accuracy: 0.6536 - val_loss: 0.6238 - val_accuracy: 0.6444\n",
            "Epoch 47/100\n",
            "25/25 [==============================] - 18s 736ms/step - loss: 0.6133 - accuracy: 0.6591 - val_loss: 0.6198 - val_accuracy: 0.6562\n",
            "Epoch 48/100\n",
            "25/25 [==============================] - 19s 740ms/step - loss: 0.6024 - accuracy: 0.6661 - val_loss: 0.6210 - val_accuracy: 0.6419\n",
            "Epoch 49/100\n",
            "25/25 [==============================] - 19s 743ms/step - loss: 0.6101 - accuracy: 0.6571 - val_loss: 0.6235 - val_accuracy: 0.6481\n",
            "Epoch 50/100\n",
            "25/25 [==============================] - 19s 740ms/step - loss: 0.6118 - accuracy: 0.6548 - val_loss: 0.6382 - val_accuracy: 0.6375\n",
            "Epoch 51/100\n",
            "25/25 [==============================] - 18s 736ms/step - loss: 0.6326 - accuracy: 0.6422 - val_loss: 0.6241 - val_accuracy: 0.6350\n",
            "Epoch 52/100\n",
            "25/25 [==============================] - 18s 737ms/step - loss: 0.6039 - accuracy: 0.6614 - val_loss: 0.6176 - val_accuracy: 0.6506\n",
            "Epoch 53/100\n",
            "25/25 [==============================] - 19s 742ms/step - loss: 0.6072 - accuracy: 0.6543 - val_loss: 0.6415 - val_accuracy: 0.6244\n",
            "Epoch 54/100\n",
            "25/25 [==============================] - 18s 736ms/step - loss: 0.6195 - accuracy: 0.6481 - val_loss: 0.6200 - val_accuracy: 0.6494\n",
            "Epoch 55/100\n",
            "25/25 [==============================] - 19s 740ms/step - loss: 0.6098 - accuracy: 0.6610 - val_loss: 0.6421 - val_accuracy: 0.6244\n",
            "Epoch 56/100\n",
            "25/25 [==============================] - 19s 739ms/step - loss: 0.6082 - accuracy: 0.6641 - val_loss: 0.6172 - val_accuracy: 0.6631\n",
            "Epoch 57/100\n",
            "25/25 [==============================] - 19s 739ms/step - loss: 0.6029 - accuracy: 0.6672 - val_loss: 0.6219 - val_accuracy: 0.6406\n",
            "Epoch 58/100\n",
            "25/25 [==============================] - 19s 742ms/step - loss: 0.6078 - accuracy: 0.6633 - val_loss: 0.6159 - val_accuracy: 0.6513\n",
            "Epoch 59/100\n",
            "25/25 [==============================] - 18s 736ms/step - loss: 0.6064 - accuracy: 0.6582 - val_loss: 0.6316 - val_accuracy: 0.6456\n",
            "Epoch 60/100\n",
            "25/25 [==============================] - 18s 738ms/step - loss: 0.6095 - accuracy: 0.6662 - val_loss: 0.6208 - val_accuracy: 0.6406\n",
            "Epoch 61/100\n",
            "25/25 [==============================] - 18s 737ms/step - loss: 0.5982 - accuracy: 0.6704 - val_loss: 0.6481 - val_accuracy: 0.6112\n",
            "Epoch 62/100\n",
            "25/25 [==============================] - 19s 742ms/step - loss: 0.6121 - accuracy: 0.6612 - val_loss: 0.6264 - val_accuracy: 0.6400\n",
            "Epoch 63/100\n",
            "25/25 [==============================] - 18s 736ms/step - loss: 0.6099 - accuracy: 0.6570 - val_loss: 0.6181 - val_accuracy: 0.6513\n",
            "Epoch 64/100\n",
            "25/25 [==============================] - 18s 732ms/step - loss: 0.6032 - accuracy: 0.6674 - val_loss: 0.6190 - val_accuracy: 0.6463\n",
            "Epoch 65/100\n",
            "25/25 [==============================] - 18s 735ms/step - loss: 0.5993 - accuracy: 0.6623 - val_loss: 0.6261 - val_accuracy: 0.6394\n",
            "Epoch 66/100\n",
            "25/25 [==============================] - 19s 740ms/step - loss: 0.5930 - accuracy: 0.6741 - val_loss: 0.6181 - val_accuracy: 0.6494\n",
            "Epoch 67/100\n",
            "25/25 [==============================] - 18s 734ms/step - loss: 0.5958 - accuracy: 0.6703 - val_loss: 0.6196 - val_accuracy: 0.6494\n",
            "Epoch 68/100\n",
            "25/25 [==============================] - 18s 737ms/step - loss: 0.5904 - accuracy: 0.6843 - val_loss: 0.6094 - val_accuracy: 0.6644\n",
            "Epoch 69/100\n",
            "25/25 [==============================] - 18s 734ms/step - loss: 0.5946 - accuracy: 0.6676 - val_loss: 0.6140 - val_accuracy: 0.6562\n",
            "Epoch 70/100\n",
            "25/25 [==============================] - 19s 740ms/step - loss: 0.5917 - accuracy: 0.6768 - val_loss: 0.6182 - val_accuracy: 0.6425\n",
            "Epoch 71/100\n",
            "25/25 [==============================] - 19s 741ms/step - loss: 0.5908 - accuracy: 0.6746 - val_loss: 0.6322 - val_accuracy: 0.6256\n",
            "Epoch 72/100\n",
            "25/25 [==============================] - 18s 735ms/step - loss: 0.6091 - accuracy: 0.6664 - val_loss: 0.6352 - val_accuracy: 0.6381\n",
            "Epoch 73/100\n",
            "25/25 [==============================] - 18s 739ms/step - loss: 0.6034 - accuracy: 0.6646 - val_loss: 0.6300 - val_accuracy: 0.6325\n",
            "Epoch 74/100\n",
            "25/25 [==============================] - 18s 734ms/step - loss: 0.5958 - accuracy: 0.6788 - val_loss: 0.6141 - val_accuracy: 0.6475\n",
            "Epoch 75/100\n",
            "25/25 [==============================] - 19s 740ms/step - loss: 0.5894 - accuracy: 0.6749 - val_loss: 0.6296 - val_accuracy: 0.6431\n",
            "Epoch 76/100\n",
            "25/25 [==============================] - 18s 737ms/step - loss: 0.5847 - accuracy: 0.6794 - val_loss: 0.6189 - val_accuracy: 0.6450\n",
            "Epoch 77/100\n",
            "25/25 [==============================] - 18s 734ms/step - loss: 0.5891 - accuracy: 0.6786 - val_loss: 0.6259 - val_accuracy: 0.6356\n",
            "Epoch 78/100\n",
            "25/25 [==============================] - 18s 737ms/step - loss: 0.6155 - accuracy: 0.6485 - val_loss: 0.6306 - val_accuracy: 0.6381\n",
            "Epoch 79/100\n",
            "25/25 [==============================] - 19s 743ms/step - loss: 0.5956 - accuracy: 0.6676 - val_loss: 0.6336 - val_accuracy: 0.6469\n",
            "Epoch 80/100\n",
            "25/25 [==============================] - 19s 753ms/step - loss: 0.5882 - accuracy: 0.6733 - val_loss: 0.6365 - val_accuracy: 0.6419\n",
            "Epoch 81/100\n",
            "25/25 [==============================] - 19s 768ms/step - loss: 0.5937 - accuracy: 0.6695 - val_loss: 0.6325 - val_accuracy: 0.6400\n",
            "Epoch 82/100\n",
            "25/25 [==============================] - 19s 768ms/step - loss: 0.5921 - accuracy: 0.6741 - val_loss: 0.6162 - val_accuracy: 0.6569\n",
            "Epoch 83/100\n",
            "25/25 [==============================] - 19s 741ms/step - loss: 0.5864 - accuracy: 0.6762 - val_loss: 0.6223 - val_accuracy: 0.6562\n",
            "Epoch 84/100\n",
            "25/25 [==============================] - 19s 743ms/step - loss: 0.5804 - accuracy: 0.6893 - val_loss: 0.6261 - val_accuracy: 0.6444\n",
            "Epoch 85/100\n",
            "25/25 [==============================] - 18s 736ms/step - loss: 0.5955 - accuracy: 0.6561 - val_loss: 0.6325 - val_accuracy: 0.6294\n",
            "Epoch 86/100\n",
            "25/25 [==============================] - 18s 735ms/step - loss: 0.5931 - accuracy: 0.6767 - val_loss: 0.6187 - val_accuracy: 0.6475\n",
            "Epoch 87/100\n",
            "25/25 [==============================] - 19s 740ms/step - loss: 0.5789 - accuracy: 0.6895 - val_loss: 0.6229 - val_accuracy: 0.6481\n",
            "Epoch 88/100\n",
            "25/25 [==============================] - 19s 739ms/step - loss: 0.5853 - accuracy: 0.6834 - val_loss: 0.6222 - val_accuracy: 0.6450\n",
            "Epoch 89/100\n",
            "25/25 [==============================] - 18s 734ms/step - loss: 0.5642 - accuracy: 0.6970 - val_loss: 0.6220 - val_accuracy: 0.6600\n",
            "Epoch 90/100\n",
            "25/25 [==============================] - 18s 735ms/step - loss: 0.5800 - accuracy: 0.6829 - val_loss: 0.6198 - val_accuracy: 0.6488\n",
            "Epoch 91/100\n",
            "25/25 [==============================] - 18s 739ms/step - loss: 0.5884 - accuracy: 0.6683 - val_loss: 0.6147 - val_accuracy: 0.6619\n",
            "Epoch 92/100\n",
            "25/25 [==============================] - 19s 744ms/step - loss: 0.5776 - accuracy: 0.6842 - val_loss: 0.6210 - val_accuracy: 0.6438\n",
            "Epoch 93/100\n",
            "25/25 [==============================] - 19s 743ms/step - loss: 0.5792 - accuracy: 0.6783 - val_loss: 0.6195 - val_accuracy: 0.6556\n",
            "Epoch 94/100\n",
            "25/25 [==============================] - 19s 740ms/step - loss: 0.5732 - accuracy: 0.6964 - val_loss: 0.6170 - val_accuracy: 0.6556\n",
            "Epoch 95/100\n",
            "25/25 [==============================] - 18s 732ms/step - loss: 0.5769 - accuracy: 0.6904 - val_loss: 0.6255 - val_accuracy: 0.6562\n",
            "Epoch 96/100\n",
            "25/25 [==============================] - 19s 740ms/step - loss: 0.5572 - accuracy: 0.7022 - val_loss: 0.6153 - val_accuracy: 0.6612\n",
            "Epoch 97/100\n",
            "25/25 [==============================] - 18s 739ms/step - loss: 0.5673 - accuracy: 0.6926 - val_loss: 0.6375 - val_accuracy: 0.6556\n",
            "Epoch 98/100\n",
            "25/25 [==============================] - 18s 732ms/step - loss: 0.5670 - accuracy: 0.6880 - val_loss: 0.6155 - val_accuracy: 0.6562\n",
            "Epoch 99/100\n",
            "25/25 [==============================] - 18s 733ms/step - loss: 0.5697 - accuracy: 0.6998 - val_loss: 0.6149 - val_accuracy: 0.6650\n",
            "Epoch 100/100\n",
            "25/25 [==============================] - 18s 735ms/step - loss: 0.5619 - accuracy: 0.6969 - val_loss: 0.6167 - val_accuracy: 0.6488\n"
          ],
          "name": "stdout"
        },
        {
          "output_type": "display_data",
          "data": {
            "image/png": "[encoded data removed]",
            "text/plain": [
              "<Figure size 432x288 with 1 Axes>"
            ]
          },
          "metadata": {
            "tags": [],
            "needs_background": "light"
          }
        },
        {
          "output_type": "stream",
          "text": [
            "Test loss:  0.6285426616668701\n",
            "Test accuracy:  0.6464999914169312\n"
          ],
          "name": "stdout"
        }
      ]
    },
    {
      "cell_type": "markdown",
      "metadata": {
        "id": "PTGGStxC4cje"
      },
      "source": [
        "Report Precision, Recall and F1-Score"
      ]
    },
    {
      "cell_type": "code",
      "metadata": {
        "id": "O6oOawVrztQ2"
      },
      "source": [
        "predictes_classes = model.predict(test_x)\n",
        "predicted_classes = np.argmax(np.round(predictes_classes), axis = 1)"
      ],
      "execution_count": null,
      "outputs": []
    },
    {
      "cell_type": "code",
      "metadata": {
        "id": "Xhhg0n9czsA_"
      },
      "source": [
        "from sklearn.metrics import classification_report\n",
        "target_names = [\"Class {}\".format(i) for i in range(classes)]\n",
        "print(classification_report(test_vec, predicted_classes, target_names = target_names))"
      ],
      "execution_count": null,
      "outputs": []
    },
    {
      "cell_type": "markdown",
      "metadata": {
        "id": "kSdrkIHBoQH9"
      },
      "source": [
        "# تحلیل عملکرد مدل سوم\n",
        "\n",
        "مدل سوم و مدل اولیه ساختار شبکه عصبی یکسانی دارند و هر دو از دراپ‌اوت استفاده نکردند،\n",
        " اما مدل سوم برخلاف اولین مدل از دادهای آگمنت شده استفاده کرده است. \n",
        "\n",
        " طبق انتظار، این مدل نسبت به مدل اولیه در زمان تست عملکرد بهتری داشته است و به صحت ۶۴ درصد رسیده است، همچنین در این مدل دیگر شاهد آورفیت شدن مدل نیستیم و بین صحت مدل در زمان آموزش و تست تفاوت چشمگیری دیده نمیشود.\n",
        "\n",
        " لازم به ذکر است که مدل سوم از دومین مدل عملکرد بهتری دارد."
      ]
    },
    {
      "cell_type": "markdown",
      "metadata": {
        "id": "rCFYu6YiZkhf"
      },
      "source": [
        "# 4- Use data augmentation and dropout regularization"
      ]
    },
    {
      "cell_type": "code",
      "metadata": {
        "colab": {
          "base_uri": "https://localhost:8080/",
          "height": 1000
        },
        "id": "K4yJen86a6gq",
        "outputId": "00f2b69d-7810-47ad-d734-180cee59802c"
      },
      "source": [
        "model = train_model({\n",
        "    'in_drop_out':0,\n",
        "    'layers' : [\n",
        "          (lambda : Activation('relu'),0.03,[2000,1600,800,600,500]+[400]*3+[400]*5+[300,250,200,150,120]), \n",
        "          (lambda : Activation('softmax'),0,[2])\n",
        "    ],\n",
        "    'learning_rate':3e-4,\n",
        "    'batch':256,\n",
        "    'epochs':100,\n",
        "    'aug_rotation':10,\n",
        "    'aug_shift_w':0.04,\n",
        "    'aug_shift_h':0.04,\n",
        "    'aug_shear':0.04,\n",
        "    'aug_zoom':0.04,\n",
        "    'aug_horizontal_flip':True\n",
        "})"
      ],
      "execution_count": null,
      "outputs": [
        {
          "output_type": "stream",
          "text": [
            "Epoch 1/100\n",
            "25/25 [==============================] - 20s 742ms/step - loss: 0.6957 - accuracy: 0.5000 - val_loss: 0.6938 - val_accuracy: 0.4856\n",
            "Epoch 2/100\n",
            "25/25 [==============================] - 18s 738ms/step - loss: 0.6938 - accuracy: 0.5030 - val_loss: 0.6932 - val_accuracy: 0.4856\n",
            "Epoch 3/100\n",
            "25/25 [==============================] - 18s 734ms/step - loss: 0.6936 - accuracy: 0.4944 - val_loss: 0.6930 - val_accuracy: 0.5425\n",
            "Epoch 4/100\n",
            "25/25 [==============================] - 19s 741ms/step - loss: 0.6934 - accuracy: 0.4938 - val_loss: 0.6935 - val_accuracy: 0.4856\n",
            "Epoch 5/100\n",
            "25/25 [==============================] - 18s 732ms/step - loss: 0.6933 - accuracy: 0.5004 - val_loss: 0.6931 - val_accuracy: 0.4875\n",
            "Epoch 6/100\n",
            "25/25 [==============================] - 18s 732ms/step - loss: 0.6932 - accuracy: 0.5048 - val_loss: 0.6930 - val_accuracy: 0.4988\n",
            "Epoch 7/100\n",
            "25/25 [==============================] - 18s 731ms/step - loss: 0.6927 - accuracy: 0.5329 - val_loss: 0.6884 - val_accuracy: 0.5675\n",
            "Epoch 8/100\n",
            "25/25 [==============================] - 18s 733ms/step - loss: 0.6910 - accuracy: 0.5461 - val_loss: 0.6763 - val_accuracy: 0.5981\n",
            "Epoch 9/100\n",
            "25/25 [==============================] - 19s 740ms/step - loss: 0.6858 - accuracy: 0.5553 - val_loss: 0.6969 - val_accuracy: 0.4856\n",
            "Epoch 10/100\n",
            "25/25 [==============================] - 18s 730ms/step - loss: 0.6940 - accuracy: 0.5064 - val_loss: 0.6938 - val_accuracy: 0.4856\n",
            "Epoch 11/100\n",
            "25/25 [==============================] - 18s 734ms/step - loss: 0.6934 - accuracy: 0.4948 - val_loss: 0.6932 - val_accuracy: 0.4856\n",
            "Epoch 12/100\n",
            "25/25 [==============================] - 18s 735ms/step - loss: 0.6905 - accuracy: 0.5344 - val_loss: 0.6869 - val_accuracy: 0.5500\n",
            "Epoch 13/100\n",
            "25/25 [==============================] - 19s 738ms/step - loss: 0.6831 - accuracy: 0.5605 - val_loss: 0.6763 - val_accuracy: 0.5856\n",
            "Epoch 14/100\n",
            "25/25 [==============================] - 18s 736ms/step - loss: 0.6755 - accuracy: 0.5916 - val_loss: 0.6585 - val_accuracy: 0.6081\n",
            "Epoch 15/100\n",
            "25/25 [==============================] - 18s 735ms/step - loss: 0.6711 - accuracy: 0.5937 - val_loss: 0.6662 - val_accuracy: 0.6037\n",
            "Epoch 16/100\n",
            "25/25 [==============================] - 18s 731ms/step - loss: 0.6688 - accuracy: 0.5850 - val_loss: 0.6535 - val_accuracy: 0.6056\n",
            "Epoch 17/100\n",
            "25/25 [==============================] - 18s 732ms/step - loss: 0.6627 - accuracy: 0.6064 - val_loss: 0.6578 - val_accuracy: 0.6175\n",
            "Epoch 18/100\n",
            "25/25 [==============================] - 18s 730ms/step - loss: 0.6686 - accuracy: 0.6042 - val_loss: 0.6570 - val_accuracy: 0.6187\n",
            "Epoch 19/100\n",
            "25/25 [==============================] - 18s 728ms/step - loss: 0.6611 - accuracy: 0.6149 - val_loss: 0.6480 - val_accuracy: 0.6263\n",
            "Epoch 20/100\n",
            "25/25 [==============================] - 18s 732ms/step - loss: 0.6572 - accuracy: 0.6096 - val_loss: 0.6500 - val_accuracy: 0.6363\n",
            "Epoch 21/100\n",
            "25/25 [==============================] - 18s 732ms/step - loss: 0.6540 - accuracy: 0.6157 - val_loss: 0.6430 - val_accuracy: 0.6250\n",
            "Epoch 22/100\n",
            "25/25 [==============================] - 19s 740ms/step - loss: 0.6508 - accuracy: 0.6218 - val_loss: 0.6471 - val_accuracy: 0.6306\n",
            "Epoch 23/100\n",
            "25/25 [==============================] - 18s 731ms/step - loss: 0.6505 - accuracy: 0.6318 - val_loss: 0.6490 - val_accuracy: 0.6025\n",
            "Epoch 24/100\n",
            "25/25 [==============================] - 18s 734ms/step - loss: 0.6546 - accuracy: 0.6046 - val_loss: 0.6420 - val_accuracy: 0.6219\n",
            "Epoch 25/100\n",
            "25/25 [==============================] - 18s 734ms/step - loss: 0.6475 - accuracy: 0.6246 - val_loss: 0.6314 - val_accuracy: 0.6263\n",
            "Epoch 26/100\n",
            "25/25 [==============================] - 18s 734ms/step - loss: 0.6373 - accuracy: 0.6299 - val_loss: 0.6412 - val_accuracy: 0.6275\n",
            "Epoch 27/100\n",
            "25/25 [==============================] - 18s 738ms/step - loss: 0.6422 - accuracy: 0.6417 - val_loss: 0.6344 - val_accuracy: 0.6375\n",
            "Epoch 28/100\n",
            "25/25 [==============================] - 18s 734ms/step - loss: 0.6412 - accuracy: 0.6258 - val_loss: 0.6431 - val_accuracy: 0.6313\n",
            "Epoch 29/100\n",
            "25/25 [==============================] - 18s 738ms/step - loss: 0.6433 - accuracy: 0.6271 - val_loss: 0.6328 - val_accuracy: 0.6331\n",
            "Epoch 30/100\n",
            "25/25 [==============================] - 18s 738ms/step - loss: 0.6308 - accuracy: 0.6435 - val_loss: 0.6520 - val_accuracy: 0.6125\n",
            "Epoch 31/100\n",
            "25/25 [==============================] - 19s 740ms/step - loss: 0.6400 - accuracy: 0.6275 - val_loss: 0.6292 - val_accuracy: 0.6456\n",
            "Epoch 32/100\n",
            "25/25 [==============================] - 18s 735ms/step - loss: 0.6330 - accuracy: 0.6446 - val_loss: 0.6587 - val_accuracy: 0.5962\n",
            "Epoch 33/100\n",
            "25/25 [==============================] - 18s 734ms/step - loss: 0.6385 - accuracy: 0.6352 - val_loss: 0.6258 - val_accuracy: 0.6506\n",
            "Epoch 34/100\n",
            "25/25 [==============================] - 18s 737ms/step - loss: 0.6341 - accuracy: 0.6302 - val_loss: 0.6275 - val_accuracy: 0.6294\n",
            "Epoch 35/100\n",
            "25/25 [==============================] - 19s 738ms/step - loss: 0.6255 - accuracy: 0.6471 - val_loss: 0.6299 - val_accuracy: 0.6456\n",
            "Epoch 36/100\n",
            "25/25 [==============================] - 18s 739ms/step - loss: 0.6289 - accuracy: 0.6362 - val_loss: 0.6291 - val_accuracy: 0.6394\n",
            "Epoch 37/100\n",
            "25/25 [==============================] - 18s 733ms/step - loss: 0.6333 - accuracy: 0.6336 - val_loss: 0.6252 - val_accuracy: 0.6319\n",
            "Epoch 38/100\n",
            "25/25 [==============================] - 18s 738ms/step - loss: 0.6314 - accuracy: 0.6376 - val_loss: 0.6397 - val_accuracy: 0.6206\n",
            "Epoch 39/100\n",
            "25/25 [==============================] - 18s 734ms/step - loss: 0.6257 - accuracy: 0.6563 - val_loss: 0.6225 - val_accuracy: 0.6463\n",
            "Epoch 40/100\n",
            "25/25 [==============================] - 18s 737ms/step - loss: 0.6173 - accuracy: 0.6468 - val_loss: 0.6344 - val_accuracy: 0.6338\n",
            "Epoch 41/100\n",
            "25/25 [==============================] - 18s 735ms/step - loss: 0.6255 - accuracy: 0.6487 - val_loss: 0.6361 - val_accuracy: 0.6219\n",
            "Epoch 42/100\n",
            "25/25 [==============================] - 18s 738ms/step - loss: 0.6255 - accuracy: 0.6559 - val_loss: 0.6476 - val_accuracy: 0.6288\n",
            "Epoch 43/100\n",
            "25/25 [==============================] - 18s 734ms/step - loss: 0.6345 - accuracy: 0.6398 - val_loss: 0.6238 - val_accuracy: 0.6344\n",
            "Epoch 44/100\n",
            "25/25 [==============================] - 18s 735ms/step - loss: 0.6277 - accuracy: 0.6409 - val_loss: 0.6237 - val_accuracy: 0.6544\n",
            "Epoch 45/100\n",
            "25/25 [==============================] - 19s 741ms/step - loss: 0.6150 - accuracy: 0.6544 - val_loss: 0.6201 - val_accuracy: 0.6344\n",
            "Epoch 46/100\n",
            "25/25 [==============================] - 19s 740ms/step - loss: 0.6226 - accuracy: 0.6559 - val_loss: 0.6308 - val_accuracy: 0.6275\n",
            "Epoch 47/100\n",
            "25/25 [==============================] - 19s 760ms/step - loss: 0.6210 - accuracy: 0.6576 - val_loss: 0.6244 - val_accuracy: 0.6413\n",
            "Epoch 48/100\n",
            "25/25 [==============================] - 19s 757ms/step - loss: 0.6113 - accuracy: 0.6575 - val_loss: 0.6211 - val_accuracy: 0.6531\n",
            "Epoch 49/100\n",
            "25/25 [==============================] - 19s 741ms/step - loss: 0.6128 - accuracy: 0.6566 - val_loss: 0.6215 - val_accuracy: 0.6481\n",
            "Epoch 50/100\n",
            "25/25 [==============================] - 18s 737ms/step - loss: 0.6056 - accuracy: 0.6665 - val_loss: 0.6213 - val_accuracy: 0.6456\n",
            "Epoch 51/100\n",
            "25/25 [==============================] - 18s 735ms/step - loss: 0.6187 - accuracy: 0.6494 - val_loss: 0.6496 - val_accuracy: 0.6050\n",
            "Epoch 52/100\n",
            "25/25 [==============================] - 19s 740ms/step - loss: 0.6155 - accuracy: 0.6561 - val_loss: 0.6255 - val_accuracy: 0.6300\n",
            "Epoch 53/100\n",
            "25/25 [==============================] - 18s 738ms/step - loss: 0.6155 - accuracy: 0.6530 - val_loss: 0.6197 - val_accuracy: 0.6481\n",
            "Epoch 54/100\n",
            "25/25 [==============================] - 18s 731ms/step - loss: 0.6076 - accuracy: 0.6588 - val_loss: 0.6267 - val_accuracy: 0.6494\n",
            "Epoch 55/100\n",
            "25/25 [==============================] - 18s 734ms/step - loss: 0.6199 - accuracy: 0.6531 - val_loss: 0.6333 - val_accuracy: 0.6281\n",
            "Epoch 56/100\n",
            "25/25 [==============================] - 18s 736ms/step - loss: 0.6144 - accuracy: 0.6579 - val_loss: 0.6349 - val_accuracy: 0.6275\n",
            "Epoch 57/100\n",
            "25/25 [==============================] - 18s 735ms/step - loss: 0.6084 - accuracy: 0.6621 - val_loss: 0.6262 - val_accuracy: 0.6431\n",
            "Epoch 58/100\n",
            "25/25 [==============================] - 18s 733ms/step - loss: 0.6126 - accuracy: 0.6569 - val_loss: 0.6342 - val_accuracy: 0.6325\n",
            "Epoch 59/100\n",
            "25/25 [==============================] - 18s 734ms/step - loss: 0.6080 - accuracy: 0.6610 - val_loss: 0.6266 - val_accuracy: 0.6463\n",
            "Epoch 60/100\n",
            "25/25 [==============================] - 18s 732ms/step - loss: 0.6034 - accuracy: 0.6698 - val_loss: 0.6228 - val_accuracy: 0.6425\n",
            "Epoch 61/100\n",
            "25/25 [==============================] - 18s 734ms/step - loss: 0.6047 - accuracy: 0.6629 - val_loss: 0.6247 - val_accuracy: 0.6519\n",
            "Epoch 62/100\n",
            "25/25 [==============================] - 18s 735ms/step - loss: 0.6071 - accuracy: 0.6650 - val_loss: 0.6231 - val_accuracy: 0.6425\n",
            "Epoch 63/100\n",
            "25/25 [==============================] - 18s 736ms/step - loss: 0.6215 - accuracy: 0.6555 - val_loss: 0.6198 - val_accuracy: 0.6413\n",
            "Epoch 64/100\n",
            "25/25 [==============================] - 18s 733ms/step - loss: 0.5964 - accuracy: 0.6685 - val_loss: 0.6204 - val_accuracy: 0.6300\n",
            "Epoch 65/100\n",
            "25/25 [==============================] - 18s 730ms/step - loss: 0.6082 - accuracy: 0.6593 - val_loss: 0.6297 - val_accuracy: 0.6450\n",
            "Epoch 66/100\n",
            "25/25 [==============================] - 18s 738ms/step - loss: 0.6086 - accuracy: 0.6544 - val_loss: 0.6264 - val_accuracy: 0.6406\n",
            "Epoch 67/100\n",
            "25/25 [==============================] - 18s 733ms/step - loss: 0.6179 - accuracy: 0.6525 - val_loss: 0.6237 - val_accuracy: 0.6400\n",
            "Epoch 68/100\n",
            "25/25 [==============================] - 18s 732ms/step - loss: 0.5992 - accuracy: 0.6663 - val_loss: 0.6194 - val_accuracy: 0.6575\n",
            "Epoch 69/100\n",
            "25/25 [==============================] - 18s 732ms/step - loss: 0.6200 - accuracy: 0.6589 - val_loss: 0.6260 - val_accuracy: 0.6350\n",
            "Epoch 70/100\n",
            "25/25 [==============================] - 19s 740ms/step - loss: 0.5963 - accuracy: 0.6765 - val_loss: 0.6111 - val_accuracy: 0.6544\n",
            "Epoch 71/100\n",
            "25/25 [==============================] - 18s 734ms/step - loss: 0.6044 - accuracy: 0.6647 - val_loss: 0.6467 - val_accuracy: 0.6081\n",
            "Epoch 72/100\n",
            "25/25 [==============================] - 18s 734ms/step - loss: 0.6070 - accuracy: 0.6616 - val_loss: 0.6293 - val_accuracy: 0.6356\n",
            "Epoch 73/100\n",
            "25/25 [==============================] - 18s 733ms/step - loss: 0.5966 - accuracy: 0.6746 - val_loss: 0.6282 - val_accuracy: 0.6394\n",
            "Epoch 74/100\n",
            "25/25 [==============================] - 18s 737ms/step - loss: 0.6051 - accuracy: 0.6677 - val_loss: 0.6161 - val_accuracy: 0.6469\n",
            "Epoch 75/100\n",
            "25/25 [==============================] - 18s 736ms/step - loss: 0.6009 - accuracy: 0.6674 - val_loss: 0.6161 - val_accuracy: 0.6481\n",
            "Epoch 76/100\n",
            "25/25 [==============================] - 18s 732ms/step - loss: 0.5968 - accuracy: 0.6696 - val_loss: 0.6294 - val_accuracy: 0.6463\n",
            "Epoch 77/100\n",
            "25/25 [==============================] - 18s 732ms/step - loss: 0.6034 - accuracy: 0.6728 - val_loss: 0.6290 - val_accuracy: 0.6531\n",
            "Epoch 78/100\n",
            "25/25 [==============================] - 18s 732ms/step - loss: 0.6049 - accuracy: 0.6553 - val_loss: 0.6307 - val_accuracy: 0.6425\n",
            "Epoch 79/100\n",
            "25/25 [==============================] - 19s 740ms/step - loss: 0.5899 - accuracy: 0.6758 - val_loss: 0.6168 - val_accuracy: 0.6556\n",
            "Epoch 80/100\n",
            "25/25 [==============================] - 18s 733ms/step - loss: 0.5896 - accuracy: 0.6877 - val_loss: 0.6129 - val_accuracy: 0.6606\n",
            "Epoch 81/100\n",
            "25/25 [==============================] - 18s 732ms/step - loss: 0.5836 - accuracy: 0.6875 - val_loss: 0.6231 - val_accuracy: 0.6606\n",
            "Epoch 82/100\n",
            "25/25 [==============================] - 18s 733ms/step - loss: 0.5917 - accuracy: 0.6841 - val_loss: 0.6177 - val_accuracy: 0.6587\n",
            "Epoch 83/100\n",
            "25/25 [==============================] - 18s 737ms/step - loss: 0.5853 - accuracy: 0.6821 - val_loss: 0.6235 - val_accuracy: 0.6388\n",
            "Epoch 84/100\n",
            "25/25 [==============================] - 18s 737ms/step - loss: 0.5821 - accuracy: 0.6841 - val_loss: 0.6163 - val_accuracy: 0.6669\n",
            "Epoch 85/100\n",
            "25/25 [==============================] - 18s 732ms/step - loss: 0.5866 - accuracy: 0.6855 - val_loss: 0.6368 - val_accuracy: 0.6281\n",
            "Epoch 86/100\n",
            "25/25 [==============================] - 18s 733ms/step - loss: 0.5980 - accuracy: 0.6756 - val_loss: 0.6385 - val_accuracy: 0.6406\n",
            "Epoch 87/100\n",
            "25/25 [==============================] - 18s 735ms/step - loss: 0.5956 - accuracy: 0.6755 - val_loss: 0.6155 - val_accuracy: 0.6513\n",
            "Epoch 88/100\n",
            "25/25 [==============================] - 18s 735ms/step - loss: 0.5829 - accuracy: 0.6913 - val_loss: 0.6275 - val_accuracy: 0.6544\n",
            "Epoch 89/100\n",
            "25/25 [==============================] - 18s 735ms/step - loss: 0.5972 - accuracy: 0.6722 - val_loss: 0.6274 - val_accuracy: 0.6488\n",
            "Epoch 90/100\n",
            "25/25 [==============================] - 18s 734ms/step - loss: 0.5844 - accuracy: 0.6805 - val_loss: 0.6142 - val_accuracy: 0.6538\n",
            "Epoch 91/100\n",
            "25/25 [==============================] - 18s 734ms/step - loss: 0.5849 - accuracy: 0.6828 - val_loss: 0.6273 - val_accuracy: 0.6406\n",
            "Epoch 92/100\n",
            "25/25 [==============================] - 19s 741ms/step - loss: 0.5898 - accuracy: 0.6829 - val_loss: 0.6180 - val_accuracy: 0.6538\n",
            "Epoch 93/100\n",
            "25/25 [==============================] - 18s 732ms/step - loss: 0.5824 - accuracy: 0.6816 - val_loss: 0.6193 - val_accuracy: 0.6581\n",
            "Epoch 94/100\n",
            "25/25 [==============================] - 18s 733ms/step - loss: 0.5913 - accuracy: 0.6849 - val_loss: 0.6151 - val_accuracy: 0.6600\n",
            "Epoch 95/100\n",
            "25/25 [==============================] - 18s 733ms/step - loss: 0.5730 - accuracy: 0.6939 - val_loss: 0.6190 - val_accuracy: 0.6488\n",
            "Epoch 96/100\n",
            "25/25 [==============================] - 18s 738ms/step - loss: 0.5804 - accuracy: 0.6816 - val_loss: 0.6157 - val_accuracy: 0.6506\n",
            "Epoch 97/100\n",
            "25/25 [==============================] - 19s 741ms/step - loss: 0.5772 - accuracy: 0.6944 - val_loss: 0.6206 - val_accuracy: 0.6475\n",
            "Epoch 98/100\n",
            "25/25 [==============================] - 18s 732ms/step - loss: 0.5733 - accuracy: 0.6889 - val_loss: 0.6404 - val_accuracy: 0.6575\n",
            "Epoch 99/100\n",
            "25/25 [==============================] - 18s 735ms/step - loss: 0.5771 - accuracy: 0.6954 - val_loss: 0.6275 - val_accuracy: 0.6381\n",
            "Epoch 100/100\n",
            "25/25 [==============================] - 19s 740ms/step - loss: 0.5733 - accuracy: 0.6833 - val_loss: 0.6276 - val_accuracy: 0.6506\n"
          ],
          "name": "stdout"
        },
        {
          "output_type": "display_data",
          "data": {
            "image/png": "[encoded data removed]",
            "text/plain": [
              "<Figure size 432x288 with 1 Axes>"
            ]
          },
          "metadata": {
            "tags": [],
            "needs_background": "light"
          }
        },
        {
          "output_type": "stream",
          "text": [
            "Test loss:  0.6358494162559509\n",
            "Test accuracy:  0.6449999809265137\n"
          ],
          "name": "stdout"
        }
      ]
    },
    {
      "cell_type": "markdown",
      "metadata": {
        "id": "sGqVnoWytf7r"
      },
      "source": [
        "Report: Accuracy, Precision, Recall, F1-measure"
      ]
    },
    {
      "cell_type": "code",
      "metadata": {
        "id": "3xdCgVHRtt0R"
      },
      "source": [
        "predictes_classes = model.predict(test_x)\n",
        "predicted_classes = np.argmax(np.round(predictes_classes), axis = 1)"
      ],
      "execution_count": null,
      "outputs": []
    },
    {
      "cell_type": "code",
      "metadata": {
        "id": "azWz3Eh0t5SB",
        "colab": {
          "base_uri": "https://localhost:8080/"
        },
        "outputId": "500ffe24-ebf0-4049-9f33-e60b2fa666e7"
      },
      "source": [
        "from sklearn.metrics import classification_report\n",
        "target_names = [\"Class {}\".format(i) for i in range(classes)]\n",
        "print(classification_report(test_vec, predicted_classes, target_names = target_names))"
      ],
      "execution_count": null,
      "outputs": [
        {
          "output_type": "stream",
          "text": [
            "              precision    recall  f1-score   support\n",
            "\n",
            "     Class 0       0.64      0.66      0.65      1000\n",
            "     Class 1       0.65      0.63      0.64      1000\n",
            "\n",
            "    accuracy                           0.65      2000\n",
            "   macro avg       0.65      0.65      0.64      2000\n",
            "weighted avg       0.65      0.65      0.64      2000\n",
            "\n"
          ],
          "name": "stdout"
        }
      ]
    },
    {
      "cell_type": "markdown",
      "metadata": {
        "id": "bF3OOVaKopET"
      },
      "source": [
        "# تحلیل عملکرد چهارمین مدل\n",
        "\n",
        "در این قسمت همانند سه مدل قبلی شبکه یکسانی داریم، مشابه مدل دوم از دراپ‌اوت استفاده کرده ایم و مشابه مدل سوم از داده های آگمنت شده برای آموزش مدل استفاده کرده ایم.\n",
        "\n",
        "در این مدل نیز نسبت به سه مدل قبلی صحت مدل هنگام ارزیابی با داده های تست افزایش یافته است، اگرچه لازم است به این نکته توجه کنیم که درصورت استفاده بیش از انداره از دراپ‌اوت و یا آگمنتیشن مدل آندرفیت شده است و نمیتوانیم به خوبی از قابلیتهای شبکه استفاده کرده و مدل مناسبی آموزش دهیم."
      ]
    }
  ]
}