{
  "nbformat": 4,
  "nbformat_minor": 0,
  "metadata": {
    "accelerator": "GPU",
    "colab": {
      "name": "CI_HW3_CatDogClassifier_Part_5.ipynb",
      "provenance": [],
      "collapsed_sections": [],
      "toc_visible": true,
      "include_colab_link": true
    },
    "kernelspec": {
      "display_name": "Python 3",
      "name": "python3"
    },
    "language_info": {
      "name": "python"
    }
  },
  "cells": [
    {
      "cell_type": "markdown",
      "metadata": {
        "id": "view-in-github",
        "colab_type": "text"
      },
      "source": [
        "<a href=\"https://colab.research.google.com/github/farkoo/Cat-Dog-Classifier/blob/master/CI_HW3_CatDogClassifier_Part_5.ipynb\" target=\"_parent\"><img src=\"https://colab.research.google.com/assets/colab-badge.svg\" alt=\"Open In Colab\"/></a>"
      ]
    },
    {
      "cell_type": "markdown",
      "metadata": {
        "id": "1g4Li6ngEF9d"
      },
      "source": [
        "# Data preprocessing"
      ]
    },
    {
      "cell_type": "code",
      "metadata": {
        "colab": {
          "base_uri": "https://localhost:8080/"
        },
        "id": "Lv6kpqJVWfra",
        "outputId": "f99426a8-2d6c-4153-f535-18d7d602279f"
      },
      "source": [
        "%cd drive/MyDrive"
      ],
      "execution_count": 3,
      "outputs": [
        {
          "output_type": "stream",
          "text": [
            "/content/drive/MyDrive\n"
          ],
          "name": "stdout"
        }
      ]
    },
    {
      "cell_type": "code",
      "metadata": {
        "colab": {
          "base_uri": "https://localhost:8080/"
        },
        "id": "n3cAuIAcK6l4",
        "outputId": "aff55f52-9dc5-472d-8580-ef7b3630aed7"
      },
      "source": [
        "from google.colab import drive\n",
        "drive.mount('/content/drive')"
      ],
      "execution_count": 2,
      "outputs": [
        {
          "output_type": "stream",
          "text": [
            "Mounted at /content/drive\n"
          ],
          "name": "stdout"
        }
      ]
    },
    {
      "cell_type": "code",
      "metadata": {
        "colab": {
          "base_uri": "https://localhost:8080/"
        },
        "id": "38ScwC7bewNw",
        "outputId": "78e9b041-9e61-4a22-8121-e498647b57ec"
      },
      "source": [
        "%%bash\n",
        "git clone \"https://github.com/MKasaei00/IUT-CI-HW3-cat-dog-classifier.git\""
      ],
      "execution_count": null,
      "outputs": [
        {
          "output_type": "stream",
          "text": [
            "Cloning into 'IUT-CI-HW3-cat-dog-classifier'...\n",
            "Checking out files:  76% (10/13)   \rChecking out files:  84% (11/13)   \rChecking out files:  92% (12/13)   \rChecking out files: 100% (13/13)   \rChecking out files: 100% (13/13), done.\n"
          ],
          "name": "stderr"
        }
      ]
    },
    {
      "cell_type": "code",
      "metadata": {
        "colab": {
          "base_uri": "https://localhost:8080/"
        },
        "id": "UvNMNj1whfmG",
        "outputId": "a8e06873-19b3-4957-cebb-d964c56a23fe"
      },
      "source": [
        "%cd IUT-CI-HW3-cat-dog-classifier"
      ],
      "execution_count": 4,
      "outputs": [
        {
          "output_type": "stream",
          "text": [
            "/content/drive/MyDrive/IUT-CI-HW3-cat-dog-classifier\n"
          ],
          "name": "stdout"
        }
      ]
    },
    {
      "cell_type": "code",
      "metadata": {
        "id": "Nb69RhJ5iDrW"
      },
      "source": [
        "%%bash\n",
        "7z x dataset/test_set.zip -odataset\n",
        "7z x dataset/training_set.zip -odataset"
      ],
      "execution_count": null,
      "outputs": []
    },
    {
      "cell_type": "code",
      "metadata": {
        "id": "hTd3JReGlT0r"
      },
      "source": [
        "import numpy as np\n",
        "import os\n",
        "import cv2\n",
        "from google.colab.patches import cv2_imshow\n",
        "from keras.utils import np_utils\n",
        "import matplotlib.pyplot as plt\n",
        "import tensorflow as tf\n",
        "import random\n",
        "import math"
      ],
      "execution_count": 5,
      "outputs": []
    },
    {
      "cell_type": "code",
      "metadata": {
        "id": "NA3x7ObDlopB"
      },
      "source": [
        "test_dir = 'dataset/test_set'\n",
        "training_dir = 'dataset/training_set'"
      ],
      "execution_count": 5,
      "outputs": []
    },
    {
      "cell_type": "code",
      "metadata": {
        "id": "5lNX7WfLln7S"
      },
      "source": [
        "def load_data_from_directory(dir,width,height,classes):\n",
        "  img_data = []\n",
        "  img_label = []\n",
        "  counter = 0\n",
        "  categories = os.listdir(dir)\n",
        "  for category in categories:\n",
        "    for file in os.listdir(os.path.join(dir,category)):\n",
        "      img_path = os.path.join(dir,category,file)\n",
        "      img = cv2.imread(img_path)\n",
        "      if counter%5 == 0:\n",
        "        # Make the images bluer and add to the previous images\n",
        "        red_channel = (img[:,:,0]/1.5) + 80\n",
        "        green_channel = (img[:,:,1]/1.5) + 30\n",
        "        blue_channel = (img[:,:,2]/1.5)\n",
        "        img2 = img\n",
        "        img2[:,:,0] = red_channel\n",
        "        img2[:,:,1] = green_channel\n",
        "        img2[:,:,2] = blue_channel\n",
        "        img2 = cv2.resize(img2,(width,height))\n",
        "        img2 = np.array(img2).astype('float32') / 255\n",
        "        img_data.append(img2)\n",
        "        img_label.append(category)\n",
        "\n",
        "      img = cv2.resize(img,(width,height))\n",
        "      img = np.array(img).astype('float32') / 255\n",
        "      \n",
        "      img_data.append(img)\n",
        "      img_label.append(category)\n",
        "      counter = counter + 1\n",
        "\n",
        "  img_onehot = np_utils.to_categorical([categories.index(label) for label in img_label],classes,dtype=np.ubyte)\n",
        "  img_data = np.array(img_data)\n",
        "  img_onehot = np.array(img_onehot)\n",
        "\n",
        "  zip_list = list(zip(img_data, img_label, img_onehot))\n",
        "  random.shuffle(zip_list)\n",
        "  img_data, img_label, img_onehot = zip(*zip_list)\n",
        "  return img_data , img_label, img_onehot"
      ],
      "execution_count": 6,
      "outputs": []
    },
    {
      "cell_type": "code",
      "metadata": {
        "id": "cVb181xCZZbJ"
      },
      "source": [
        "classes = 2\n",
        "w = 128\n",
        "h = 128"
      ],
      "execution_count": 6,
      "outputs": []
    },
    {
      "cell_type": "code",
      "metadata": {
        "id": "9kpvfOQ3mDqq"
      },
      "source": [
        "train_x , train_label, train_onehot = load_data_from_directory(training_dir,w,h,classes)\n",
        "test_x , test_label, test_onehot = load_data_from_directory(test_dir,w,h,classes)"
      ],
      "execution_count": 9,
      "outputs": []
    },
    {
      "cell_type": "code",
      "metadata": {
        "id": "0TV8o9GRwGPi"
      },
      "source": [
        "test_label2 = []\n",
        "for i, label in enumerate(test_label):\n",
        "     test_label2.append(1) if (label == 'dogs') else test_label2.append(0)"
      ],
      "execution_count": 10,
      "outputs": []
    },
    {
      "cell_type": "code",
      "metadata": {
        "id": "v7XgBhICe2Y6"
      },
      "source": [
        "train_x = np.asarray(train_x)\n",
        "train_label = np.asarray(train_label)\n",
        "train_onehot = np.asarray(train_onehot)\n",
        "\n",
        "test_x = np.asarray(test_x)\n",
        "test_label = np.asarray(test_label2)\n",
        "test_onehot = np.asarray(test_onehot)"
      ],
      "execution_count": 11,
      "outputs": []
    },
    {
      "cell_type": "code",
      "metadata": {
        "id": "cYnCpcoumHxk"
      },
      "source": [
        "!rm -rf cleanData\n",
        "!mkdir cleanData\n",
        "np.save('cleanData/train_x.npy',train_x)\n",
        "np.save('cleanData/train_label.npy',train_label)\n",
        "np.save('cleanData/train_onehot.npy',train_onehot)\n",
        "\n",
        "np.save('cleanData/test_x.npy',test_x)\n",
        "np.save('cleanData/test_label.npy',test_label)\n",
        "np.save('cleanData/test_onehot.npy',test_onehot)"
      ],
      "execution_count": 12,
      "outputs": []
    },
    {
      "cell_type": "code",
      "metadata": {
        "id": "mpcwCHVPmI1z"
      },
      "source": [
        "train_label = np.load('cleanData/train_onehot.npy')\n",
        "train_x = np.load('cleanData/train_x.npy')\n",
        "\n",
        "test_x = np.load('cleanData/test_x.npy')\n",
        "test_label = np.load('cleanData/test_onehot.npy')\n",
        "test_vec = np.load('cleanData/test_label.npy')"
      ],
      "execution_count": 7,
      "outputs": []
    },
    {
      "cell_type": "code",
      "metadata": {
        "id": "7FLzp06qGu1b"
      },
      "source": [
        "from sklearn.model_selection import train_test_split\n",
        "train_X, valid_X, train_Label, valid_Label = train_test_split(train_x, train_label, test_size = 0.2, random_state = 13)"
      ],
      "execution_count": 8,
      "outputs": []
    },
    {
      "cell_type": "markdown",
      "metadata": {
        "id": "q82TKEMcse8U"
      },
      "source": [
        "# Transfer learning of InceptionV3"
      ]
    },
    {
      "cell_type": "code",
      "metadata": {
        "id": "ytLgdToaMHU8"
      },
      "source": [
        "from keras.applications.inception_v3 import InceptionV3\n",
        "from keras.models import Model\n",
        "from keras.layers import *\n",
        "from keras.optimizers import Adam\n",
        "from keras.preprocessing.image import ImageDataGenerator"
      ],
      "execution_count": 15,
      "outputs": []
    },
    {
      "cell_type": "code",
      "metadata": {
        "id": "jfKUyZ6VzqZB"
      },
      "source": [
        "def train_model(config):\n",
        "  input = Input((None, None, 3))\n",
        "  net = InceptionV3(include_top = False, weights = 'imagenet')(input)\n",
        "  net = Conv2D(2, 1)(net)\n",
        "  net = GlobalAveragePooling2D()(net)\n",
        "  output = Activation('softmax')(net)\n",
        "\n",
        "  model = Model(inputs = input, outputs = output)\n",
        "  model.layers[1].trainable=False\n",
        "  model.compile(optimizer='adam', loss='categorical_crossentropy', metrics=['acc'])\n",
        "\n",
        "  train_datagen = ImageDataGenerator(\n",
        "        rotation_range=config['aug_rotation'],\n",
        "        width_shift_range=config['aug_shift_w'],\n",
        "        height_shift_range=config['aug_shift_h'],\n",
        "        shear_range=config['aug_shear'],\n",
        "        zoom_range=config['aug_zoom'],\n",
        "        horizontal_flip=config['aug_horizontal_flip'],\n",
        "        fill_mode='nearest'\n",
        "  )\n",
        "\n",
        "  train_generator = train_datagen.flow(train_X, train_Label, batch_size = config['batch'])\n",
        "\n",
        "  validation_datagen = ImageDataGenerator()\n",
        "  validation_generator = validation_datagen.flow(valid_X,valid_Label,batch_size=256)\n",
        "\n",
        "  history = model.fit(train_generator,\n",
        "                                validation_data=validation_generator,\n",
        "                                epochs = config['epochs'],\n",
        "                                batch_size=config['batch'],\n",
        "                                steps_per_epoch=math.ceil(7680/config['batch']),\n",
        "                                validation_steps = math.ceil(1920/config['batch'])\n",
        "                                )\n",
        "  \n",
        "  plt.plot(history.history['acc'])\n",
        "  plt.plot(history.history['val_acc'])\n",
        "  plt.title('Model Accuracy')\n",
        "  plt.ylabel('accuracy')\n",
        "  plt.xlabel('epoch')\n",
        "  plt.legend(['train','validation'],loc='lower right')\n",
        "  plt.show()\n",
        "\n",
        "  test_eval = model.evaluate(test_x, test_label, verbose = 0)\n",
        "  print('Test loss: ', test_eval[0])\n",
        "  print('Test accuracy: ', test_eval[1])\n",
        "  print('\\n\\n')\n",
        "  \n",
        "  predictes_classes = model.predict(test_x)\n",
        "  predicted_classes = np.argmax(np.round(predictes_classes), axis = 1)\n",
        "\n",
        "  from sklearn.metrics import classification_report\n",
        "  target_names = [\"Class {}\".format(i) for i in range(classes)]\n",
        "  print(classification_report(test_vec, predicted_classes, target_names = target_names))\n",
        "\n",
        "  return model"
      ],
      "execution_count": 56,
      "outputs": []
    },
    {
      "cell_type": "code",
      "metadata": {
        "id": "K4yJen86a6gq",
        "colab": {
          "base_uri": "https://localhost:8080/",
          "height": 893
        },
        "outputId": "b65245cf-a43c-4064-8ec2-6b0c98d82662"
      },
      "source": [
        "model = train_model({\n",
        "    'in_drop_out':0,\n",
        "    'batch':256,\n",
        "    'epochs':10,\n",
        "    'aug_rotation':60,\n",
        "    'aug_shift_w':0.08,\n",
        "    'aug_shift_h':0.08,\n",
        "    'aug_shear':0.08,\n",
        "    'aug_zoom':0.08,\n",
        "    'aug_horizontal_flip':True\n",
        "})"
      ],
      "execution_count": 68,
      "outputs": [
        {
          "output_type": "stream",
          "text": [
            "Epoch 1/10\n",
            "30/30 [==============================] - 44s 1s/step - loss: 1.6110 - acc: 0.5827 - val_loss: 0.3501 - val_acc: 0.8677\n",
            "Epoch 2/10\n",
            "30/30 [==============================] - 24s 815ms/step - loss: 0.5201 - acc: 0.7927 - val_loss: 0.2876 - val_acc: 0.8880\n",
            "Epoch 3/10\n",
            "30/30 [==============================] - 24s 813ms/step - loss: 0.4278 - acc: 0.8237 - val_loss: 0.2665 - val_acc: 0.8948\n",
            "Epoch 4/10\n",
            "30/30 [==============================] - 24s 811ms/step - loss: 0.4068 - acc: 0.8327 - val_loss: 0.2675 - val_acc: 0.8927\n",
            "Epoch 5/10\n",
            "30/30 [==============================] - 24s 814ms/step - loss: 0.3610 - acc: 0.8433 - val_loss: 0.2559 - val_acc: 0.8958\n",
            "Epoch 6/10\n",
            "30/30 [==============================] - 24s 815ms/step - loss: 0.3627 - acc: 0.8532 - val_loss: 0.2334 - val_acc: 0.8984\n",
            "Epoch 7/10\n",
            "30/30 [==============================] - 24s 818ms/step - loss: 0.3229 - acc: 0.8608 - val_loss: 0.2376 - val_acc: 0.9005\n",
            "Epoch 8/10\n",
            "30/30 [==============================] - 24s 815ms/step - loss: 0.3368 - acc: 0.8566 - val_loss: 0.2363 - val_acc: 0.9057\n",
            "Epoch 9/10\n",
            "30/30 [==============================] - 24s 817ms/step - loss: 0.3265 - acc: 0.8625 - val_loss: 0.2697 - val_acc: 0.8927\n",
            "Epoch 10/10\n",
            "30/30 [==============================] - 24s 821ms/step - loss: 0.3246 - acc: 0.8580 - val_loss: 0.2079 - val_acc: 0.9167\n"
          ],
          "name": "stdout"
        },
        {
          "output_type": "display_data",
          "data": {
            "image/png": "[encoded data removed]",
            "text/plain": [
              "<Figure size 432x288 with 1 Axes>"
            ]
          },
          "metadata": {
            "tags": [],
            "needs_background": "light"
          }
        },
        {
          "output_type": "stream",
          "text": [
            "Test loss:  0.18886986374855042\n",
            "Test accuracy:  0.9325000047683716\n",
            "\n",
            "\n",
            "\n",
            "              precision    recall  f1-score   support\n",
            "\n",
            "     Class 0       0.94      0.93      0.93      1200\n",
            "     Class 1       0.93      0.94      0.93      1200\n",
            "\n",
            "    accuracy                           0.93      2400\n",
            "   macro avg       0.93      0.93      0.93      2400\n",
            "weighted avg       0.93      0.93      0.93      2400\n",
            "\n"
          ],
          "name": "stdout"
        }
      ]
    }
  ]
}