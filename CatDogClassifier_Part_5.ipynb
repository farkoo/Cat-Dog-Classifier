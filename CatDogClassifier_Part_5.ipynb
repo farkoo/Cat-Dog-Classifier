{
  "nbformat": 4,
  "nbformat_minor": 0,
  "metadata": {
    "accelerator": "GPU",
    "colab": {
      "name": "CI_HW3_CatDogClassifier_Part_5.ipynb",
      "provenance": [],
      "collapsed_sections": [],
      "include_colab_link": true
    },
    "kernelspec": {
      "display_name": "Python 3",
      "language": "python",
      "name": "python3"
    },
    "language_info": {
      "codemirror_mode": {
        "name": "ipython",
        "version": 3
      },
      "file_extension": ".py",
      "mimetype": "text/x-python",
      "name": "python",
      "nbconvert_exporter": "python",
      "pygments_lexer": "ipython3",
      "version": "3.9.1"
    }
  },
  "cells": [
    {
      "cell_type": "markdown",
      "metadata": {
        "id": "view-in-github",
        "colab_type": "text"
      },
      "source": [
        "<a href=\"https://colab.research.google.com/github/farkoo/Cat-Dog-Classifier/blob/master/CatDogClassifier_Part_5.ipynb\" target=\"_parent\"><img src=\"https://colab.research.google.com/assets/colab-badge.svg\" alt=\"Open In Colab\"/></a>"
      ]
    },
    {
      "cell_type": "markdown",
      "metadata": {
        "id": "1g4Li6ngEF9d"
      },
      "source": [
        "# استفاده از شبکه‌های عصبی کانولوشنی و استفاده از شبکه‌های از پیش آموزش داده شده"
      ]
    },
    {
      "cell_type": "markdown",
      "metadata": {
        "id": "IRnk0Sq4KEld"
      },
      "source": [
        "## آماده‌سازی داده‌های آموزشی ، اعتبارسنجی و تست "
      ]
    },
    {
      "cell_type": "markdown",
      "metadata": {
        "id": "Y2hB_PdsKL7k"
      },
      "source": [
        "<div dir='rtl'>\n",
        "مشابه قسمت‌های قبلی لازم است داده‌ها را در ماشین مجازی آماده‌سازی کنیم."
      ]
    },
    {
      "cell_type": "code",
      "metadata": {
        "colab": {
          "base_uri": "https://localhost:8080/"
        },
        "id": "38ScwC7bewNw",
        "outputId": "77b6236a-40a8-403e-a960-622ab798b822"
      },
      "source": [
        "%%bash\n",
        "git clone \"https://github.com/MKasaei00/IUT-CI-HW3-cat-dog-classifier.git\""
      ],
      "execution_count": null,
      "outputs": [
        {
          "output_type": "stream",
          "text": [
            "Cloning into 'IUT-CI-HW3-cat-dog-classifier'...\n"
          ],
          "name": "stderr"
        }
      ]
    },
    {
      "cell_type": "code",
      "metadata": {
        "colab": {
          "base_uri": "https://localhost:8080/"
        },
        "id": "UvNMNj1whfmG",
        "outputId": "dcab39b2-edb3-47d7-f3e7-762d988904f9"
      },
      "source": [
        "%cd IUT-CI-HW3-cat-dog-classifier"
      ],
      "execution_count": null,
      "outputs": [
        {
          "output_type": "stream",
          "text": [
            "/content/IUT-CI-HW3-cat-dog-classifier\n"
          ],
          "name": "stdout"
        }
      ]
    },
    {
      "cell_type": "code",
      "metadata": {
        "colab": {
          "base_uri": "https://localhost:8080/"
        },
        "id": "Nb69RhJ5iDrW",
        "outputId": "2ff10b39-ba64-425b-95c9-2f5122471a37"
      },
      "source": [
        "%%bash\n",
        "7z x dataset/test_set.zip -odataset\n",
        "7z x dataset/training_set.zip -odataset"
      ],
      "execution_count": null,
      "outputs": [
        {
          "output_type": "stream",
          "text": [
            "\n",
            "7-Zip [64] 16.02 : Copyright (c) 1999-2016 Igor Pavlov : 2016-05-21\n",
            "p7zip Version 16.02 (locale=en_US.UTF-8,Utf16=on,HugeFiles=on,64 bits,2 CPUs Intel(R) Xeon(R) CPU @ 2.00GHz (50653),ASM,AES-NI)\n",
            "\n",
            "Scanning the drive for archives:\n",
            "1 file, 3711630 bytes (3625 KiB)\n",
            "\n",
            "Extracting archive: dataset/test_set.zip\n",
            "--\n",
            "Path = dataset/test_set.zip\n",
            "Type = zip\n",
            "Physical Size = 3711630\n",
            "Embedded Stub Size = 4\n",
            "Total Physical Size = 45654670\n",
            "Multivolume = +\n",
            "Volume Index = 2\n",
            "Volumes = 3\n",
            "\n",
            "Everything is Ok\n",
            "\n",
            "Folders: 3\n",
            "Files: 2000\n",
            "Size:       45739128\n",
            "Compressed: 45654670\n",
            "\n",
            "7-Zip [64] 16.02 : Copyright (c) 1999-2016 Igor Pavlov : 2016-05-21\n",
            "p7zip Version 16.02 (locale=en_US.UTF-8,Utf16=on,HugeFiles=on,64 bits,2 CPUs Intel(R) Xeon(R) CPU @ 2.00GHz (50653),ASM,AES-NI)\n",
            "\n",
            "Scanning the drive for archives:\n",
            "1 file, 13986903 bytes (14 MiB)\n",
            "\n",
            "Extracting archive: dataset/training_set.zip\n",
            "--\n",
            "Path = dataset/training_set.zip\n",
            "Type = zip\n",
            "Physical Size = 13986903\n",
            "Embedded Stub Size = 4\n",
            "Total Physical Size = 181759063\n",
            "Multivolume = +\n",
            "Volume Index = 8\n",
            "Volumes = 9\n",
            "\n",
            "Everything is Ok\n",
            "\n",
            "Folders: 3\n",
            "Files: 8000\n",
            "Size:       182042608\n",
            "Compressed: 181759063\n"
          ],
          "name": "stdout"
        }
      ]
    },
    {
      "cell_type": "code",
      "metadata": {
        "id": "hTd3JReGlT0r"
      },
      "source": [
        "import numpy as np\n",
        "import os\n",
        "import cv2\n",
        "from google.colab.patches import cv2_imshow\n",
        "from keras.utils import np_utils\n",
        "import matplotlib.pyplot as plt\n",
        "import tensorflow as tf\n",
        "import random\n",
        "import math"
      ],
      "execution_count": null,
      "outputs": []
    },
    {
      "cell_type": "markdown",
      "metadata": {
        "id": "g7tavQwbKWpN"
      },
      "source": [
        "<div dir='rtl'>\n",
        "\n",
        "مسیر داده‌های آموزشی و تست را مشخص می‌کنیم."
      ]
    },
    {
      "cell_type": "code",
      "metadata": {
        "id": "NA3x7ObDlopB"
      },
      "source": [
        "test_dir = 'dataset/test_set'\n",
        "training_dir = 'dataset/training_set'"
      ],
      "execution_count": null,
      "outputs": []
    },
    {
      "cell_type": "markdown",
      "metadata": {
        "id": "AUk50IjIKfEz"
      },
      "source": [
        "<div dir='rtl'>\n",
        "\n",
        "با توجه به شبکه‌ی آماده‌ای که از وزن‌های اولیه‌ی آن استفاده می‌کنیم لازم است مقادیر ورودی بین -1 و +1 باشد.\n",
        "\n",
        "پس با توجه به مقادیر مختلف ممکن برای هر رنگ پیکسل (بین 0 تا 255) لازم است تمام اعداد را از وسط بازه کم کنیم و تقسیم بر نصف طول بازه کنیم تا درنهایت تمام مقادیر به مقادیر بین -1 و +1 تبدیل شوند."
      ]
    },
    {
      "cell_type": "code",
      "metadata": {
        "id": "5lNX7WfLln7S"
      },
      "source": [
        "def load_data_from_directory(dir,width,height,classes):\n",
        "  img_data = []\n",
        "  img_label = []\n",
        "  categories = os.listdir(dir)\n",
        "  for category in categories:\n",
        "    for file in os.listdir(os.path.join(dir,category)):\n",
        "      img_path = os.path.join(dir,category,file)\n",
        "      img = cv2.imread(img_path)\n",
        "      \n",
        "      img = cv2.resize(img,(width,height))\n",
        "      img = (np.array(img).astype('float32') - 175.5) / 175.5\n",
        "      \n",
        "      img_data.append(img)\n",
        "      img_label.append(category)\n",
        "\n",
        "  img_onehot = np_utils.to_categorical([categories.index(label) for label in img_label],classes,dtype=np.ubyte)\n",
        "  img_data = np.array(img_data)\n",
        "  img_onehot = np.array(img_onehot)\n",
        "\n",
        "  zip_list = list(zip(img_data, img_label, img_onehot))\n",
        "  random.shuffle(zip_list)\n",
        "  img_data, img_label, img_onehot = zip(*zip_list)\n",
        "  return img_data , img_label, img_onehot"
      ],
      "execution_count": null,
      "outputs": []
    },
    {
      "cell_type": "markdown",
      "metadata": {
        "id": "y-jHkmO3LHrS"
      },
      "source": [
        "<div dir='rtl'>\n",
        "\n",
        "طول و عرض تصاویر متفاوت است و لازم است برای سازگاری با شبکه‌ی عصبی تمام تصاویر را به یک اندازه مشخص تبدیل کنیم."
      ]
    },
    {
      "cell_type": "code",
      "metadata": {
        "id": "cVb181xCZZbJ"
      },
      "source": [
        "classes = 2\n",
        "w = 150\n",
        "h = 150"
      ],
      "execution_count": null,
      "outputs": []
    },
    {
      "cell_type": "code",
      "metadata": {
        "id": "9kpvfOQ3mDqq"
      },
      "source": [
        "train_x , train_label, train_onehot = load_data_from_directory(training_dir,w,h,classes)\n",
        "test_x , test_label, test_onehot = load_data_from_directory(test_dir,w,h,classes)"
      ],
      "execution_count": null,
      "outputs": []
    },
    {
      "cell_type": "code",
      "metadata": {
        "id": "0TV8o9GRwGPi"
      },
      "source": [
        "test_label2 = []\n",
        "for i, label in enumerate(test_label):\n",
        "     test_label2.append(1) if (label == 'dogs') else test_label2.append(0)"
      ],
      "execution_count": null,
      "outputs": []
    },
    {
      "cell_type": "code",
      "metadata": {
        "id": "v7XgBhICe2Y6"
      },
      "source": [
        "train_x = np.asarray(train_x)\n",
        "train_label = np.asarray(train_label)\n",
        "train_onehot = np.asarray(train_onehot)\n",
        "\n",
        "test_x = np.asarray(test_x)\n",
        "test_label = np.asarray(test_label2)\n",
        "test_onehot = np.asarray(test_onehot)"
      ],
      "execution_count": null,
      "outputs": []
    },
    {
      "cell_type": "code",
      "metadata": {
        "id": "cYnCpcoumHxk"
      },
      "source": [
        "!rm -rf cleanData\n",
        "!mkdir cleanData\n",
        "np.save('cleanData/train_x.npy',train_x)\n",
        "np.save('cleanData/train_label.npy',train_label)\n",
        "np.save('cleanData/train_onehot.npy',train_onehot)\n",
        "\n",
        "np.save('cleanData/test_x.npy',test_x)\n",
        "np.save('cleanData/test_label.npy',test_label)\n",
        "np.save('cleanData/test_onehot.npy',test_onehot)"
      ],
      "execution_count": null,
      "outputs": []
    },
    {
      "cell_type": "code",
      "metadata": {
        "id": "mpcwCHVPmI1z"
      },
      "source": [
        "train_label = np.load('cleanData/train_onehot.npy')\n",
        "train_x = np.load('cleanData/train_x.npy')\n",
        "\n",
        "test_x = np.load('cleanData/test_x.npy')\n",
        "test_label = np.load('cleanData/test_onehot.npy')\n",
        "test_vec = np.load('cleanData/test_label.npy')"
      ],
      "execution_count": null,
      "outputs": []
    },
    {
      "cell_type": "markdown",
      "metadata": {
        "id": "grFcBFEmLVFs"
      },
      "source": [
        "<div dir='rtl'>\n",
        "برای آموزش شبکه‌ی عصبی و برای نهایت استفاده از داده‌های در دسترس ۹۹ درصد داده‌های آموزشی را برای آموزش شبکه و فقط از یک درصد برای ازریابی و validation استفاده می‌کنیم.\n",
        "\n",
        "هم‌چنین داده‌های تست تعیین شده پس از آموزش کامل شبکه برای ارزیابی عملکرد شبکه استفاده می‌کنیم."
      ]
    },
    {
      "cell_type": "code",
      "metadata": {
        "id": "7FLzp06qGu1b"
      },
      "source": [
        "from sklearn.model_selection import train_test_split\n",
        "train_X, valid_X, train_Label, valid_Label = train_test_split(train_x, train_label, test_size = 0.01, random_state = 13)"
      ],
      "execution_count": null,
      "outputs": []
    },
    {
      "cell_type": "code",
      "metadata": {
        "colab": {
          "base_uri": "https://localhost:8080/"
        },
        "id": "T2PZ3NEiWrJa",
        "outputId": "974e4565-a7ac-4289-bc3b-c669a50b304b"
      },
      "source": [
        "train_X.shape, valid_X.shape"
      ],
      "execution_count": null,
      "outputs": [
        {
          "output_type": "execute_result",
          "data": {
            "text/plain": [
              "((7920, 150, 150, 3), (80, 150, 150, 3))"
            ]
          },
          "metadata": {
            "tags": []
          },
          "execution_count": 29
        }
      ]
    },
    {
      "cell_type": "markdown",
      "metadata": {
        "id": "q82TKEMcse8U"
      },
      "source": [
        "# استفاده از وزن‌های آماده و ساختار شبکه‌ی Inception V3"
      ]
    },
    {
      "cell_type": "markdown",
      "metadata": {
        "id": "YQuEAh7mMBGL"
      },
      "source": [
        "<div dir='rtl'>\n",
        "\n",
        "\n",
        "ابتدا کتابخانه \n",
        "keras\n",
        "و ماژول‌های مورد نیاز را تعریف می‌کنیم."
      ]
    },
    {
      "cell_type": "code",
      "metadata": {
        "id": "ytLgdToaMHU8"
      },
      "source": [
        "from keras.applications.inception_v3 import InceptionV3\n",
        "from keras.models import Model\n",
        "from keras.layers import *\n",
        "from keras.preprocessing.image import ImageDataGenerator\n",
        "from tensorflow.keras.optimizers import *"
      ],
      "execution_count": null,
      "outputs": []
    },
    {
      "cell_type": "markdown",
      "metadata": {
        "id": "iOafOGXaMK_j"
      },
      "source": [
        "<div dir='rtl'>\n",
        "\n",
        "تابع زیر مشابه قسمت‌های قبل وظیفه‌ی تعریف مدل و آماده‌سازی داده‌ها ، آموزش شبکه و در نهایت ارزیابی با داده‌های تست را دارد.\n",
        "\n",
        "در ابتدا شبکه‌ی \n",
        "inceptionv3\n",
        "بارگذاری می‌شود و این لایه را غیر قابل آموزش و ثابت تعریف می‌کنیم پس از آن لایه‌های اضافی و قابل آموزش خود را به شبکه‌ اضافه می‌کنیم.\n",
        "\n",
        "برای آموزش بهتر شبکه از تغییرات منطقی و ممکن در داده‌ها مانند چرخش و زوم و .. استفاده می‌کنیم.\n",
        "\n",
        "در نهایت مدل را آموزش می‌دهیم و نموداری از \n",
        "accuracy\n",
        "در \n",
        "epoch \n",
        "های مختلف براساس داده‌های آموزشی و داده‌های آموزشی و ارزیابی رسم می‌کنیم.\n",
        "\n",
        "در آخرین مرحله داده‌های تست را با استفاده از مدل پیش‌بینی کرده نتایج را به صورت کامل گزارش می‌کنیم.\n"
      ]
    },
    {
      "cell_type": "code",
      "metadata": {
        "id": "jfKUyZ6VzqZB"
      },
      "source": [
        "def train_model(config):\n",
        "  input = Input((150, 150, 3))\n",
        "  net = InceptionV3(include_top = False, weights = 'imagenet')(input)\n",
        "  net = Conv2D(2, 3,padding='same',activation='relu')(net)\n",
        "  net = GlobalAveragePooling2D()(net)\n",
        "  output = Activation('softmax')(net)\n",
        "\n",
        "  model = Model(inputs = input, outputs = output)\n",
        "  #Freezing InceptionV3.\n",
        "  model.layers[1].trainable=False\n",
        "  model.compile(optimizer='adam', loss='categorical_crossentropy', metrics=['acc'])\n",
        "  model.summary()\n",
        "\n",
        "\n",
        "  train_datagen = ImageDataGenerator(\n",
        "        rotation_range=config['aug_rotation'],\n",
        "        width_shift_range=config['aug_shift_w'],\n",
        "        height_shift_range=config['aug_shift_h'],\n",
        "        shear_range=config['aug_shear'],\n",
        "        zoom_range=config['aug_zoom'],\n",
        "        horizontal_flip=config['aug_horizontal_flip'],\n",
        "        fill_mode='nearest'\n",
        "  )\n",
        "\n",
        "  train_generator = train_datagen.flow(train_X, train_Label, batch_size = config['batch'])\n",
        "\n",
        "  validation_datagen = ImageDataGenerator()\n",
        "  validation_generator = validation_datagen.flow(valid_X,valid_Label,config['batch'])\n",
        "\n",
        "  history = model.fit(train_generator,\n",
        "                                validation_data=validation_generator,\n",
        "                                epochs = config['epochs'],\n",
        "                                batch_size=config['batch'],\n",
        "                                steps_per_epoch=math.ceil(7920/config['batch']),\n",
        "                                validation_steps = math.ceil(80/config['batch'])\n",
        "                                )\n",
        "  \n",
        "  plt.plot(history.history['acc'])\n",
        "  plt.plot(history.history['val_acc'])\n",
        "  plt.title('Model Accuracy')\n",
        "  plt.ylabel('accuracy')\n",
        "  plt.xlabel('epoch')\n",
        "  plt.legend(['train','validation'],loc='lower right')\n",
        "  plt.show()\n",
        "\n",
        "  test_eval = model.evaluate(test_x, test_label, verbose = 0)\n",
        "  print('Test loss: ', test_eval[0])\n",
        "  print('Test accuracy: ', test_eval[1])\n",
        "  print('\\n\\n')\n",
        "  \n",
        "  predictes_classes = model.predict(test_x)\n",
        "  predicted_classes = np.argmax(np.round(predictes_classes), axis = 1)\n",
        "\n",
        "  from sklearn.metrics import classification_report\n",
        "  target_names = [\"Class {}\".format(i) for i in range(classes)]\n",
        "  print(classification_report(test_vec, predicted_classes, target_names = target_names))\n",
        "\n",
        "  return model"
      ],
      "execution_count": null,
      "outputs": []
    },
    {
      "cell_type": "markdown",
      "metadata": {
        "id": "Kc7Na087NuXS"
      },
      "source": [
        "<div dir='rtl'>\n",
        "\n",
        "حال از تابع تعریف شده و ضرایب مناسب برای آگمنتیشن و تغییر داده‌های ورودی جهت آموزش شبکه استفاده می‌کنیم."
      ]
    },
    {
      "cell_type": "code",
      "metadata": {
        "colab": {
          "base_uri": "https://localhost:8080/",
          "height": 1000
        },
        "id": "K4yJen86a6gq",
        "outputId": "05931a86-809f-4f58-af4b-c4c52480a1ba"
      },
      "source": [
        "model = train_model({\n",
        "    'in_drop_out':0,\n",
        "    'batch':256,\n",
        "    'epochs':10,\n",
        "    'aug_rotation':180,\n",
        "    'aug_shift_w':0.10,\n",
        "    'aug_shift_h':0.10,\n",
        "    'aug_shear':0.10,\n",
        "    'aug_zoom':0.10,\n",
        "    'aug_horizontal_flip':True\n",
        "})"
      ],
      "execution_count": null,
      "outputs": [
        {
          "output_type": "stream",
          "text": [
            "Model: \"model_5\"\n",
            "_________________________________________________________________\n",
            "Layer (type)                 Output Shape              Param #   \n",
            "=================================================================\n",
            "input_7 (InputLayer)         [(None, 150, 150, 3)]     0         \n",
            "_________________________________________________________________\n",
            "inception_v3 (Functional)    (None, None, None, 2048)  21802784  \n",
            "_________________________________________________________________\n",
            "conv2d_565 (Conv2D)          (None, 3, 3, 2)           36866     \n",
            "_________________________________________________________________\n",
            "global_average_pooling2d_1 ( (None, 2)                 0         \n",
            "_________________________________________________________________\n",
            "activation_565 (Activation)  (None, 2)                 0         \n",
            "=================================================================\n",
            "Total params: 21,839,650\n",
            "Trainable params: 36,866\n",
            "Non-trainable params: 21,802,784\n",
            "_________________________________________________________________\n",
            "Epoch 1/10\n",
            "31/31 [==============================] - 55s 1s/step - loss: 0.6682 - acc: 0.5690 - val_loss: 0.4374 - val_acc: 0.5000\n",
            "Epoch 2/10\n",
            "31/31 [==============================] - 34s 1s/step - loss: 0.5229 - acc: 0.4974 - val_loss: 0.4063 - val_acc: 0.6875\n",
            "Epoch 3/10\n",
            "31/31 [==============================] - 34s 1s/step - loss: 0.4033 - acc: 0.7772 - val_loss: 0.1611 - val_acc: 0.9250\n",
            "Epoch 4/10\n",
            "31/31 [==============================] - 34s 1s/step - loss: 0.2908 - acc: 0.8770 - val_loss: 0.1473 - val_acc: 0.9375\n",
            "Epoch 5/10\n",
            "31/31 [==============================] - 34s 1s/step - loss: 0.2985 - acc: 0.8702 - val_loss: 0.1530 - val_acc: 0.9375\n",
            "Epoch 6/10\n",
            "31/31 [==============================] - 34s 1s/step - loss: 0.2863 - acc: 0.8742 - val_loss: 0.1775 - val_acc: 0.9250\n",
            "Epoch 7/10\n",
            "31/31 [==============================] - 34s 1s/step - loss: 0.2768 - acc: 0.8791 - val_loss: 0.1701 - val_acc: 0.9375\n",
            "Epoch 8/10\n",
            "31/31 [==============================] - 34s 1s/step - loss: 0.2731 - acc: 0.8821 - val_loss: 0.1453 - val_acc: 0.9375\n",
            "Epoch 9/10\n",
            "31/31 [==============================] - 34s 1s/step - loss: 0.2730 - acc: 0.8807 - val_loss: 0.1352 - val_acc: 0.9500\n",
            "Epoch 10/10\n",
            "31/31 [==============================] - 34s 1s/step - loss: 0.2587 - acc: 0.8870 - val_loss: 0.1897 - val_acc: 0.9250\n"
          ],
          "name": "stdout"
        },
        {
          "output_type": "display_data",
          "data": {
            "image/png": "[encoded data removed]",
            "text/plain": [
              "<Figure size 432x288 with 1 Axes>"
            ]
          },
          "metadata": {
            "tags": [],
            "needs_background": "light"
          }
        },
        {
          "output_type": "stream",
          "text": [
            "Test loss:  0.12526236474514008\n",
            "Test accuracy:  0.949999988079071\n",
            "\n",
            "\n",
            "\n",
            "              precision    recall  f1-score   support\n",
            "\n",
            "     Class 0       0.98      0.92      0.95      1000\n",
            "     Class 1       0.92      0.98      0.95      1000\n",
            "\n",
            "    accuracy                           0.95      2000\n",
            "   macro avg       0.95      0.95      0.95      2000\n",
            "weighted avg       0.95      0.95      0.95      2000\n",
            "\n"
          ],
          "name": "stdout"
        }
      ]
    },
    {
      "cell_type": "markdown",
      "metadata": {
        "id": "xV8mN7lwOLW8"
      },
      "source": [
        "<div dir='rtl'>\n",
        "\n",
        "\n",
        "با مدل آموزش داده شده‌ی بالا توانستیم دقت ۹۵ درصد روی داده‌های تست به دست‌ آوریم.\n",
        "\n",
        "حال می‌خواهیم قسمت‌های آموزش‌پذیر مدل را بیش‌تر کنیم و پس تابع آموزش را دوباره تعریف می‌کنیم."
      ]
    },
    {
      "cell_type": "code",
      "metadata": {
        "id": "zckVVs2bq-wq"
      },
      "source": [
        "def train_model(config):\n",
        "  input = Input((150, 150, 3))\n",
        "  net = InceptionV3(include_top = False, weights = 'imagenet')(input)\n",
        "  net = Conv2D(2, 3,padding='same',activation='relu')(net)\n",
        "  net = Conv2D(2, 3,padding='same',activation='relu')(net)\n",
        "  net = GlobalAveragePooling2D()(net)\n",
        "  output = Activation('softmax')(net)\n",
        "\n",
        "  model = Model(inputs = input, outputs = output)\n",
        "  #Freezing InceptionV3.\n",
        "  model.layers[1].trainable=False\n",
        "  model.compile(optimizer='adam', loss='categorical_crossentropy', metrics=['acc'])\n",
        "  model.summary()\n",
        "\n",
        "\n",
        "  train_datagen = ImageDataGenerator(\n",
        "        rotation_range=config['aug_rotation'],\n",
        "        width_shift_range=config['aug_shift_w'],\n",
        "        height_shift_range=config['aug_shift_h'],\n",
        "        shear_range=config['aug_shear'],\n",
        "        zoom_range=config['aug_zoom'],\n",
        "        horizontal_flip=config['aug_horizontal_flip'],\n",
        "        fill_mode='nearest'\n",
        "  )\n",
        "\n",
        "  train_generator = train_datagen.flow(train_X, train_Label, batch_size = config['batch'])\n",
        "\n",
        "  validation_datagen = ImageDataGenerator()\n",
        "  validation_generator = validation_datagen.flow(valid_X,valid_Label,config['batch'])\n",
        "\n",
        "  history = model.fit(train_generator,\n",
        "                                validation_data=validation_generator,\n",
        "                                epochs = config['epochs'],\n",
        "                                batch_size=config['batch'],\n",
        "                                steps_per_epoch=math.ceil(7920/config['batch']),\n",
        "                                validation_steps = math.ceil(80/config['batch'])\n",
        "                                )\n",
        "  \n",
        "  plt.plot(history.history['acc'])\n",
        "  plt.plot(history.history['val_acc'])\n",
        "  plt.title('Model Accuracy')\n",
        "  plt.ylabel('accuracy')\n",
        "  plt.xlabel('epoch')\n",
        "  plt.legend(['train','validation'],loc='lower right')\n",
        "  plt.show()\n",
        "\n",
        "  test_eval = model.evaluate(test_x, test_label, verbose = 0)\n",
        "  print('Test loss: ', test_eval[0])\n",
        "  print('Test accuracy: ', test_eval[1])\n",
        "  print('\\n\\n')\n",
        "  \n",
        "  predictes_classes = model.predict(test_x)\n",
        "  predicted_classes = np.argmax(np.round(predictes_classes), axis = 1)\n",
        "\n",
        "  from sklearn.metrics import classification_report\n",
        "  target_names = [\"Class {}\".format(i) for i in range(classes)]\n",
        "  print(classification_report(test_vec, predicted_classes, target_names = target_names))\n",
        "\n",
        "  return model"
      ],
      "execution_count": null,
      "outputs": []
    },
    {
      "cell_type": "markdown",
      "metadata": {
        "id": "E6MzFU8tO9wC"
      },
      "source": [
        "<div dir='rtl'>\n",
        "\n",
        "در این مرحله چون تعداد متغیر‌های قابل‌اموزش مدل بیش‌تر شده بهتر است تعداد\n",
        "epoch\n",
        "های یادگیری را بیش‌تر کنیم تا شبکه زمان بیش‌تری برای ارزیابی و تطبیق شبکه با داده‌ها داشته باشد."
      ]
    },
    {
      "cell_type": "code",
      "metadata": {
        "colab": {
          "base_uri": "https://localhost:8080/",
          "height": 1000
        },
        "id": "WYOAroOrrA6B",
        "outputId": "6e97de0e-2699-4f6e-aa5b-97b98a121e12"
      },
      "source": [
        "model = train_model({\n",
        "    'in_drop_out':0,\n",
        "    'batch':256,\n",
        "    'epochs':30,\n",
        "    'aug_rotation':180,\n",
        "    'aug_shift_w':0.10,\n",
        "    'aug_shift_h':0.10,\n",
        "    'aug_shear':0.10,\n",
        "    'aug_zoom':0.10,\n",
        "    'aug_horizontal_flip':True\n",
        "})"
      ],
      "execution_count": null,
      "outputs": [
        {
          "output_type": "stream",
          "text": [
            "Model: \"model_6\"\n",
            "_________________________________________________________________\n",
            "Layer (type)                 Output Shape              Param #   \n",
            "=================================================================\n",
            "input_9 (InputLayer)         [(None, 150, 150, 3)]     0         \n",
            "_________________________________________________________________\n",
            "inception_v3 (Functional)    (None, None, None, 2048)  21802784  \n",
            "_________________________________________________________________\n",
            "conv2d_660 (Conv2D)          (None, 3, 3, 2)           36866     \n",
            "_________________________________________________________________\n",
            "conv2d_661 (Conv2D)          (None, 3, 3, 2)           38        \n",
            "_________________________________________________________________\n",
            "global_average_pooling2d_2 ( (None, 2)                 0         \n",
            "_________________________________________________________________\n",
            "activation_660 (Activation)  (None, 2)                 0         \n",
            "=================================================================\n",
            "Total params: 21,839,688\n",
            "Trainable params: 36,904\n",
            "Non-trainable params: 21,802,784\n",
            "_________________________________________________________________\n",
            "Epoch 1/30\n",
            "31/31 [==============================] - 53s 1s/step - loss: 0.6198 - acc: 0.6706 - val_loss: 0.4607 - val_acc: 0.8875\n",
            "Epoch 2/30\n",
            "31/31 [==============================] - 34s 1s/step - loss: 0.5200 - acc: 0.8388 - val_loss: 0.4118 - val_acc: 0.9250\n",
            "Epoch 3/30\n",
            "31/31 [==============================] - 34s 1s/step - loss: 0.4952 - acc: 0.8494 - val_loss: 0.4054 - val_acc: 0.9250\n",
            "Epoch 4/30\n",
            "31/31 [==============================] - 35s 1s/step - loss: 0.4868 - acc: 0.8531 - val_loss: 0.3557 - val_acc: 0.8875\n",
            "Epoch 5/30\n",
            "31/31 [==============================] - 34s 1s/step - loss: 0.4109 - acc: 0.8459 - val_loss: 0.2109 - val_acc: 0.9250\n",
            "Epoch 6/30\n",
            "31/31 [==============================] - 35s 1s/step - loss: 0.3339 - acc: 0.8635 - val_loss: 0.1831 - val_acc: 0.9125\n",
            "Epoch 7/30\n",
            "31/31 [==============================] - 35s 1s/step - loss: 0.3198 - acc: 0.8666 - val_loss: 0.1565 - val_acc: 0.9250\n",
            "Epoch 8/30\n",
            "31/31 [==============================] - 34s 1s/step - loss: 0.2995 - acc: 0.8729 - val_loss: 0.1486 - val_acc: 0.9375\n",
            "Epoch 9/30\n",
            "31/31 [==============================] - 34s 1s/step - loss: 0.2935 - acc: 0.8754 - val_loss: 0.1604 - val_acc: 0.9250\n",
            "Epoch 10/30\n",
            "31/31 [==============================] - 34s 1s/step - loss: 0.2937 - acc: 0.8749 - val_loss: 0.1698 - val_acc: 0.9500\n",
            "Epoch 11/30\n",
            "31/31 [==============================] - 34s 1s/step - loss: 0.2869 - acc: 0.8726 - val_loss: 0.1400 - val_acc: 0.9500\n",
            "Epoch 12/30\n",
            "31/31 [==============================] - 33s 1s/step - loss: 0.2769 - acc: 0.8829 - val_loss: 0.1584 - val_acc: 0.9375\n",
            "Epoch 13/30\n",
            "31/31 [==============================] - 33s 1s/step - loss: 0.2732 - acc: 0.8832 - val_loss: 0.1396 - val_acc: 0.9375\n",
            "Epoch 14/30\n",
            "31/31 [==============================] - 34s 1s/step - loss: 0.2736 - acc: 0.8784 - val_loss: 0.1472 - val_acc: 0.9375\n",
            "Epoch 15/30\n",
            "31/31 [==============================] - 34s 1s/step - loss: 0.2824 - acc: 0.8772 - val_loss: 0.1472 - val_acc: 0.9375\n",
            "Epoch 16/30\n",
            "31/31 [==============================] - 34s 1s/step - loss: 0.2748 - acc: 0.8839 - val_loss: 0.1395 - val_acc: 0.9375\n",
            "Epoch 17/30\n",
            "31/31 [==============================] - 34s 1s/step - loss: 0.2700 - acc: 0.8838 - val_loss: 0.1490 - val_acc: 0.9500\n",
            "Epoch 18/30\n",
            "31/31 [==============================] - 34s 1s/step - loss: 0.2664 - acc: 0.8883 - val_loss: 0.1475 - val_acc: 0.9375\n",
            "Epoch 19/30\n",
            "31/31 [==============================] - 34s 1s/step - loss: 0.2693 - acc: 0.8836 - val_loss: 0.1601 - val_acc: 0.9375\n",
            "Epoch 20/30\n",
            "31/31 [==============================] - 34s 1s/step - loss: 0.2577 - acc: 0.8898 - val_loss: 0.1454 - val_acc: 0.9375\n",
            "Epoch 21/30\n",
            "31/31 [==============================] - 34s 1s/step - loss: 0.2602 - acc: 0.8867 - val_loss: 0.1668 - val_acc: 0.9375\n",
            "Epoch 22/30\n",
            "31/31 [==============================] - 34s 1s/step - loss: 0.2562 - acc: 0.8913 - val_loss: 0.1510 - val_acc: 0.9375\n",
            "Epoch 23/30\n",
            "31/31 [==============================] - 34s 1s/step - loss: 0.2466 - acc: 0.8954 - val_loss: 0.1843 - val_acc: 0.9375\n",
            "Epoch 24/30\n",
            "31/31 [==============================] - 34s 1s/step - loss: 0.2657 - acc: 0.8880 - val_loss: 0.1417 - val_acc: 0.9375\n",
            "Epoch 25/30\n",
            "31/31 [==============================] - 34s 1s/step - loss: 0.2618 - acc: 0.8843 - val_loss: 0.1418 - val_acc: 0.9375\n",
            "Epoch 26/30\n",
            "31/31 [==============================] - 34s 1s/step - loss: 0.2570 - acc: 0.8901 - val_loss: 0.1529 - val_acc: 0.9375\n",
            "Epoch 27/30\n",
            "31/31 [==============================] - 34s 1s/step - loss: 0.2596 - acc: 0.8903 - val_loss: 0.1523 - val_acc: 0.9375\n",
            "Epoch 28/30\n",
            "31/31 [==============================] - 34s 1s/step - loss: 0.2558 - acc: 0.8880 - val_loss: 0.1368 - val_acc: 0.9375\n",
            "Epoch 29/30\n",
            "31/31 [==============================] - 34s 1s/step - loss: 0.2427 - acc: 0.8977 - val_loss: 0.1652 - val_acc: 0.9375\n",
            "Epoch 30/30\n",
            "31/31 [==============================] - 34s 1s/step - loss: 0.2526 - acc: 0.8898 - val_loss: 0.1581 - val_acc: 0.9375\n"
          ],
          "name": "stdout"
        },
        {
          "output_type": "display_data",
          "data": {
            "image/png": "[encoded data removed]",
            "text/plain": [
              "<Figure size 432x288 with 1 Axes>"
            ]
          },
          "metadata": {
            "tags": [],
            "needs_background": "light"
          }
        },
        {
          "output_type": "stream",
          "text": [
            "Test loss:  0.1143578365445137\n",
            "Test accuracy:  0.9564999938011169\n",
            "\n",
            "\n",
            "\n",
            "              precision    recall  f1-score   support\n",
            "\n",
            "     Class 0       0.96      0.96      0.96      1000\n",
            "     Class 1       0.96      0.95      0.96      1000\n",
            "\n",
            "    accuracy                           0.96      2000\n",
            "   macro avg       0.96      0.96      0.96      2000\n",
            "weighted avg       0.96      0.96      0.96      2000\n",
            "\n"
          ],
          "name": "stdout"
        }
      ]
    },
    {
      "cell_type": "markdown",
      "metadata": {
        "id": "ZW8K3Ad3PtPI"
      },
      "source": [
        "## نتیجه نهایی"
      ]
    },
    {
      "cell_type": "markdown",
      "metadata": {
        "id": "YApBEmTFPvzh"
      },
      "source": [
        "<div dir='rtl'>\n",
        "\n",
        "در این بخش توانستیم تصاویر سگ و گربه را با استفاده از شبکه‌های عصبی کانولوشنی و وزن‌های از پیش آموزش داده شده با دقت خیلی خوبی تفکیک کرده و مدل مناسبی با صحت روی داده‌های تست 96 درصد ارائه کنیم."
      ]
    }
  ]
}