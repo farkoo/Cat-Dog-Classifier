{
  "nbformat": 4,
  "nbformat_minor": 0,
  "metadata": {
    "accelerator": "GPU",
    "colab": {
      "name": "CI-HW3-CatDogClassifier-Part1-github.ipynb",
      "provenance": [],
      "collapsed_sections": [],
      "toc_visible": true,
      "include_colab_link": true
    },
    "kernelspec": {
      "display_name": "Python 3",
      "name": "python3"
    },
    "language_info": {
      "name": "python"
    }
  },
  "cells": [
    {
      "cell_type": "markdown",
      "metadata": {
        "id": "view-in-github",
        "colab_type": "text"
      },
      "source": [
        "<a href=\"https://colab.research.google.com/github/farkoo/Cat-Dog-Classifier/blob/master/final-a.ipynb\" target=\"_parent\"><img src=\"https://colab.research.google.com/assets/colab-badge.svg\" alt=\"Open In Colab\"/></a>"
      ]
    },
    {
      "cell_type": "code",
      "metadata": {
        "colab": {
          "base_uri": "https://localhost:8080/"
        },
        "id": "D5xrstSZNXev",
        "outputId": "1091adfb-33ca-4468-dcf6-390fe77609a7"
      },
      "source": [
        "!pwd"
      ],
      "execution_count": 29,
      "outputs": [
        {
          "output_type": "stream",
          "text": [
            "/content/drive/MyDrive/IUT-CI-HW3-cat-dog-classifier\n"
          ],
          "name": "stdout"
        }
      ]
    },
    {
      "cell_type": "code",
      "metadata": {
        "colab": {
          "base_uri": "https://localhost:8080/"
        },
        "id": "Zyk3Ez7AxCrP",
        "outputId": "e5f3a637-59af-4c5a-b507-e1a710a90e43"
      },
      "source": [
        "from google.colab import drive\n",
        "drive.mount('/content/drive')"
      ],
      "execution_count": 30,
      "outputs": [
        {
          "output_type": "stream",
          "text": [
            "Drive already mounted at /content/drive; to attempt to forcibly remount, call drive.mount(\"/content/drive\", force_remount=True).\n"
          ],
          "name": "stdout"
        }
      ]
    },
    {
      "cell_type": "markdown",
      "metadata": {
        "id": "1g4Li6ngEF9d"
      },
      "source": [
        "# Prepare train and test data (Data Preprocessing)"
      ]
    },
    {
      "cell_type": "code",
      "metadata": {
        "colab": {
          "base_uri": "https://localhost:8080/"
        },
        "id": "UO3GJM9hdffS",
        "outputId": "17d8f8b2-6f7d-43fd-b191-351aae0a2230"
      },
      "source": [
        "%cd /content/drive/MyDrive"
      ],
      "execution_count": 31,
      "outputs": [
        {
          "output_type": "stream",
          "text": [
            "/content/drive/MyDrive\n"
          ],
          "name": "stdout"
        }
      ]
    },
    {
      "cell_type": "code",
      "metadata": {
        "colab": {
          "base_uri": "https://localhost:8080/"
        },
        "id": "38ScwC7bewNw",
        "outputId": "d3c5ddf5-71b9-4c00-e9eb-7a5122e6b474"
      },
      "source": [
        "%%bash\n",
        "git clone \"https://github.com/MKasaei00/IUT-CI-HW3-cat-dog-classifier.git\""
      ],
      "execution_count": 32,
      "outputs": [
        {
          "output_type": "stream",
          "text": [
            "fatal: destination path 'IUT-CI-HW3-cat-dog-classifier' already exists and is not an empty directory.\n"
          ],
          "name": "stderr"
        }
      ]
    },
    {
      "cell_type": "code",
      "metadata": {
        "colab": {
          "base_uri": "https://localhost:8080/"
        },
        "id": "UvNMNj1whfmG",
        "outputId": "35a67aec-228d-4fa7-d349-87d3e48749eb"
      },
      "source": [
        "%cd IUT-CI-HW3-cat-dog-classifier"
      ],
      "execution_count": 33,
      "outputs": [
        {
          "output_type": "stream",
          "text": [
            "/content/drive/MyDrive/IUT-CI-HW3-cat-dog-classifier\n"
          ],
          "name": "stdout"
        }
      ]
    },
    {
      "cell_type": "code",
      "metadata": {
        "colab": {
          "base_uri": "https://localhost:8080/"
        },
        "id": "Nb69RhJ5iDrW",
        "outputId": "c44f1805-c4a4-4e98-b691-608d18a44d51"
      },
      "source": [
        "%%bash\n",
        "7z x dataset/test_set.zip -odataset\n",
        "7z x dataset/training_set.zip -odataset"
      ],
      "execution_count": 34,
      "outputs": [
        {
          "output_type": "stream",
          "text": [
            "\n",
            "7-Zip [64] 16.02 : Copyright (c) 1999-2016 Igor Pavlov : 2016-05-21\n",
            "p7zip Version 16.02 (locale=en_US.UTF-8,Utf16=on,HugeFiles=on,64 bits,2 CPUs Intel(R) Xeon(R) CPU @ 2.20GHz (406F0),ASM,AES-NI)\n",
            "\n",
            "Scanning the drive for archives:\n",
            "1 file, 3711630 bytes (3625 KiB)\n",
            "\n",
            "Extracting archive: dataset/test_set.zip\n",
            "--\n",
            "Path = dataset/test_set.zip\n",
            "Type = zip\n",
            "Physical Size = 3711630\n",
            "Embedded Stub Size = 4\n",
            "Total Physical Size = 45654670\n",
            "Multivolume = +\n",
            "Volume Index = 2\n",
            "Volumes = 3\n",
            "\n",
            "\n",
            "Would you like to replace the existing file:\n",
            "  Path:     dataset/test_set/cats/cat.4001.jpg\n",
            "  Size:     46992 bytes (46 KiB)\n",
            "  Modified: 2019-09-30 02:52:14\n",
            "with the file from archive:\n",
            "  Path:     test_set/cats/cat.4001.jpg\n",
            "  Size:     46992 bytes (46 KiB)\n",
            "  Modified: 2019-09-30 02:52:14\n",
            "? (Y)es / (N)o / (A)lways / (S)kip all / A(u)to rename all / (Q)uit? (Y)es / (N)o / (A)lways / (S)kip all / A(u)to rename all / (Q)uit? "
          ],
          "name": "stdout"
        },
        {
          "output_type": "stream",
          "text": [
            "\n",
            "\n",
            "ERROR:\n",
            "Unexpected end of input stream\n"
          ],
          "name": "stderr"
        }
      ]
    },
    {
      "cell_type": "code",
      "metadata": {
        "id": "hTd3JReGlT0r"
      },
      "source": [
        "import numpy as np\n",
        "import os\n",
        "import cv2\n",
        "from google.colab.patches import cv2_imshow\n",
        "from keras.utils import np_utils\n",
        "import matplotlib.pyplot as plt\n",
        "import tensorflow as tf\n",
        "import random"
      ],
      "execution_count": 35,
      "outputs": []
    },
    {
      "cell_type": "code",
      "metadata": {
        "id": "uEHd7kq0leEJ"
      },
      "source": [
        "def get_image_shapes(dir,count_limit = 10):\n",
        "  shapes = {}\n",
        "  for category in os.listdir(dir):\n",
        "    for file in os.listdir(os.path.join(dir,category)):\n",
        "      img_path = os.path.join(dir,category,file)\n",
        "      img = cv2.imread(img_path)\n",
        "      shape = img.shape\n",
        "      if shape not in shapes:\n",
        "        shapes[shape] = 1\n",
        "      else:\n",
        "        shapes[shape] = shapes[shape] + 1\n",
        "      \n",
        "  return sorted(shapes.items(),key=lambda item : -item[1])[:count_limit]"
      ],
      "execution_count": 36,
      "outputs": []
    },
    {
      "cell_type": "code",
      "metadata": {
        "id": "NA3x7ObDlopB"
      },
      "source": [
        "test_dir = 'dataset/test_set'\n",
        "training_dir = 'dataset/training_set'"
      ],
      "execution_count": 37,
      "outputs": []
    },
    {
      "cell_type": "code",
      "metadata": {
        "id": "5lNX7WfLln7S"
      },
      "source": [
        "def load_data_from_directory(dir,width,height,classes):\n",
        "  img_data = []\n",
        "  img_label = []\n",
        "  categories = os.listdir(dir)\n",
        "  for category in categories:\n",
        "    for file in os.listdir(os.path.join(dir,category)):\n",
        "      img_path = os.path.join(dir,category,file)\n",
        "      img = cv2.imread(img_path)\n",
        "      img = cv2.resize(img,(width,height))\n",
        "      # cv2_imshow(img)\n",
        "      img = np.array(img).astype('float32') / 255\n",
        "      \n",
        "      img_data.append(img)\n",
        "      img_label.append(category)\n",
        "\n",
        "  img_onehot = np_utils.to_categorical([categories.index(label) for label in img_label],classes,dtype=np.ubyte)\n",
        "  img_data = np.array(img_data)\n",
        "  img_onehot = np.array(img_onehot)\n",
        "\n",
        "  zip_list = list(zip(img_data, img_label, img_onehot))\n",
        "  random.shuffle(zip_list)\n",
        "  img_data, img_label, img_onehot = zip(*zip_list)\n",
        "  return img_data , img_label, img_onehot"
      ],
      "execution_count": 38,
      "outputs": []
    },
    {
      "cell_type": "code",
      "metadata": {
        "id": "cVb181xCZZbJ"
      },
      "source": [
        "classes = 2\n",
        "w = 128\n",
        "h = 128"
      ],
      "execution_count": 39,
      "outputs": []
    },
    {
      "cell_type": "code",
      "metadata": {
        "id": "9kpvfOQ3mDqq"
      },
      "source": [
        "train_x , train_label, train_onehot = load_data_from_directory(training_dir,w,h,classes)\n",
        "test_x , test_label, test_onehot = load_data_from_directory(test_dir,w,h,classes)"
      ],
      "execution_count": 40,
      "outputs": []
    },
    {
      "cell_type": "code",
      "metadata": {
        "id": "0TV8o9GRwGPi"
      },
      "source": [
        "test_label2 = []\n",
        "for i, label in enumerate(test_label):\n",
        "     test_label2.append(1) if (label == 'dogs') else test_label2.append(0)"
      ],
      "execution_count": 41,
      "outputs": []
    },
    {
      "cell_type": "code",
      "metadata": {
        "id": "v7XgBhICe2Y6"
      },
      "source": [
        "train_x = np.asarray(train_x)\n",
        "train_label = np.asarray(train_label)\n",
        "train_onehot = np.asarray(train_onehot)\n",
        "\n",
        "test_x = np.asarray(test_x)\n",
        "test_label = np.asarray(test_label2)\n",
        "test_onehot = np.asarray(test_onehot)"
      ],
      "execution_count": 42,
      "outputs": []
    },
    {
      "cell_type": "code",
      "metadata": {
        "id": "cYnCpcoumHxk"
      },
      "source": [
        "!rm -rf cleanData\n",
        "!mkdir cleanData\n",
        "np.save('cleanData/train_x.npy',train_x)\n",
        "np.save('cleanData/train_label.npy',train_label)\n",
        "np.save('cleanData/train_onehot.npy',train_onehot)\n",
        "\n",
        "np.save('cleanData/test_x.npy',test_x)\n",
        "np.save('cleanData/test_label.npy',test_label)\n",
        "np.save('cleanData/test_onehot.npy',test_onehot)"
      ],
      "execution_count": 43,
      "outputs": []
    },
    {
      "cell_type": "code",
      "metadata": {
        "id": "mpcwCHVPmI1z"
      },
      "source": [
        "train_x = np.load('cleanData/train_x.npy')\n",
        "train_label = np.load('cleanData/train_onehot.npy')\n",
        "\n",
        "test_x = np.load('cleanData/test_x.npy')\n",
        "test_label = np.load('cleanData/test_onehot.npy')\n",
        "test_vec = np.load('cleanData/test_label.npy')"
      ],
      "execution_count": 44,
      "outputs": []
    },
    {
      "cell_type": "code",
      "metadata": {
        "id": "7FLzp06qGu1b"
      },
      "source": [
        "from sklearn.model_selection import train_test_split\n",
        "train_X, valid_X, train_Label, valid_Label = train_test_split(train_x, train_label, test_size = 0.2, random_state = 13)"
      ],
      "execution_count": 45,
      "outputs": []
    },
    {
      "cell_type": "markdown",
      "metadata": {
        "id": "_knM4FV1EPdM"
      },
      "source": [
        "# Generate basic Neural Network"
      ]
    },
    {
      "cell_type": "code",
      "metadata": {
        "id": "hKZBz2xEmUby"
      },
      "source": [
        "from keras.models import Sequential\n",
        "from keras.layers import Dense,Dropout,Activation,Flatten,LeakyReLU\n",
        "from keras.optimizers import Adam\n",
        "from keras.losses import categorical_crossentropy\n",
        "from keras.initializers import RandomNormal"
      ],
      "execution_count": 46,
      "outputs": []
    },
    {
      "cell_type": "markdown",
      "metadata": {
        "id": "YSYVxFTDHd2E"
      },
      "source": [
        "# توضیح کلی در مورد عملکرد این تابع"
      ]
    },
    {
      "cell_type": "code",
      "metadata": {
        "id": "V4H9KiSMMz9A"
      },
      "source": [
        "def train_model(config):\n",
        "  model = Sequential()\n",
        "\n",
        "  model.add(Flatten(input_shape=(h,w,3)))\n",
        "  model.add(Dropout(config['in_drop_out']))\n",
        "\n",
        "  for act ,drop_out, layers in config['layers']:\n",
        "    for layer in layers:\n",
        "      model.add(Dense(layer))\n",
        "      model.add(act())\n",
        "      model.add(Dropout(drop_out))\n",
        "\n",
        "  model.compile(\n",
        "    optimizer=Adam(config['learning_rate']),\n",
        "    loss=categorical_crossentropy,\n",
        "    metrics=['accuracy']\n",
        "  )\n",
        "\n",
        "  history = model.fit(train_x,train_label,\n",
        "                    batch_size=config['batch'],\n",
        "                    epochs = config['epochs'],\n",
        "                    shuffle=True,\n",
        "                    validation_data=(valid_X,valid_Label))\n",
        "  \n",
        "  \n",
        "  plt.plot(history.history['accuracy'])\n",
        "  plt.plot(history.history['val_accuracy'])\n",
        "  plt.title('Model Accuracy')\n",
        "  plt.ylabel('accuracy')\n",
        "  plt.xlabel('epoch')\n",
        "  plt.legend(['train','validation'],loc='lower right')\n",
        "  plt.show()\n",
        "\n",
        "  test_eval = model.evaluate(test_x, test_label, verbose = 0)\n",
        "\n",
        "  print('Test loss: ', test_eval[0])\n",
        "  print('Test accuracy: ', test_eval[1])\n",
        "  print('\\n\\n')\n",
        "  predictes_classes = model.predict(test_x)\n",
        "  predicted_classes = np.argmax(np.round(predictes_classes), axis = 1)\n",
        "\n",
        "  from sklearn.metrics import classification_report\n",
        "  target_names = [\"Class {}\".format(i) for i in range(classes)]\n",
        "  print(classification_report(test_vec, predicted_classes, target_names = target_names))\n",
        "\n",
        "  return model"
      ],
      "execution_count": 47,
      "outputs": []
    },
    {
      "cell_type": "markdown",
      "metadata": {
        "id": "h4Kquo41EqtQ"
      },
      "source": [
        "# 1- Initial model, Without any dropout and data augmentation\n",
        "\n",
        "به کمک دراپ‌اوت بصورت تصادفی تعدادی از نرون ها در هر لایه غیرفعال شده و با استفاده از این راه از بیش‌برازش شدن مدل جلوگیری می‌کنیم.\n",
        "\n"
      ]
    },
    {
      "cell_type": "code",
      "metadata": {
        "colab": {
          "base_uri": "https://localhost:8080/",
          "height": 1000
        },
        "id": "_ZCp78UkQtGz",
        "outputId": "64aae708-0662-4eb6-fff3-8f0c74e8e1f5"
      },
      "source": [
        "model = train_model({\n",
        "    'in_drop_out':0,\n",
        "    'layers' : [\n",
        "          (lambda : Activation('relu'),0,[2000,1600,800,600,500]+[400]*3+[400]*5+[300,250,200,150,120]), \n",
        "          (lambda : Activation('softmax'),0,[2])\n",
        "    ],\n",
        "    'learning_rate':3e-4,\n",
        "    'batch':256,\n",
        "    'epochs':100\n",
        "})"
      ],
      "execution_count": 48,
      "outputs": [
        {
          "output_type": "stream",
          "text": [
            "Epoch 1/100\n",
            "32/32 [==============================] - 7s 127ms/step - loss: 0.6943 - accuracy: 0.4985 - val_loss: 0.6932 - val_accuracy: 0.4969\n",
            "Epoch 2/100\n",
            "32/32 [==============================] - 2s 72ms/step - loss: 0.6933 - accuracy: 0.5019 - val_loss: 0.6932 - val_accuracy: 0.5031\n",
            "Epoch 3/100\n",
            "32/32 [==============================] - 2s 73ms/step - loss: 0.6933 - accuracy: 0.5030 - val_loss: 0.6932 - val_accuracy: 0.5031\n",
            "Epoch 4/100\n",
            "32/32 [==============================] - 2s 74ms/step - loss: 0.6924 - accuracy: 0.5183 - val_loss: 0.6932 - val_accuracy: 0.5031\n",
            "Epoch 5/100\n",
            "32/32 [==============================] - 2s 71ms/step - loss: 0.6906 - accuracy: 0.5277 - val_loss: 0.6925 - val_accuracy: 0.5031\n",
            "Epoch 6/100\n",
            "32/32 [==============================] - 2s 68ms/step - loss: 0.6909 - accuracy: 0.5297 - val_loss: 0.6889 - val_accuracy: 0.5225\n",
            "Epoch 7/100\n",
            "32/32 [==============================] - 2s 70ms/step - loss: 0.6880 - accuracy: 0.5482 - val_loss: 0.6864 - val_accuracy: 0.5675\n",
            "Epoch 8/100\n",
            "32/32 [==============================] - 2s 68ms/step - loss: 0.6835 - accuracy: 0.5717 - val_loss: 0.6785 - val_accuracy: 0.5537\n",
            "Epoch 9/100\n",
            "32/32 [==============================] - 2s 67ms/step - loss: 0.6816 - accuracy: 0.5491 - val_loss: 0.6882 - val_accuracy: 0.5763\n",
            "Epoch 10/100\n",
            "32/32 [==============================] - 2s 69ms/step - loss: 0.6614 - accuracy: 0.6070 - val_loss: 0.6712 - val_accuracy: 0.5800\n",
            "Epoch 11/100\n",
            "32/32 [==============================] - 2s 68ms/step - loss: 0.6640 - accuracy: 0.6059 - val_loss: 0.6556 - val_accuracy: 0.6025\n",
            "Epoch 12/100\n",
            "32/32 [==============================] - 2s 70ms/step - loss: 0.6479 - accuracy: 0.6218 - val_loss: 0.6652 - val_accuracy: 0.6162\n",
            "Epoch 13/100\n",
            "32/32 [==============================] - 2s 68ms/step - loss: 0.6533 - accuracy: 0.6231 - val_loss: 0.6525 - val_accuracy: 0.6306\n",
            "Epoch 14/100\n",
            "32/32 [==============================] - 2s 68ms/step - loss: 0.6379 - accuracy: 0.6379 - val_loss: 0.6467 - val_accuracy: 0.6250\n",
            "Epoch 15/100\n",
            "32/32 [==============================] - 2s 69ms/step - loss: 0.6379 - accuracy: 0.6370 - val_loss: 0.6279 - val_accuracy: 0.6394\n",
            "Epoch 16/100\n",
            "32/32 [==============================] - 2s 69ms/step - loss: 0.6263 - accuracy: 0.6445 - val_loss: 0.6318 - val_accuracy: 0.6519\n",
            "Epoch 17/100\n",
            "32/32 [==============================] - 2s 69ms/step - loss: 0.6191 - accuracy: 0.6637 - val_loss: 0.6883 - val_accuracy: 0.5844\n",
            "Epoch 18/100\n",
            "32/32 [==============================] - 2s 68ms/step - loss: 0.6355 - accuracy: 0.6408 - val_loss: 0.6143 - val_accuracy: 0.6725\n",
            "Epoch 19/100\n",
            "32/32 [==============================] - 2s 69ms/step - loss: 0.6217 - accuracy: 0.6605 - val_loss: 0.6148 - val_accuracy: 0.6850\n",
            "Epoch 20/100\n",
            "32/32 [==============================] - 2s 68ms/step - loss: 0.6231 - accuracy: 0.6476 - val_loss: 0.6001 - val_accuracy: 0.6812\n",
            "Epoch 21/100\n",
            "32/32 [==============================] - 2s 68ms/step - loss: 0.6008 - accuracy: 0.6667 - val_loss: 0.6106 - val_accuracy: 0.6712\n",
            "Epoch 22/100\n",
            "32/32 [==============================] - 2s 68ms/step - loss: 0.5960 - accuracy: 0.6809 - val_loss: 0.5939 - val_accuracy: 0.6787\n",
            "Epoch 23/100\n",
            "32/32 [==============================] - 2s 67ms/step - loss: 0.5962 - accuracy: 0.6731 - val_loss: 0.6060 - val_accuracy: 0.6719\n",
            "Epoch 24/100\n",
            "32/32 [==============================] - 2s 68ms/step - loss: 0.5889 - accuracy: 0.6826 - val_loss: 0.6210 - val_accuracy: 0.6562\n",
            "Epoch 25/100\n",
            "32/32 [==============================] - 2s 68ms/step - loss: 0.5893 - accuracy: 0.6799 - val_loss: 0.5676 - val_accuracy: 0.7000\n",
            "Epoch 26/100\n",
            "32/32 [==============================] - 2s 67ms/step - loss: 0.5860 - accuracy: 0.6856 - val_loss: 0.5690 - val_accuracy: 0.7050\n",
            "Epoch 27/100\n",
            "32/32 [==============================] - 2s 67ms/step - loss: 0.5657 - accuracy: 0.7047 - val_loss: 0.5501 - val_accuracy: 0.7212\n",
            "Epoch 28/100\n",
            "32/32 [==============================] - 2s 67ms/step - loss: 0.5395 - accuracy: 0.7202 - val_loss: 0.5557 - val_accuracy: 0.7225\n",
            "Epoch 29/100\n",
            "32/32 [==============================] - 2s 67ms/step - loss: 0.5395 - accuracy: 0.7143 - val_loss: 0.5506 - val_accuracy: 0.7025\n",
            "Epoch 30/100\n",
            "32/32 [==============================] - 2s 67ms/step - loss: 0.5468 - accuracy: 0.7110 - val_loss: 0.5882 - val_accuracy: 0.7006\n",
            "Epoch 31/100\n",
            "32/32 [==============================] - 2s 69ms/step - loss: 0.5560 - accuracy: 0.7158 - val_loss: 0.5283 - val_accuracy: 0.7394\n",
            "Epoch 32/100\n",
            "32/32 [==============================] - 2s 69ms/step - loss: 0.5264 - accuracy: 0.7320 - val_loss: 0.5390 - val_accuracy: 0.7119\n",
            "Epoch 33/100\n",
            "32/32 [==============================] - 2s 67ms/step - loss: 0.5342 - accuracy: 0.7331 - val_loss: 0.6141 - val_accuracy: 0.7088\n",
            "Epoch 34/100\n",
            "32/32 [==============================] - 2s 68ms/step - loss: 0.5377 - accuracy: 0.7235 - val_loss: 0.5018 - val_accuracy: 0.7500\n",
            "Epoch 35/100\n",
            "32/32 [==============================] - 2s 65ms/step - loss: 0.5127 - accuracy: 0.7487 - val_loss: 0.5772 - val_accuracy: 0.6775\n",
            "Epoch 36/100\n",
            "32/32 [==============================] - 2s 67ms/step - loss: 0.5408 - accuracy: 0.7127 - val_loss: 0.5021 - val_accuracy: 0.7600\n",
            "Epoch 37/100\n",
            "32/32 [==============================] - 2s 67ms/step - loss: 0.5265 - accuracy: 0.7375 - val_loss: 0.5235 - val_accuracy: 0.7319\n",
            "Epoch 38/100\n",
            "32/32 [==============================] - 2s 68ms/step - loss: 0.4875 - accuracy: 0.7532 - val_loss: 0.4976 - val_accuracy: 0.7369\n",
            "Epoch 39/100\n",
            "32/32 [==============================] - 2s 68ms/step - loss: 0.4962 - accuracy: 0.7584 - val_loss: 0.4891 - val_accuracy: 0.7494\n",
            "Epoch 40/100\n",
            "32/32 [==============================] - 2s 68ms/step - loss: 0.4727 - accuracy: 0.7680 - val_loss: 0.4318 - val_accuracy: 0.7806\n",
            "Epoch 41/100\n",
            "32/32 [==============================] - 2s 67ms/step - loss: 0.4427 - accuracy: 0.7828 - val_loss: 1.0706 - val_accuracy: 0.6219\n",
            "Epoch 42/100\n",
            "32/32 [==============================] - 2s 68ms/step - loss: 0.6602 - accuracy: 0.6766 - val_loss: 0.5491 - val_accuracy: 0.7412\n",
            "Epoch 43/100\n",
            "32/32 [==============================] - 2s 67ms/step - loss: 0.6105 - accuracy: 0.6639 - val_loss: 0.5059 - val_accuracy: 0.7212\n",
            "Epoch 44/100\n",
            "32/32 [==============================] - 2s 69ms/step - loss: 0.6228 - accuracy: 0.6341 - val_loss: 0.4963 - val_accuracy: 0.7606\n",
            "Epoch 45/100\n",
            "32/32 [==============================] - 2s 68ms/step - loss: 0.4981 - accuracy: 0.7483 - val_loss: 0.4635 - val_accuracy: 0.7962\n",
            "Epoch 46/100\n",
            "32/32 [==============================] - 2s 69ms/step - loss: 0.4778 - accuracy: 0.7730 - val_loss: 0.4770 - val_accuracy: 0.7812\n",
            "Epoch 47/100\n",
            "32/32 [==============================] - 2s 68ms/step - loss: 0.4770 - accuracy: 0.7703 - val_loss: 0.5472 - val_accuracy: 0.7362\n",
            "Epoch 48/100\n",
            "32/32 [==============================] - 2s 70ms/step - loss: 0.4910 - accuracy: 0.7530 - val_loss: 0.4200 - val_accuracy: 0.8119\n",
            "Epoch 49/100\n",
            "32/32 [==============================] - 2s 66ms/step - loss: 0.4400 - accuracy: 0.7955 - val_loss: 0.4222 - val_accuracy: 0.8006\n",
            "Epoch 50/100\n",
            "32/32 [==============================] - 2s 68ms/step - loss: 0.4255 - accuracy: 0.7932 - val_loss: 0.5298 - val_accuracy: 0.7100\n",
            "Epoch 51/100\n",
            "32/32 [==============================] - 2s 67ms/step - loss: 0.4590 - accuracy: 0.7805 - val_loss: 0.4446 - val_accuracy: 0.7919\n",
            "Epoch 52/100\n",
            "32/32 [==============================] - 2s 69ms/step - loss: 0.4586 - accuracy: 0.7853 - val_loss: 0.3946 - val_accuracy: 0.8288\n",
            "Epoch 53/100\n",
            "32/32 [==============================] - 2s 68ms/step - loss: 0.4025 - accuracy: 0.8120 - val_loss: 0.3647 - val_accuracy: 0.8281\n",
            "Epoch 54/100\n",
            "32/32 [==============================] - 2s 68ms/step - loss: 0.3717 - accuracy: 0.8280 - val_loss: 0.4205 - val_accuracy: 0.8156\n",
            "Epoch 55/100\n",
            "32/32 [==============================] - 2s 68ms/step - loss: 0.4572 - accuracy: 0.7688 - val_loss: 0.3808 - val_accuracy: 0.8375\n",
            "Epoch 56/100\n",
            "32/32 [==============================] - 2s 68ms/step - loss: 0.3839 - accuracy: 0.8293 - val_loss: 0.4064 - val_accuracy: 0.7912\n",
            "Epoch 57/100\n",
            "32/32 [==============================] - 2s 69ms/step - loss: 0.3766 - accuracy: 0.8241 - val_loss: 0.4375 - val_accuracy: 0.8019\n",
            "Epoch 58/100\n",
            "32/32 [==============================] - 2s 68ms/step - loss: 0.3916 - accuracy: 0.8127 - val_loss: 0.3094 - val_accuracy: 0.8650\n",
            "Epoch 59/100\n",
            "32/32 [==============================] - 2s 69ms/step - loss: 0.3587 - accuracy: 0.8379 - val_loss: 0.3265 - val_accuracy: 0.8519\n",
            "Epoch 60/100\n",
            "32/32 [==============================] - 2s 67ms/step - loss: 0.3321 - accuracy: 0.8482 - val_loss: 0.4846 - val_accuracy: 0.7688\n",
            "Epoch 61/100\n",
            "32/32 [==============================] - 2s 67ms/step - loss: 0.3976 - accuracy: 0.8131 - val_loss: 0.3565 - val_accuracy: 0.8356\n",
            "Epoch 62/100\n",
            "32/32 [==============================] - 2s 68ms/step - loss: 0.3625 - accuracy: 0.8341 - val_loss: 0.3156 - val_accuracy: 0.8644\n",
            "Epoch 63/100\n",
            "32/32 [==============================] - 2s 68ms/step - loss: 0.3095 - accuracy: 0.8664 - val_loss: 0.3118 - val_accuracy: 0.8669\n",
            "Epoch 64/100\n",
            "32/32 [==============================] - 2s 67ms/step - loss: 0.3540 - accuracy: 0.8364 - val_loss: 0.3467 - val_accuracy: 0.8413\n",
            "Epoch 65/100\n",
            "32/32 [==============================] - 2s 69ms/step - loss: 0.3467 - accuracy: 0.8394 - val_loss: 0.3487 - val_accuracy: 0.8562\n",
            "Epoch 66/100\n",
            "32/32 [==============================] - 2s 68ms/step - loss: 0.3115 - accuracy: 0.8656 - val_loss: 0.3272 - val_accuracy: 0.8675\n",
            "Epoch 67/100\n",
            "32/32 [==============================] - 2s 68ms/step - loss: 0.4270 - accuracy: 0.8059 - val_loss: 0.3237 - val_accuracy: 0.8712\n",
            "Epoch 68/100\n",
            "32/32 [==============================] - 2s 68ms/step - loss: 0.2988 - accuracy: 0.8766 - val_loss: 0.3793 - val_accuracy: 0.8681\n",
            "Epoch 69/100\n",
            "32/32 [==============================] - 2s 67ms/step - loss: 0.4253 - accuracy: 0.7943 - val_loss: 0.5625 - val_accuracy: 0.6750\n",
            "Epoch 70/100\n",
            "32/32 [==============================] - 2s 69ms/step - loss: 0.4918 - accuracy: 0.7793 - val_loss: 0.4017 - val_accuracy: 0.8200\n",
            "Epoch 71/100\n",
            "32/32 [==============================] - 2s 67ms/step - loss: 0.3505 - accuracy: 0.8514 - val_loss: 0.2431 - val_accuracy: 0.9025\n",
            "Epoch 72/100\n",
            "32/32 [==============================] - 2s 68ms/step - loss: 0.2700 - accuracy: 0.8834 - val_loss: 0.2387 - val_accuracy: 0.9050\n",
            "Epoch 73/100\n",
            "32/32 [==============================] - 2s 67ms/step - loss: 0.2719 - accuracy: 0.8842 - val_loss: 0.3200 - val_accuracy: 0.8612\n",
            "Epoch 74/100\n",
            "32/32 [==============================] - 2s 69ms/step - loss: 0.2641 - accuracy: 0.8838 - val_loss: 0.2859 - val_accuracy: 0.8712\n",
            "Epoch 75/100\n",
            "32/32 [==============================] - 2s 70ms/step - loss: 0.2661 - accuracy: 0.8826 - val_loss: 0.2290 - val_accuracy: 0.9050\n",
            "Epoch 76/100\n",
            "32/32 [==============================] - 2s 68ms/step - loss: 0.2261 - accuracy: 0.9063 - val_loss: 0.3579 - val_accuracy: 0.8350\n",
            "Epoch 77/100\n",
            "32/32 [==============================] - 2s 67ms/step - loss: 0.2657 - accuracy: 0.8868 - val_loss: 0.2372 - val_accuracy: 0.8988\n",
            "Epoch 78/100\n",
            "32/32 [==============================] - 2s 69ms/step - loss: 0.2698 - accuracy: 0.8839 - val_loss: 0.1893 - val_accuracy: 0.9125\n",
            "Epoch 79/100\n",
            "32/32 [==============================] - 2s 67ms/step - loss: 0.2305 - accuracy: 0.8960 - val_loss: 0.1784 - val_accuracy: 0.9306\n",
            "Epoch 80/100\n",
            "32/32 [==============================] - 2s 68ms/step - loss: 0.2209 - accuracy: 0.9086 - val_loss: 0.1774 - val_accuracy: 0.9306\n",
            "Epoch 81/100\n",
            "32/32 [==============================] - 2s 68ms/step - loss: 0.1889 - accuracy: 0.9189 - val_loss: 0.1573 - val_accuracy: 0.9394\n",
            "Epoch 82/100\n",
            "32/32 [==============================] - 2s 68ms/step - loss: 0.3117 - accuracy: 0.8649 - val_loss: 0.2534 - val_accuracy: 0.8888\n",
            "Epoch 83/100\n",
            "32/32 [==============================] - 2s 68ms/step - loss: 0.3147 - accuracy: 0.8584 - val_loss: 0.1605 - val_accuracy: 0.9394\n",
            "Epoch 84/100\n",
            "32/32 [==============================] - 2s 68ms/step - loss: 0.2053 - accuracy: 0.9137 - val_loss: 0.2342 - val_accuracy: 0.8988\n",
            "Epoch 85/100\n",
            "32/32 [==============================] - 2s 68ms/step - loss: 0.2032 - accuracy: 0.9117 - val_loss: 0.1840 - val_accuracy: 0.9287\n",
            "Epoch 86/100\n",
            "32/32 [==============================] - 2s 68ms/step - loss: 0.2060 - accuracy: 0.9154 - val_loss: 0.1455 - val_accuracy: 0.9375\n",
            "Epoch 87/100\n",
            "32/32 [==============================] - 2s 68ms/step - loss: 0.1951 - accuracy: 0.9192 - val_loss: 0.1400 - val_accuracy: 0.9469\n",
            "Epoch 88/100\n",
            "32/32 [==============================] - 2s 67ms/step - loss: 0.1822 - accuracy: 0.9238 - val_loss: 0.1450 - val_accuracy: 0.9531\n",
            "Epoch 89/100\n",
            "32/32 [==============================] - 2s 70ms/step - loss: 0.2409 - accuracy: 0.8958 - val_loss: 0.1880 - val_accuracy: 0.9169\n",
            "Epoch 90/100\n",
            "32/32 [==============================] - 2s 69ms/step - loss: 0.1691 - accuracy: 0.9259 - val_loss: 0.1591 - val_accuracy: 0.9350\n",
            "Epoch 91/100\n",
            "32/32 [==============================] - 2s 69ms/step - loss: 0.1417 - accuracy: 0.9459 - val_loss: 0.1559 - val_accuracy: 0.9375\n",
            "Epoch 92/100\n",
            "32/32 [==============================] - 2s 67ms/step - loss: 0.1414 - accuracy: 0.9455 - val_loss: 0.0824 - val_accuracy: 0.9719\n",
            "Epoch 93/100\n",
            "32/32 [==============================] - 2s 67ms/step - loss: 0.1536 - accuracy: 0.9343 - val_loss: 0.1633 - val_accuracy: 0.9344\n",
            "Epoch 94/100\n",
            "32/32 [==============================] - 2s 68ms/step - loss: 0.1305 - accuracy: 0.9476 - val_loss: 0.0952 - val_accuracy: 0.9656\n",
            "Epoch 95/100\n",
            "32/32 [==============================] - 2s 68ms/step - loss: 0.1529 - accuracy: 0.9410 - val_loss: 0.1258 - val_accuracy: 0.9513\n",
            "Epoch 96/100\n",
            "32/32 [==============================] - 2s 68ms/step - loss: 0.1063 - accuracy: 0.9620 - val_loss: 0.3490 - val_accuracy: 0.8544\n",
            "Epoch 97/100\n",
            "32/32 [==============================] - 2s 68ms/step - loss: 0.1665 - accuracy: 0.9291 - val_loss: 0.1175 - val_accuracy: 0.9469\n",
            "Epoch 98/100\n",
            "32/32 [==============================] - 2s 66ms/step - loss: 0.1333 - accuracy: 0.9491 - val_loss: 0.0949 - val_accuracy: 0.9631\n",
            "Epoch 99/100\n",
            "32/32 [==============================] - 2s 67ms/step - loss: 0.0965 - accuracy: 0.9615 - val_loss: 0.0575 - val_accuracy: 0.9781\n",
            "Epoch 100/100\n",
            "32/32 [==============================] - 2s 67ms/step - loss: 0.1187 - accuracy: 0.9512 - val_loss: 0.2681 - val_accuracy: 0.8781\n"
          ],
          "name": "stdout"
        },
        {
          "output_type": "display_data",
          "data": {
            "image/png": "[encoded data removed]",
            "text/plain": [
              "<Figure size 432x288 with 1 Axes>"
            ]
          },
          "metadata": {
            "tags": [],
            "needs_background": "light"
          }
        },
        {
          "output_type": "stream",
          "text": [
            "Test loss:  1.0615322589874268\n",
            "Test accuracy:  0.6209999918937683\n",
            "\n",
            "\n",
            "\n",
            "              precision    recall  f1-score   support\n",
            "\n",
            "     Class 0       0.67      0.48      0.56      1000\n",
            "     Class 1       0.59      0.77      0.67      1000\n",
            "\n",
            "    accuracy                           0.62      2000\n",
            "   macro avg       0.63      0.62      0.61      2000\n",
            "weighted avg       0.63      0.62      0.61      2000\n",
            "\n"
          ],
          "name": "stdout"
        }
      ]
    },
    {
      "cell_type": "markdown",
      "metadata": {
        "id": "690MmD_Ik20Z"
      },
      "source": [
        "# تحلیل مدل اولیه\n",
        "\n",
        "با مقایسه صحت مدل در زمان آموزش و در زمان تست درمی‌یابیم که مدل دچار پیش‌برازش شده است، چرا که در زمان آموزش صحت مدل تا ۹۶ درصد افزایش یافته و در ۸۸ درصد متوقف شده است اما در زمان تست به ۶۲ درصد کاهش یافته است.\n",
        "\n",
        "برای حل این مشکل میتوانیم:\n",
        "- از مدل پیچیده تری استفاده کینم\n",
        "- در تکنیک منظم سازی دراپ‌اوت بهره بگیریم\n",
        "- به کمک آگمنتیشن تغییراتی در داده های زمان آموزش ایجاد کنیم\n",
        "\n",
        "در ادامه بوسیله‌ی دو راه حل آخر سعی شده که عملکرد مدل را بهبود دهیم."
      ]
    },
    {
      "cell_type": "markdown",
      "metadata": {
        "id": "zhb7FL87IGXz"
      },
      "source": [
        "# 2- Train model with Dropout Regularization"
      ]
    },
    {
      "cell_type": "code",
      "metadata": {
        "colab": {
          "base_uri": "https://localhost:8080/",
          "height": 1000
        },
        "id": "oNn6m5UnIPA9",
        "outputId": "53d07b99-30f3-4b92-c850-083f1f6a052f"
      },
      "source": [
        "model = train_model({\n",
        "    'in_drop_out':0,\n",
        "    'layers' : [\n",
        "          (lambda : Activation('relu'),0.1,[2000,1600,800,600,500]+[400]*3+[400]*5+[300,250,200,150,120]), \n",
        "          (lambda : Activation('softmax'),0,[2])\n",
        "    ],\n",
        "    'learning_rate':3e-4,\n",
        "    'batch':256,\n",
        "    'epochs':100\n",
        "})"
      ],
      "execution_count": 51,
      "outputs": [
        {
          "output_type": "stream",
          "text": [
            "Epoch 1/100\n",
            "32/32 [==============================] - 4s 75ms/step - loss: 0.6979 - accuracy: 0.5043 - val_loss: 0.6951 - val_accuracy: 0.5031\n",
            "Epoch 2/100\n",
            "32/32 [==============================] - 2s 68ms/step - loss: 0.6966 - accuracy: 0.5029 - val_loss: 0.6934 - val_accuracy: 0.4969\n",
            "Epoch 3/100\n",
            "32/32 [==============================] - 2s 69ms/step - loss: 0.6935 - accuracy: 0.4937 - val_loss: 0.6932 - val_accuracy: 0.5031\n",
            "Epoch 4/100\n",
            "32/32 [==============================] - 2s 67ms/step - loss: 0.6938 - accuracy: 0.4987 - val_loss: 0.6934 - val_accuracy: 0.4969\n",
            "Epoch 5/100\n",
            "32/32 [==============================] - 2s 68ms/step - loss: 0.6942 - accuracy: 0.4894 - val_loss: 0.6929 - val_accuracy: 0.5200\n",
            "Epoch 6/100\n",
            "32/32 [==============================] - 2s 68ms/step - loss: 0.6929 - accuracy: 0.5182 - val_loss: 0.6927 - val_accuracy: 0.4956\n",
            "Epoch 7/100\n",
            "32/32 [==============================] - 2s 68ms/step - loss: 0.6915 - accuracy: 0.5270 - val_loss: 0.6849 - val_accuracy: 0.5813\n",
            "Epoch 8/100\n",
            "32/32 [==============================] - 2s 68ms/step - loss: 0.6863 - accuracy: 0.5701 - val_loss: 0.6846 - val_accuracy: 0.5688\n",
            "Epoch 9/100\n",
            "32/32 [==============================] - 2s 68ms/step - loss: 0.6839 - accuracy: 0.5635 - val_loss: 0.6905 - val_accuracy: 0.5325\n",
            "Epoch 10/100\n",
            "32/32 [==============================] - 2s 68ms/step - loss: 0.6770 - accuracy: 0.5834 - val_loss: 0.6592 - val_accuracy: 0.6062\n",
            "Epoch 11/100\n",
            "32/32 [==============================] - 2s 68ms/step - loss: 0.6670 - accuracy: 0.6028 - val_loss: 0.6844 - val_accuracy: 0.5763\n",
            "Epoch 12/100\n",
            "32/32 [==============================] - 2s 69ms/step - loss: 0.6665 - accuracy: 0.6028 - val_loss: 0.6688 - val_accuracy: 0.6144\n",
            "Epoch 13/100\n",
            "32/32 [==============================] - 2s 68ms/step - loss: 0.6603 - accuracy: 0.6151 - val_loss: 0.6463 - val_accuracy: 0.6281\n",
            "Epoch 14/100\n",
            "32/32 [==============================] - 2s 68ms/step - loss: 0.6459 - accuracy: 0.6336 - val_loss: 0.6644 - val_accuracy: 0.6250\n",
            "Epoch 15/100\n",
            "32/32 [==============================] - 2s 68ms/step - loss: 0.6551 - accuracy: 0.6218 - val_loss: 0.6593 - val_accuracy: 0.6256\n",
            "Epoch 16/100\n",
            "32/32 [==============================] - 2s 69ms/step - loss: 0.6436 - accuracy: 0.6363 - val_loss: 0.6422 - val_accuracy: 0.6162\n",
            "Epoch 17/100\n",
            "32/32 [==============================] - 2s 69ms/step - loss: 0.6464 - accuracy: 0.6315 - val_loss: 0.6316 - val_accuracy: 0.6481\n",
            "Epoch 18/100\n",
            "32/32 [==============================] - 2s 68ms/step - loss: 0.6436 - accuracy: 0.6336 - val_loss: 0.6402 - val_accuracy: 0.6225\n",
            "Epoch 19/100\n",
            "32/32 [==============================] - 2s 68ms/step - loss: 0.6380 - accuracy: 0.6383 - val_loss: 0.6288 - val_accuracy: 0.6544\n",
            "Epoch 20/100\n",
            "32/32 [==============================] - 2s 68ms/step - loss: 0.6245 - accuracy: 0.6595 - val_loss: 0.6207 - val_accuracy: 0.6662\n",
            "Epoch 21/100\n",
            "32/32 [==============================] - 2s 69ms/step - loss: 0.6264 - accuracy: 0.6598 - val_loss: 0.6314 - val_accuracy: 0.6425\n",
            "Epoch 22/100\n",
            "32/32 [==============================] - 2s 69ms/step - loss: 0.6266 - accuracy: 0.6582 - val_loss: 0.6342 - val_accuracy: 0.6144\n",
            "Epoch 23/100\n",
            "32/32 [==============================] - 2s 67ms/step - loss: 0.6246 - accuracy: 0.6475 - val_loss: 0.6137 - val_accuracy: 0.6631\n",
            "Epoch 24/100\n",
            "32/32 [==============================] - 2s 68ms/step - loss: 0.6132 - accuracy: 0.6648 - val_loss: 0.6056 - val_accuracy: 0.6731\n",
            "Epoch 25/100\n",
            "32/32 [==============================] - 2s 68ms/step - loss: 0.6080 - accuracy: 0.6687 - val_loss: 0.6099 - val_accuracy: 0.6731\n",
            "Epoch 26/100\n",
            "32/32 [==============================] - 2s 69ms/step - loss: 0.6137 - accuracy: 0.6657 - val_loss: 0.7080 - val_accuracy: 0.6000\n",
            "Epoch 27/100\n",
            "32/32 [==============================] - 2s 69ms/step - loss: 0.6585 - accuracy: 0.6289 - val_loss: 0.5991 - val_accuracy: 0.6900\n",
            "Epoch 28/100\n",
            "32/32 [==============================] - 2s 68ms/step - loss: 0.6079 - accuracy: 0.6777 - val_loss: 0.6045 - val_accuracy: 0.6837\n",
            "Epoch 29/100\n",
            "32/32 [==============================] - 2s 68ms/step - loss: 0.5885 - accuracy: 0.6870 - val_loss: 0.6055 - val_accuracy: 0.6731\n",
            "Epoch 30/100\n",
            "32/32 [==============================] - 2s 68ms/step - loss: 0.6064 - accuracy: 0.6750 - val_loss: 0.5941 - val_accuracy: 0.6900\n",
            "Epoch 31/100\n",
            "32/32 [==============================] - 2s 69ms/step - loss: 0.5925 - accuracy: 0.6937 - val_loss: 0.5909 - val_accuracy: 0.7063\n",
            "Epoch 32/100\n",
            "32/32 [==============================] - 2s 67ms/step - loss: 0.6004 - accuracy: 0.6804 - val_loss: 0.5797 - val_accuracy: 0.7031\n",
            "Epoch 33/100\n",
            "32/32 [==============================] - 2s 67ms/step - loss: 0.5851 - accuracy: 0.6983 - val_loss: 0.6095 - val_accuracy: 0.6719\n",
            "Epoch 34/100\n",
            "32/32 [==============================] - 2s 68ms/step - loss: 0.5981 - accuracy: 0.6810 - val_loss: 0.5885 - val_accuracy: 0.7063\n",
            "Epoch 35/100\n",
            "32/32 [==============================] - 2s 67ms/step - loss: 0.5804 - accuracy: 0.6928 - val_loss: 0.5703 - val_accuracy: 0.7188\n",
            "Epoch 36/100\n",
            "32/32 [==============================] - 2s 66ms/step - loss: 0.5760 - accuracy: 0.6992 - val_loss: 0.5912 - val_accuracy: 0.6856\n",
            "Epoch 37/100\n",
            "32/32 [==============================] - 2s 68ms/step - loss: 0.6097 - accuracy: 0.6688 - val_loss: 0.6070 - val_accuracy: 0.6950\n",
            "Epoch 38/100\n",
            "32/32 [==============================] - 2s 67ms/step - loss: 0.6108 - accuracy: 0.6572 - val_loss: 0.5766 - val_accuracy: 0.7075\n",
            "Epoch 39/100\n",
            "32/32 [==============================] - 2s 67ms/step - loss: 0.6020 - accuracy: 0.6688 - val_loss: 0.5784 - val_accuracy: 0.7075\n",
            "Epoch 40/100\n",
            "32/32 [==============================] - 2s 67ms/step - loss: 0.5869 - accuracy: 0.6928 - val_loss: 0.5717 - val_accuracy: 0.7156\n",
            "Epoch 41/100\n",
            "32/32 [==============================] - 2s 67ms/step - loss: 0.5866 - accuracy: 0.6903 - val_loss: 0.5807 - val_accuracy: 0.6969\n",
            "Epoch 42/100\n",
            "32/32 [==============================] - 2s 67ms/step - loss: 0.6190 - accuracy: 0.6616 - val_loss: 0.5974 - val_accuracy: 0.6919\n",
            "Epoch 43/100\n",
            "32/32 [==============================] - 2s 66ms/step - loss: 0.6073 - accuracy: 0.6763 - val_loss: 0.6131 - val_accuracy: 0.6606\n",
            "Epoch 44/100\n",
            "32/32 [==============================] - 2s 66ms/step - loss: 0.5994 - accuracy: 0.6760 - val_loss: 0.6025 - val_accuracy: 0.6756\n",
            "Epoch 45/100\n",
            "32/32 [==============================] - 2s 68ms/step - loss: 0.5978 - accuracy: 0.6767 - val_loss: 0.5769 - val_accuracy: 0.7069\n",
            "Epoch 46/100\n",
            "32/32 [==============================] - 2s 67ms/step - loss: 0.5904 - accuracy: 0.6786 - val_loss: 0.5772 - val_accuracy: 0.7106\n",
            "Epoch 47/100\n",
            "32/32 [==============================] - 2s 66ms/step - loss: 0.5664 - accuracy: 0.6952 - val_loss: 0.6022 - val_accuracy: 0.6819\n",
            "Epoch 48/100\n",
            "32/32 [==============================] - 2s 67ms/step - loss: 0.6047 - accuracy: 0.6707 - val_loss: 0.5643 - val_accuracy: 0.6881\n",
            "Epoch 49/100\n",
            "32/32 [==============================] - 2s 66ms/step - loss: 0.5696 - accuracy: 0.6907 - val_loss: 0.5440 - val_accuracy: 0.7156\n",
            "Epoch 50/100\n",
            "32/32 [==============================] - 2s 67ms/step - loss: 0.5815 - accuracy: 0.6909 - val_loss: 0.5875 - val_accuracy: 0.6819\n",
            "Epoch 51/100\n",
            "32/32 [==============================] - 2s 68ms/step - loss: 0.5881 - accuracy: 0.6734 - val_loss: 0.6144 - val_accuracy: 0.7050\n",
            "Epoch 52/100\n",
            "32/32 [==============================] - 2s 68ms/step - loss: 0.6173 - accuracy: 0.6786 - val_loss: 0.5668 - val_accuracy: 0.7088\n",
            "Epoch 53/100\n",
            "32/32 [==============================] - 2s 68ms/step - loss: 0.5663 - accuracy: 0.7046 - val_loss: 0.5703 - val_accuracy: 0.7119\n",
            "Epoch 54/100\n",
            "32/32 [==============================] - 2s 68ms/step - loss: 0.5719 - accuracy: 0.7020 - val_loss: 0.5667 - val_accuracy: 0.7206\n",
            "Epoch 55/100\n",
            "32/32 [==============================] - 2s 68ms/step - loss: 0.5590 - accuracy: 0.7122 - val_loss: 0.5123 - val_accuracy: 0.7500\n",
            "Epoch 56/100\n",
            "32/32 [==============================] - 2s 67ms/step - loss: 0.5671 - accuracy: 0.7054 - val_loss: 0.5142 - val_accuracy: 0.7456\n",
            "Epoch 57/100\n",
            "32/32 [==============================] - 2s 68ms/step - loss: 0.5378 - accuracy: 0.7222 - val_loss: 0.5139 - val_accuracy: 0.7487\n",
            "Epoch 58/100\n",
            "32/32 [==============================] - 2s 66ms/step - loss: 0.5416 - accuracy: 0.7185 - val_loss: 0.5094 - val_accuracy: 0.7506\n",
            "Epoch 59/100\n",
            "32/32 [==============================] - 2s 67ms/step - loss: 0.5380 - accuracy: 0.7209 - val_loss: 0.5726 - val_accuracy: 0.7125\n",
            "Epoch 60/100\n",
            "32/32 [==============================] - 2s 68ms/step - loss: 0.5654 - accuracy: 0.6879 - val_loss: 0.5979 - val_accuracy: 0.6888\n",
            "Epoch 61/100\n",
            "32/32 [==============================] - 2s 66ms/step - loss: 0.5583 - accuracy: 0.7060 - val_loss: 0.5050 - val_accuracy: 0.7381\n",
            "Epoch 62/100\n",
            "32/32 [==============================] - 2s 67ms/step - loss: 0.5257 - accuracy: 0.7320 - val_loss: 0.5247 - val_accuracy: 0.7588\n",
            "Epoch 63/100\n",
            "32/32 [==============================] - 2s 68ms/step - loss: 0.5342 - accuracy: 0.7127 - val_loss: 0.4879 - val_accuracy: 0.7681\n",
            "Epoch 64/100\n",
            "32/32 [==============================] - 2s 69ms/step - loss: 0.5181 - accuracy: 0.7290 - val_loss: 0.5047 - val_accuracy: 0.7500\n",
            "Epoch 65/100\n",
            "32/32 [==============================] - 2s 69ms/step - loss: 0.5164 - accuracy: 0.7318 - val_loss: 0.5099 - val_accuracy: 0.7500\n",
            "Epoch 66/100\n",
            "32/32 [==============================] - 2s 69ms/step - loss: 0.5232 - accuracy: 0.7053 - val_loss: 0.5436 - val_accuracy: 0.7462\n",
            "Epoch 67/100\n",
            "32/32 [==============================] - 2s 69ms/step - loss: 0.5274 - accuracy: 0.7297 - val_loss: 0.4787 - val_accuracy: 0.7638\n",
            "Epoch 68/100\n",
            "32/32 [==============================] - 2s 67ms/step - loss: 0.4996 - accuracy: 0.7457 - val_loss: 0.4730 - val_accuracy: 0.7681\n",
            "Epoch 69/100\n",
            "32/32 [==============================] - 2s 69ms/step - loss: 0.4918 - accuracy: 0.7585 - val_loss: 0.4782 - val_accuracy: 0.7800\n",
            "Epoch 70/100\n",
            "32/32 [==============================] - 2s 68ms/step - loss: 0.5029 - accuracy: 0.7389 - val_loss: 0.4883 - val_accuracy: 0.7513\n",
            "Epoch 71/100\n",
            "32/32 [==============================] - 2s 67ms/step - loss: 0.5356 - accuracy: 0.7115 - val_loss: 0.4909 - val_accuracy: 0.7531\n",
            "Epoch 72/100\n",
            "32/32 [==============================] - 2s 66ms/step - loss: 0.5378 - accuracy: 0.7129 - val_loss: 0.4880 - val_accuracy: 0.7631\n",
            "Epoch 73/100\n",
            "32/32 [==============================] - 2s 68ms/step - loss: 0.4945 - accuracy: 0.7366 - val_loss: 0.5604 - val_accuracy: 0.7300\n",
            "Epoch 74/100\n",
            "32/32 [==============================] - 2s 68ms/step - loss: 0.5422 - accuracy: 0.7251 - val_loss: 0.5065 - val_accuracy: 0.7606\n",
            "Epoch 75/100\n",
            "32/32 [==============================] - 2s 67ms/step - loss: 0.5190 - accuracy: 0.7457 - val_loss: 0.4987 - val_accuracy: 0.7681\n",
            "Epoch 76/100\n",
            "32/32 [==============================] - 2s 67ms/step - loss: 0.5124 - accuracy: 0.7472 - val_loss: 0.4907 - val_accuracy: 0.7725\n",
            "Epoch 77/100\n",
            "32/32 [==============================] - 2s 68ms/step - loss: 0.5124 - accuracy: 0.7448 - val_loss: 0.5239 - val_accuracy: 0.7538\n",
            "Epoch 78/100\n",
            "32/32 [==============================] - 2s 67ms/step - loss: 0.5198 - accuracy: 0.7509 - val_loss: 0.4886 - val_accuracy: 0.7906\n",
            "Epoch 79/100\n",
            "32/32 [==============================] - 2s 66ms/step - loss: 0.5327 - accuracy: 0.7323 - val_loss: 0.5117 - val_accuracy: 0.7544\n",
            "Epoch 80/100\n",
            "32/32 [==============================] - 2s 69ms/step - loss: 0.5177 - accuracy: 0.7498 - val_loss: 0.4796 - val_accuracy: 0.7925\n",
            "Epoch 81/100\n",
            "32/32 [==============================] - 2s 68ms/step - loss: 0.5174 - accuracy: 0.7512 - val_loss: 0.5130 - val_accuracy: 0.7375\n",
            "Epoch 82/100\n",
            "32/32 [==============================] - 2s 68ms/step - loss: 0.5192 - accuracy: 0.7498 - val_loss: 0.5720 - val_accuracy: 0.7038\n",
            "Epoch 83/100\n",
            "32/32 [==============================] - 2s 67ms/step - loss: 0.5622 - accuracy: 0.7203 - val_loss: 0.4863 - val_accuracy: 0.7794\n",
            "Epoch 84/100\n",
            "32/32 [==============================] - 2s 68ms/step - loss: 0.5236 - accuracy: 0.7411 - val_loss: 0.5129 - val_accuracy: 0.7462\n",
            "Epoch 85/100\n",
            "32/32 [==============================] - 2s 68ms/step - loss: 0.5283 - accuracy: 0.7276 - val_loss: 0.5007 - val_accuracy: 0.7650\n",
            "Epoch 86/100\n",
            "32/32 [==============================] - 2s 66ms/step - loss: 0.5395 - accuracy: 0.7516 - val_loss: 0.5414 - val_accuracy: 0.7344\n",
            "Epoch 87/100\n",
            "32/32 [==============================] - 2s 67ms/step - loss: 0.5575 - accuracy: 0.7306 - val_loss: 0.5287 - val_accuracy: 0.7544\n",
            "Epoch 88/100\n",
            "32/32 [==============================] - 2s 68ms/step - loss: 0.5599 - accuracy: 0.7266 - val_loss: 0.5104 - val_accuracy: 0.7625\n",
            "Epoch 89/100\n",
            "32/32 [==============================] - 2s 68ms/step - loss: 0.5359 - accuracy: 0.7456 - val_loss: 0.5167 - val_accuracy: 0.7625\n",
            "Epoch 90/100\n",
            "32/32 [==============================] - 2s 67ms/step - loss: 0.5327 - accuracy: 0.7538 - val_loss: 0.5191 - val_accuracy: 0.7619\n",
            "Epoch 91/100\n",
            "32/32 [==============================] - 2s 68ms/step - loss: 0.5573 - accuracy: 0.7309 - val_loss: 0.5593 - val_accuracy: 0.7237\n",
            "Epoch 92/100\n",
            "32/32 [==============================] - 2s 66ms/step - loss: 0.5609 - accuracy: 0.7270 - val_loss: 0.5654 - val_accuracy: 0.7175\n",
            "Epoch 93/100\n",
            "32/32 [==============================] - 2s 67ms/step - loss: 0.5866 - accuracy: 0.6949 - val_loss: 0.6080 - val_accuracy: 0.6719\n",
            "Epoch 94/100\n",
            "32/32 [==============================] - 2s 67ms/step - loss: 0.5777 - accuracy: 0.7091 - val_loss: 0.5299 - val_accuracy: 0.7481\n",
            "Epoch 95/100\n",
            "32/32 [==============================] - 2s 67ms/step - loss: 0.5585 - accuracy: 0.7315 - val_loss: 0.5312 - val_accuracy: 0.7513\n",
            "Epoch 96/100\n",
            "32/32 [==============================] - 2s 67ms/step - loss: 0.5540 - accuracy: 0.7311 - val_loss: 0.4983 - val_accuracy: 0.7800\n",
            "Epoch 97/100\n",
            "32/32 [==============================] - 2s 67ms/step - loss: 0.5482 - accuracy: 0.7331 - val_loss: 0.5503 - val_accuracy: 0.7400\n",
            "Epoch 98/100\n",
            "32/32 [==============================] - 2s 67ms/step - loss: 0.5384 - accuracy: 0.7454 - val_loss: 0.5055 - val_accuracy: 0.7937\n",
            "Epoch 99/100\n",
            "32/32 [==============================] - 2s 67ms/step - loss: 0.5276 - accuracy: 0.7566 - val_loss: 0.5739 - val_accuracy: 0.7081\n",
            "Epoch 100/100\n",
            "32/32 [==============================] - 2s 66ms/step - loss: 0.5609 - accuracy: 0.7144 - val_loss: 0.4712 - val_accuracy: 0.7994\n"
          ],
          "name": "stdout"
        },
        {
          "output_type": "display_data",
          "data": {
            "image/png": "[encoded data removed]",
            "text/plain": [
              "<Figure size 432x288 with 1 Axes>"
            ]
          },
          "metadata": {
            "tags": [],
            "needs_background": "light"
          }
        },
        {
          "output_type": "stream",
          "text": [
            "Test loss:  0.7183194756507874\n",
            "Test accuracy:  0.6259999871253967\n",
            "\n",
            "\n",
            "\n",
            "              precision    recall  f1-score   support\n",
            "\n",
            "     Class 0       0.64      0.59      0.61      1000\n",
            "     Class 1       0.62      0.67      0.64      1000\n",
            "\n",
            "    accuracy                           0.63      2000\n",
            "   macro avg       0.63      0.63      0.63      2000\n",
            "weighted avg       0.63      0.63      0.63      2000\n",
            "\n"
          ],
          "name": "stdout"
        }
      ]
    },
    {
      "cell_type": "markdown",
      "metadata": {
        "id": "e4lD8HZ9mbYd"
      },
      "source": [
        "# تحلیل عملکرد مدل دوم\n",
        "\n",
        "در این مدل از شبکه ای مشابه با شبکه مدل قبل استفاده کردیم با این تفاوت که با استفاده از دراپ‌اوت ۱۰ درصد در لایه‌های درونی، بصورت تصادفی ۱۰ درصد از نرون ها غیرفعال شده اند تا از بیش‌بردازش مدل جلوگیری شود.\n",
        "\n",
        "\n",
        "با وجود اینکه صحت مدل در زمان تست نسبت به حالت اول افزایش یافته است، اما همچنان شاهد آورفیت شدن مدل هستیم چرا که صحت مدل در زمان آموزش و تست فاصله‌ی قابل توجهی دارد."
      ]
    },
    {
      "cell_type": "markdown",
      "metadata": {
        "id": "X0ctm-4PULNj"
      },
      "source": [
        "\n",
        "# 3- Add Data Augmentation(Without dropuot)\n"
      ]
    },
    {
      "cell_type": "code",
      "metadata": {
        "id": "jfKUyZ6VzqZB"
      },
      "source": [
        "from tensorflow.keras.preprocessing.image import ImageDataGenerator\n",
        "\n",
        "def train_model(config):\n",
        "  model = Sequential()\n",
        "\n",
        "  model.add(Flatten(input_shape=(h,w,3)))\n",
        "  model.add(Dropout(config['in_drop_out']))\n",
        "\n",
        "  for act ,drop_out, layers in config['layers']:\n",
        "    for layer in layers:\n",
        "      model.add(Dense(layer))\n",
        "      model.add(act())\n",
        "      model.add(Dropout(drop_out))\n",
        "\n",
        "  model.compile(\n",
        "    optimizer=Adam(config['learning_rate']),\n",
        "    loss=categorical_crossentropy,\n",
        "    metrics=['accuracy']\n",
        "  )\n",
        "\n",
        "  train_datagen = ImageDataGenerator(\n",
        "        rotation_range=config['aug_rotation'],\n",
        "        width_shift_range=config['aug_shift_w'],\n",
        "        height_shift_range=config['aug_shift_h'],\n",
        "        shear_range=config['aug_shear'],\n",
        "        zoom_range=config['aug_zoom'],\n",
        "        horizontal_flip=config['aug_horizontal_flip'],\n",
        "        fill_mode='nearest'\n",
        "  )\n",
        "\n",
        "  train_generator = train_datagen.flow(train_X, train_Label, batch_size = config['batch'])\n",
        "\n",
        "  validation_datagen = ImageDataGenerator()\n",
        "  validation_generator = validation_datagen.flow(valid_X,valid_Label,batch_size=256)\n",
        "\n",
        "  history = model.fit(train_generator,\n",
        "                      validation_data=validation_generator,\n",
        "                      epochs = config['epochs'],\n",
        "                    )\n",
        "  \n",
        "  plt.plot(history.history['accuracy'])\n",
        "  plt.plot(history.history['val_accuracy'])\n",
        "  plt.title('Model Accuracy')\n",
        "  plt.ylabel('accuracy')\n",
        "  plt.xlabel('epoch')\n",
        "  plt.legend(['train','validation'],loc='lower right')\n",
        "  plt.show()\n",
        "\n",
        "  test_eval = model.evaluate(test_x, test_label, verbose = 0)\n",
        "  print('Test loss: ', test_eval[0])\n",
        "  print('Test accuracy: ', test_eval[1])\n",
        "  print('\\n\\n')\n",
        "  \n",
        "  predictes_classes = model.predict(test_x)\n",
        "  predicted_classes = np.argmax(np.round(predictes_classes), axis = 1)\n",
        "\n",
        "  from sklearn.metrics import classification_report\n",
        "  target_names = [\"Class {}\".format(i) for i in range(classes)]\n",
        "  print(classification_report(test_vec, predicted_classes, target_names = target_names))\n",
        "\n",
        "  return model"
      ],
      "execution_count": 54,
      "outputs": []
    },
    {
      "cell_type": "code",
      "metadata": {
        "colab": {
          "base_uri": "https://localhost:8080/",
          "height": 1000
        },
        "id": "9TpjPKIIztbV",
        "outputId": "3a3b1bc0-f906-4119-8690-e4d4f3e2c5cc"
      },
      "source": [
        "model = train_model({\n",
        "    'in_drop_out':0,\n",
        "    'layers' : [\n",
        "          (lambda : Activation('relu'),0,[2000,1600,800,600,500]+[400]*3+[400]*5+[300,250,200,150,120]), \n",
        "          (lambda : Activation('softmax'),0,[2])\n",
        "    ],\n",
        "    'learning_rate':3e-4,\n",
        "    'batch':256,\n",
        "    'epochs':100,\n",
        "    'aug_rotation':10,\n",
        "    'aug_shift_w':0.04,\n",
        "    'aug_shift_h':0.04,\n",
        "    'aug_shear':0.04,\n",
        "    'aug_zoom':0.04,\n",
        "    'aug_horizontal_flip':True\n",
        "})"
      ],
      "execution_count": 55,
      "outputs": [
        {
          "output_type": "stream",
          "text": [
            "Epoch 1/100\n",
            "25/25 [==============================] - 20s 749ms/step - loss: 0.6948 - accuracy: 0.5031 - val_loss: 0.6937 - val_accuracy: 0.4969\n",
            "Epoch 2/100\n",
            "25/25 [==============================] - 19s 750ms/step - loss: 0.6942 - accuracy: 0.5003 - val_loss: 0.6930 - val_accuracy: 0.5275\n",
            "Epoch 3/100\n",
            "25/25 [==============================] - 19s 766ms/step - loss: 0.6931 - accuracy: 0.5111 - val_loss: 0.6928 - val_accuracy: 0.5350\n",
            "Epoch 4/100\n",
            "25/25 [==============================] - 19s 769ms/step - loss: 0.6923 - accuracy: 0.5344 - val_loss: 0.6951 - val_accuracy: 0.5194\n",
            "Epoch 5/100\n",
            "25/25 [==============================] - 19s 753ms/step - loss: 0.6880 - accuracy: 0.5560 - val_loss: 0.6831 - val_accuracy: 0.5663\n",
            "Epoch 6/100\n",
            "25/25 [==============================] - 18s 738ms/step - loss: 0.6774 - accuracy: 0.5797 - val_loss: 0.6803 - val_accuracy: 0.5750\n",
            "Epoch 7/100\n",
            "25/25 [==============================] - 18s 733ms/step - loss: 0.6713 - accuracy: 0.5895 - val_loss: 0.6712 - val_accuracy: 0.6006\n",
            "Epoch 8/100\n",
            "25/25 [==============================] - 18s 733ms/step - loss: 0.6612 - accuracy: 0.6113 - val_loss: 0.6608 - val_accuracy: 0.6019\n",
            "Epoch 9/100\n",
            "25/25 [==============================] - 19s 742ms/step - loss: 0.6714 - accuracy: 0.5918 - val_loss: 0.6844 - val_accuracy: 0.5644\n",
            "Epoch 10/100\n",
            "25/25 [==============================] - 18s 734ms/step - loss: 0.6799 - accuracy: 0.5569 - val_loss: 0.6714 - val_accuracy: 0.5950\n",
            "Epoch 11/100\n",
            "25/25 [==============================] - 18s 734ms/step - loss: 0.6697 - accuracy: 0.6040 - val_loss: 0.6748 - val_accuracy: 0.5794\n",
            "Epoch 12/100\n",
            "25/25 [==============================] - 18s 736ms/step - loss: 0.6678 - accuracy: 0.5957 - val_loss: 0.6681 - val_accuracy: 0.5962\n",
            "Epoch 13/100\n",
            "25/25 [==============================] - 19s 740ms/step - loss: 0.6592 - accuracy: 0.6106 - val_loss: 0.6617 - val_accuracy: 0.6050\n",
            "Epoch 14/100\n",
            "25/25 [==============================] - 19s 742ms/step - loss: 0.6545 - accuracy: 0.6232 - val_loss: 0.6692 - val_accuracy: 0.5938\n",
            "Epoch 15/100\n",
            "25/25 [==============================] - 19s 740ms/step - loss: 0.6600 - accuracy: 0.6061 - val_loss: 0.6550 - val_accuracy: 0.6137\n",
            "Epoch 16/100\n",
            "25/25 [==============================] - 19s 741ms/step - loss: 0.6506 - accuracy: 0.6183 - val_loss: 0.6600 - val_accuracy: 0.6106\n",
            "Epoch 17/100\n",
            "25/25 [==============================] - 19s 740ms/step - loss: 0.6548 - accuracy: 0.6218 - val_loss: 0.6598 - val_accuracy: 0.6137\n",
            "Epoch 18/100\n",
            "25/25 [==============================] - 19s 747ms/step - loss: 0.6438 - accuracy: 0.6310 - val_loss: 0.6757 - val_accuracy: 0.5556\n",
            "Epoch 19/100\n",
            "25/25 [==============================] - 19s 741ms/step - loss: 0.6660 - accuracy: 0.5809 - val_loss: 0.6534 - val_accuracy: 0.6275\n",
            "Epoch 20/100\n",
            "25/25 [==============================] - 19s 741ms/step - loss: 0.6484 - accuracy: 0.6227 - val_loss: 0.6478 - val_accuracy: 0.6231\n",
            "Epoch 21/100\n",
            "25/25 [==============================] - 19s 743ms/step - loss: 0.6361 - accuracy: 0.6284 - val_loss: 0.6632 - val_accuracy: 0.6037\n",
            "Epoch 22/100\n",
            "25/25 [==============================] - 19s 745ms/step - loss: 0.6462 - accuracy: 0.6383 - val_loss: 0.6451 - val_accuracy: 0.6256\n",
            "Epoch 23/100\n",
            "25/25 [==============================] - 19s 748ms/step - loss: 0.6351 - accuracy: 0.6378 - val_loss: 0.6574 - val_accuracy: 0.6062\n",
            "Epoch 24/100\n",
            "25/25 [==============================] - 19s 742ms/step - loss: 0.6416 - accuracy: 0.6372 - val_loss: 0.6527 - val_accuracy: 0.6131\n",
            "Epoch 25/100\n",
            "25/25 [==============================] - 19s 741ms/step - loss: 0.6393 - accuracy: 0.6265 - val_loss: 0.6530 - val_accuracy: 0.6112\n",
            "Epoch 26/100\n",
            "25/25 [==============================] - 19s 739ms/step - loss: 0.6293 - accuracy: 0.6356 - val_loss: 0.6383 - val_accuracy: 0.6394\n",
            "Epoch 27/100\n",
            "25/25 [==============================] - 19s 746ms/step - loss: 0.6362 - accuracy: 0.6261 - val_loss: 0.6462 - val_accuracy: 0.6313\n",
            "Epoch 28/100\n",
            "25/25 [==============================] - 19s 739ms/step - loss: 0.6381 - accuracy: 0.6373 - val_loss: 0.6466 - val_accuracy: 0.6225\n",
            "Epoch 29/100\n",
            "25/25 [==============================] - 19s 747ms/step - loss: 0.6483 - accuracy: 0.6195 - val_loss: 0.6387 - val_accuracy: 0.6206\n",
            "Epoch 30/100\n",
            "25/25 [==============================] - 19s 742ms/step - loss: 0.6305 - accuracy: 0.6403 - val_loss: 0.6479 - val_accuracy: 0.6131\n",
            "Epoch 31/100\n",
            "25/25 [==============================] - 19s 746ms/step - loss: 0.6192 - accuracy: 0.6527 - val_loss: 0.6386 - val_accuracy: 0.6400\n",
            "Epoch 32/100\n",
            "25/25 [==============================] - 19s 747ms/step - loss: 0.6298 - accuracy: 0.6429 - val_loss: 0.6438 - val_accuracy: 0.6294\n",
            "Epoch 33/100\n",
            "25/25 [==============================] - 19s 745ms/step - loss: 0.6225 - accuracy: 0.6435 - val_loss: 0.6472 - val_accuracy: 0.6375\n",
            "Epoch 34/100\n",
            "25/25 [==============================] - 19s 740ms/step - loss: 0.6193 - accuracy: 0.6517 - val_loss: 0.6343 - val_accuracy: 0.6481\n",
            "Epoch 35/100\n",
            "25/25 [==============================] - 19s 742ms/step - loss: 0.6221 - accuracy: 0.6381 - val_loss: 0.6442 - val_accuracy: 0.6294\n",
            "Epoch 36/100\n",
            "25/25 [==============================] - 19s 740ms/step - loss: 0.6281 - accuracy: 0.6341 - val_loss: 0.6465 - val_accuracy: 0.6056\n",
            "Epoch 37/100\n",
            "25/25 [==============================] - 18s 739ms/step - loss: 0.6353 - accuracy: 0.6307 - val_loss: 0.6381 - val_accuracy: 0.6481\n",
            "Epoch 38/100\n",
            "25/25 [==============================] - 19s 744ms/step - loss: 0.6119 - accuracy: 0.6585 - val_loss: 0.6614 - val_accuracy: 0.6425\n",
            "Epoch 39/100\n",
            "25/25 [==============================] - 19s 740ms/step - loss: 0.6267 - accuracy: 0.6464 - val_loss: 0.6378 - val_accuracy: 0.6431\n",
            "Epoch 40/100\n",
            "25/25 [==============================] - 19s 742ms/step - loss: 0.6203 - accuracy: 0.6466 - val_loss: 0.6468 - val_accuracy: 0.6294\n",
            "Epoch 41/100\n",
            "25/25 [==============================] - 19s 740ms/step - loss: 0.6239 - accuracy: 0.6580 - val_loss: 0.6468 - val_accuracy: 0.6375\n",
            "Epoch 42/100\n",
            "25/25 [==============================] - 18s 736ms/step - loss: 0.6316 - accuracy: 0.6331 - val_loss: 0.6369 - val_accuracy: 0.6350\n",
            "Epoch 43/100\n",
            "25/25 [==============================] - 18s 737ms/step - loss: 0.6155 - accuracy: 0.6518 - val_loss: 0.6420 - val_accuracy: 0.6550\n",
            "Epoch 44/100\n",
            "25/25 [==============================] - 19s 743ms/step - loss: 0.6109 - accuracy: 0.6532 - val_loss: 0.6339 - val_accuracy: 0.6319\n",
            "Epoch 45/100\n",
            "25/25 [==============================] - 19s 738ms/step - loss: 0.6170 - accuracy: 0.6482 - val_loss: 0.6356 - val_accuracy: 0.6556\n",
            "Epoch 46/100\n",
            "25/25 [==============================] - 19s 741ms/step - loss: 0.6074 - accuracy: 0.6610 - val_loss: 0.6293 - val_accuracy: 0.6450\n",
            "Epoch 47/100\n",
            "25/25 [==============================] - 19s 739ms/step - loss: 0.6115 - accuracy: 0.6559 - val_loss: 0.6547 - val_accuracy: 0.6481\n",
            "Epoch 48/100\n",
            "25/25 [==============================] - 19s 745ms/step - loss: 0.6216 - accuracy: 0.6527 - val_loss: 0.6484 - val_accuracy: 0.6488\n",
            "Epoch 49/100\n",
            "25/25 [==============================] - 19s 744ms/step - loss: 0.6193 - accuracy: 0.6485 - val_loss: 0.6330 - val_accuracy: 0.6400\n",
            "Epoch 50/100\n",
            "25/25 [==============================] - 19s 738ms/step - loss: 0.5996 - accuracy: 0.6672 - val_loss: 0.6354 - val_accuracy: 0.6331\n",
            "Epoch 51/100\n",
            "25/25 [==============================] - 19s 741ms/step - loss: 0.6053 - accuracy: 0.6657 - val_loss: 0.6424 - val_accuracy: 0.6406\n",
            "Epoch 52/100\n",
            "25/25 [==============================] - 19s 744ms/step - loss: 0.5996 - accuracy: 0.6661 - val_loss: 0.6409 - val_accuracy: 0.6531\n",
            "Epoch 53/100\n",
            "25/25 [==============================] - 19s 745ms/step - loss: 0.5970 - accuracy: 0.6668 - val_loss: 0.6518 - val_accuracy: 0.6488\n",
            "Epoch 54/100\n",
            "25/25 [==============================] - 19s 742ms/step - loss: 0.6061 - accuracy: 0.6576 - val_loss: 0.6306 - val_accuracy: 0.6475\n",
            "Epoch 55/100\n",
            "25/25 [==============================] - 19s 741ms/step - loss: 0.6045 - accuracy: 0.6636 - val_loss: 0.6406 - val_accuracy: 0.6488\n",
            "Epoch 56/100\n",
            "25/25 [==============================] - 18s 738ms/step - loss: 0.6087 - accuracy: 0.6669 - val_loss: 0.6354 - val_accuracy: 0.6475\n",
            "Epoch 57/100\n",
            "25/25 [==============================] - 19s 743ms/step - loss: 0.6047 - accuracy: 0.6633 - val_loss: 0.6316 - val_accuracy: 0.6438\n",
            "Epoch 58/100\n",
            "25/25 [==============================] - 18s 736ms/step - loss: 0.5966 - accuracy: 0.6669 - val_loss: 0.6293 - val_accuracy: 0.6575\n",
            "Epoch 59/100\n",
            "25/25 [==============================] - 19s 739ms/step - loss: 0.6011 - accuracy: 0.6630 - val_loss: 0.6358 - val_accuracy: 0.6538\n",
            "Epoch 60/100\n",
            "25/25 [==============================] - 18s 735ms/step - loss: 0.6071 - accuracy: 0.6549 - val_loss: 0.6635 - val_accuracy: 0.6525\n",
            "Epoch 61/100\n",
            "25/25 [==============================] - 19s 740ms/step - loss: 0.6087 - accuracy: 0.6676 - val_loss: 0.6671 - val_accuracy: 0.6519\n",
            "Epoch 62/100\n",
            "25/25 [==============================] - 19s 739ms/step - loss: 0.6040 - accuracy: 0.6653 - val_loss: 0.6233 - val_accuracy: 0.6669\n",
            "Epoch 63/100\n",
            "25/25 [==============================] - 19s 745ms/step - loss: 0.5949 - accuracy: 0.6679 - val_loss: 0.6498 - val_accuracy: 0.6450\n",
            "Epoch 64/100\n",
            "25/25 [==============================] - 19s 740ms/step - loss: 0.6003 - accuracy: 0.6632 - val_loss: 0.7054 - val_accuracy: 0.6538\n",
            "Epoch 65/100\n",
            "25/25 [==============================] - 19s 740ms/step - loss: 0.5921 - accuracy: 0.6757 - val_loss: 0.6348 - val_accuracy: 0.6656\n",
            "Epoch 66/100\n",
            "25/25 [==============================] - 19s 747ms/step - loss: 0.5871 - accuracy: 0.6788 - val_loss: 0.6400 - val_accuracy: 0.6669\n",
            "Epoch 67/100\n",
            "25/25 [==============================] - 18s 739ms/step - loss: 0.5921 - accuracy: 0.6844 - val_loss: 0.6293 - val_accuracy: 0.6600\n",
            "Epoch 68/100\n",
            "25/25 [==============================] - 19s 739ms/step - loss: 0.5970 - accuracy: 0.6676 - val_loss: 0.6684 - val_accuracy: 0.6662\n",
            "Epoch 69/100\n",
            "25/25 [==============================] - 18s 735ms/step - loss: 0.5977 - accuracy: 0.6699 - val_loss: 0.6440 - val_accuracy: 0.6338\n",
            "Epoch 70/100\n",
            "25/25 [==============================] - 19s 740ms/step - loss: 0.5916 - accuracy: 0.6704 - val_loss: 0.6307 - val_accuracy: 0.6700\n",
            "Epoch 71/100\n",
            "25/25 [==============================] - 19s 738ms/step - loss: 0.5692 - accuracy: 0.6918 - val_loss: 0.6488 - val_accuracy: 0.6106\n",
            "Epoch 72/100\n",
            "25/25 [==============================] - 18s 735ms/step - loss: 0.5932 - accuracy: 0.6747 - val_loss: 0.6278 - val_accuracy: 0.6513\n",
            "Epoch 73/100\n",
            "25/25 [==============================] - 19s 740ms/step - loss: 0.5839 - accuracy: 0.6773 - val_loss: 0.6450 - val_accuracy: 0.6475\n",
            "Epoch 74/100\n",
            "25/25 [==============================] - 18s 736ms/step - loss: 0.5991 - accuracy: 0.6682 - val_loss: 0.6359 - val_accuracy: 0.6562\n",
            "Epoch 75/100\n",
            "25/25 [==============================] - 19s 740ms/step - loss: 0.6105 - accuracy: 0.6581 - val_loss: 0.6239 - val_accuracy: 0.6687\n",
            "Epoch 76/100\n",
            "25/25 [==============================] - 18s 736ms/step - loss: 0.5827 - accuracy: 0.6786 - val_loss: 0.6378 - val_accuracy: 0.6694\n",
            "Epoch 77/100\n",
            "25/25 [==============================] - 19s 741ms/step - loss: 0.5784 - accuracy: 0.6800 - val_loss: 0.6318 - val_accuracy: 0.6687\n",
            "Epoch 78/100\n",
            "25/25 [==============================] - 18s 739ms/step - loss: 0.5881 - accuracy: 0.6759 - val_loss: 0.6281 - val_accuracy: 0.6637\n",
            "Epoch 79/100\n",
            "25/25 [==============================] - 19s 739ms/step - loss: 0.5760 - accuracy: 0.6918 - val_loss: 0.6420 - val_accuracy: 0.6569\n",
            "Epoch 80/100\n",
            "25/25 [==============================] - 19s 744ms/step - loss: 0.5725 - accuracy: 0.6836 - val_loss: 0.6323 - val_accuracy: 0.6581\n",
            "Epoch 81/100\n",
            "25/25 [==============================] - 18s 739ms/step - loss: 0.5851 - accuracy: 0.6724 - val_loss: 0.6454 - val_accuracy: 0.6644\n",
            "Epoch 82/100\n",
            "25/25 [==============================] - 19s 741ms/step - loss: 0.5621 - accuracy: 0.6979 - val_loss: 0.6342 - val_accuracy: 0.6637\n",
            "Epoch 83/100\n",
            "25/25 [==============================] - 18s 738ms/step - loss: 0.5616 - accuracy: 0.6957 - val_loss: 0.6332 - val_accuracy: 0.6781\n",
            "Epoch 84/100\n",
            "25/25 [==============================] - 19s 743ms/step - loss: 0.5649 - accuracy: 0.6974 - val_loss: 0.6583 - val_accuracy: 0.6619\n",
            "Epoch 85/100\n",
            "25/25 [==============================] - 18s 736ms/step - loss: 0.5696 - accuracy: 0.6928 - val_loss: 0.6352 - val_accuracy: 0.6769\n",
            "Epoch 86/100\n",
            "25/25 [==============================] - 18s 735ms/step - loss: 0.5588 - accuracy: 0.6945 - val_loss: 0.6426 - val_accuracy: 0.6625\n",
            "Epoch 87/100\n",
            "25/25 [==============================] - 19s 741ms/step - loss: 0.5533 - accuracy: 0.7081 - val_loss: 0.6582 - val_accuracy: 0.6463\n",
            "Epoch 88/100\n",
            "25/25 [==============================] - 19s 740ms/step - loss: 0.5854 - accuracy: 0.6823 - val_loss: 0.6422 - val_accuracy: 0.6538\n",
            "Epoch 89/100\n",
            "25/25 [==============================] - 18s 735ms/step - loss: 0.5608 - accuracy: 0.6957 - val_loss: 0.6533 - val_accuracy: 0.6644\n",
            "Epoch 90/100\n",
            "25/25 [==============================] - 18s 735ms/step - loss: 0.5581 - accuracy: 0.7020 - val_loss: 0.6629 - val_accuracy: 0.6481\n",
            "Epoch 91/100\n",
            "25/25 [==============================] - 18s 736ms/step - loss: 0.5577 - accuracy: 0.6979 - val_loss: 0.6421 - val_accuracy: 0.6237\n",
            "Epoch 92/100\n",
            "25/25 [==============================] - 19s 740ms/step - loss: 0.5783 - accuracy: 0.6800 - val_loss: 0.6420 - val_accuracy: 0.6438\n",
            "Epoch 93/100\n",
            "25/25 [==============================] - 19s 747ms/step - loss: 0.5790 - accuracy: 0.6826 - val_loss: 0.6403 - val_accuracy: 0.6506\n",
            "Epoch 94/100\n",
            "25/25 [==============================] - 18s 737ms/step - loss: 0.5624 - accuracy: 0.6965 - val_loss: 0.6407 - val_accuracy: 0.6644\n",
            "Epoch 95/100\n",
            "25/25 [==============================] - 18s 735ms/step - loss: 0.5620 - accuracy: 0.6969 - val_loss: 0.6529 - val_accuracy: 0.6219\n",
            "Epoch 96/100\n",
            "25/25 [==============================] - 18s 736ms/step - loss: 0.5862 - accuracy: 0.6734 - val_loss: 0.6431 - val_accuracy: 0.6531\n",
            "Epoch 97/100\n",
            "25/25 [==============================] - 19s 741ms/step - loss: 0.5474 - accuracy: 0.7106 - val_loss: 0.6459 - val_accuracy: 0.6550\n",
            "Epoch 98/100\n",
            "25/25 [==============================] - 18s 737ms/step - loss: 0.5505 - accuracy: 0.7114 - val_loss: 0.6321 - val_accuracy: 0.6644\n",
            "Epoch 99/100\n",
            "25/25 [==============================] - 18s 733ms/step - loss: 0.5468 - accuracy: 0.7097 - val_loss: 0.6502 - val_accuracy: 0.6606\n",
            "Epoch 100/100\n",
            "25/25 [==============================] - 18s 733ms/step - loss: 0.5482 - accuracy: 0.7147 - val_loss: 0.6818 - val_accuracy: 0.6231\n"
          ],
          "name": "stdout"
        },
        {
          "output_type": "display_data",
          "data": {
            "image/png": "[encoded data removed]",
            "text/plain": [
              "<Figure size 432x288 with 1 Axes>"
            ]
          },
          "metadata": {
            "tags": [],
            "needs_background": "light"
          }
        },
        {
          "output_type": "stream",
          "text": [
            "Test loss:  0.6410242319107056\n",
            "Test accuracy:  0.6345000267028809\n",
            "\n",
            "\n",
            "\n",
            "              precision    recall  f1-score   support\n",
            "\n",
            "     Class 0       0.68      0.51      0.58      1000\n",
            "     Class 1       0.61      0.76      0.68      1000\n",
            "\n",
            "    accuracy                           0.63      2000\n",
            "   macro avg       0.64      0.63      0.63      2000\n",
            "weighted avg       0.64      0.63      0.63      2000\n",
            "\n"
          ],
          "name": "stdout"
        }
      ]
    },
    {
      "cell_type": "markdown",
      "metadata": {
        "id": "kSdrkIHBoQH9"
      },
      "source": [
        "# تحلیل عملکرد مدل سوم\n",
        "\n",
        "مدل سوم و مدل اولیه ساختار شبکه عصبی یکسانی دارند و هر دو از دراپ‌اوت استفاده نکردند،\n",
        " اما مدل سوم برخلاف اولین مدل از دادهای آگمنت شده استفاده کرده است. \n",
        "\n",
        " طبق انتظار، این مدل نسبت به مدل اولیه در زمان تست عملکرد بهتری داشته است و به صحت ۶۳.۵ درصد رسیده است، همچنین در این مدل دیگر شاهد آورفیت شدن مدل نیستیم و بین صحت مدل در زمان آموزش و تست تفاوت چشمگیری دیده نمیشود.\n",
        "\n",
        " لازم به ذکر است که مدل سوم از دومین مدل عملکرد بهتری دارد."
      ]
    },
    {
      "cell_type": "markdown",
      "metadata": {
        "id": "rCFYu6YiZkhf"
      },
      "source": [
        "# 4- Use data augmentation and dropout regularization"
      ]
    },
    {
      "cell_type": "code",
      "metadata": {
        "colab": {
          "base_uri": "https://localhost:8080/",
          "height": 1000
        },
        "id": "K4yJen86a6gq",
        "outputId": "216f30fe-d49f-4ea2-cd9c-b757b2448bdc"
      },
      "source": [
        "model = train_model({\n",
        "    'in_drop_out':0,\n",
        "    'layers' : [\n",
        "          (lambda : Activation('relu'),0.03,[2000,1600,800,600,500]+[400]*3+[400]*5+[300,250,200,150,120]), \n",
        "          (lambda : Activation('softmax'),0,[2])\n",
        "    ],\n",
        "    'learning_rate':3e-4,\n",
        "    'batch':256,\n",
        "    'epochs':100,\n",
        "    'aug_rotation':10,\n",
        "    'aug_shift_w':0.04,\n",
        "    'aug_shift_h':0.04,\n",
        "    'aug_shear':0.04,\n",
        "    'aug_zoom':0.04,\n",
        "    'aug_horizontal_flip':True\n",
        "})"
      ],
      "execution_count": 58,
      "outputs": [
        {
          "output_type": "stream",
          "text": [
            "Epoch 1/100\n",
            "25/25 [==============================] - 20s 749ms/step - loss: 0.6954 - accuracy: 0.4997 - val_loss: 0.6931 - val_accuracy: 0.4981\n",
            "Epoch 2/100\n",
            "25/25 [==============================] - 18s 737ms/step - loss: 0.6935 - accuracy: 0.5167 - val_loss: 0.6931 - val_accuracy: 0.4963\n",
            "Epoch 3/100\n",
            "25/25 [==============================] - 19s 742ms/step - loss: 0.6931 - accuracy: 0.5045 - val_loss: 0.6931 - val_accuracy: 0.5031\n",
            "Epoch 4/100\n",
            "25/25 [==============================] - 19s 739ms/step - loss: 0.6931 - accuracy: 0.5009 - val_loss: 0.6922 - val_accuracy: 0.5556\n",
            "Epoch 5/100\n",
            "25/25 [==============================] - 18s 739ms/step - loss: 0.6931 - accuracy: 0.5085 - val_loss: 0.6934 - val_accuracy: 0.5031\n",
            "Epoch 6/100\n",
            "25/25 [==============================] - 18s 737ms/step - loss: 0.6935 - accuracy: 0.4987 - val_loss: 0.6919 - val_accuracy: 0.5194\n",
            "Epoch 7/100\n",
            "25/25 [==============================] - 18s 737ms/step - loss: 0.6909 - accuracy: 0.5442 - val_loss: 0.6905 - val_accuracy: 0.5163\n",
            "Epoch 8/100\n",
            "25/25 [==============================] - 18s 738ms/step - loss: 0.6898 - accuracy: 0.5430 - val_loss: 0.6918 - val_accuracy: 0.5131\n",
            "Epoch 9/100\n",
            "25/25 [==============================] - 19s 741ms/step - loss: 0.6905 - accuracy: 0.5344 - val_loss: 0.6894 - val_accuracy: 0.5406\n",
            "Epoch 10/100\n",
            "25/25 [==============================] - 19s 740ms/step - loss: 0.6834 - accuracy: 0.5702 - val_loss: 0.6913 - val_accuracy: 0.5587\n",
            "Epoch 11/100\n",
            "25/25 [==============================] - 19s 739ms/step - loss: 0.6693 - accuracy: 0.5972 - val_loss: 0.6708 - val_accuracy: 0.5900\n",
            "Epoch 12/100\n",
            "25/25 [==============================] - 19s 745ms/step - loss: 0.6695 - accuracy: 0.6024 - val_loss: 0.6660 - val_accuracy: 0.6012\n",
            "Epoch 13/100\n",
            "25/25 [==============================] - 19s 741ms/step - loss: 0.6664 - accuracy: 0.5998 - val_loss: 0.6664 - val_accuracy: 0.6094\n",
            "Epoch 14/100\n",
            "25/25 [==============================] - 19s 741ms/step - loss: 0.6656 - accuracy: 0.6071 - val_loss: 0.6667 - val_accuracy: 0.5938\n",
            "Epoch 15/100\n",
            "25/25 [==============================] - 19s 743ms/step - loss: 0.6583 - accuracy: 0.6153 - val_loss: 0.6590 - val_accuracy: 0.6006\n",
            "Epoch 16/100\n",
            "25/25 [==============================] - 19s 739ms/step - loss: 0.6558 - accuracy: 0.6188 - val_loss: 0.6655 - val_accuracy: 0.5813\n",
            "Epoch 17/100\n",
            "25/25 [==============================] - 18s 737ms/step - loss: 0.6523 - accuracy: 0.6173 - val_loss: 0.6546 - val_accuracy: 0.6094\n",
            "Epoch 18/100\n",
            "25/25 [==============================] - 19s 742ms/step - loss: 0.6467 - accuracy: 0.6215 - val_loss: 0.6572 - val_accuracy: 0.6206\n",
            "Epoch 19/100\n",
            "25/25 [==============================] - 19s 741ms/step - loss: 0.6396 - accuracy: 0.6261 - val_loss: 0.6526 - val_accuracy: 0.6144\n",
            "Epoch 20/100\n",
            "25/25 [==============================] - 18s 735ms/step - loss: 0.6395 - accuracy: 0.6271 - val_loss: 0.6557 - val_accuracy: 0.6081\n",
            "Epoch 21/100\n",
            "25/25 [==============================] - 19s 740ms/step - loss: 0.6423 - accuracy: 0.6158 - val_loss: 0.6529 - val_accuracy: 0.6169\n",
            "Epoch 22/100\n",
            "25/25 [==============================] - 18s 737ms/step - loss: 0.6356 - accuracy: 0.6303 - val_loss: 0.6502 - val_accuracy: 0.6131\n",
            "Epoch 23/100\n",
            "25/25 [==============================] - 19s 740ms/step - loss: 0.6479 - accuracy: 0.6125 - val_loss: 0.6588 - val_accuracy: 0.6162\n",
            "Epoch 24/100\n",
            "25/25 [==============================] - 18s 734ms/step - loss: 0.6515 - accuracy: 0.6235 - val_loss: 0.6543 - val_accuracy: 0.6275\n",
            "Epoch 25/100\n",
            "25/25 [==============================] - 19s 738ms/step - loss: 0.6333 - accuracy: 0.6407 - val_loss: 0.6580 - val_accuracy: 0.6169\n",
            "Epoch 26/100\n",
            "25/25 [==============================] - 19s 742ms/step - loss: 0.6419 - accuracy: 0.6301 - val_loss: 0.6475 - val_accuracy: 0.6156\n",
            "Epoch 27/100\n",
            "25/25 [==============================] - 19s 749ms/step - loss: 0.6317 - accuracy: 0.6362 - val_loss: 0.6561 - val_accuracy: 0.6250\n",
            "Epoch 28/100\n",
            "25/25 [==============================] - 19s 744ms/step - loss: 0.6415 - accuracy: 0.6281 - val_loss: 0.6525 - val_accuracy: 0.6094\n",
            "Epoch 29/100\n",
            "25/25 [==============================] - 19s 739ms/step - loss: 0.6369 - accuracy: 0.6351 - val_loss: 0.6476 - val_accuracy: 0.6256\n",
            "Epoch 30/100\n",
            "25/25 [==============================] - 19s 748ms/step - loss: 0.6353 - accuracy: 0.6300 - val_loss: 0.6470 - val_accuracy: 0.6275\n",
            "Epoch 31/100\n",
            "25/25 [==============================] - 19s 744ms/step - loss: 0.6311 - accuracy: 0.6364 - val_loss: 0.6508 - val_accuracy: 0.6256\n",
            "Epoch 32/100\n",
            "25/25 [==============================] - 19s 740ms/step - loss: 0.6270 - accuracy: 0.6460 - val_loss: 0.6409 - val_accuracy: 0.6306\n",
            "Epoch 33/100\n",
            "25/25 [==============================] - 19s 744ms/step - loss: 0.6298 - accuracy: 0.6420 - val_loss: 0.6369 - val_accuracy: 0.6356\n",
            "Epoch 34/100\n",
            "25/25 [==============================] - 19s 738ms/step - loss: 0.6276 - accuracy: 0.6417 - val_loss: 0.6579 - val_accuracy: 0.6094\n",
            "Epoch 35/100\n",
            "25/25 [==============================] - 19s 745ms/step - loss: 0.6307 - accuracy: 0.6464 - val_loss: 0.6334 - val_accuracy: 0.6375\n",
            "Epoch 36/100\n",
            "25/25 [==============================] - 19s 744ms/step - loss: 0.6233 - accuracy: 0.6504 - val_loss: 0.6456 - val_accuracy: 0.6450\n",
            "Epoch 37/100\n",
            "25/25 [==============================] - 18s 735ms/step - loss: 0.6252 - accuracy: 0.6444 - val_loss: 0.6448 - val_accuracy: 0.6263\n",
            "Epoch 38/100\n",
            "25/25 [==============================] - 18s 734ms/step - loss: 0.6201 - accuracy: 0.6460 - val_loss: 0.6491 - val_accuracy: 0.6225\n",
            "Epoch 39/100\n",
            "25/25 [==============================] - 18s 738ms/step - loss: 0.6248 - accuracy: 0.6524 - val_loss: 0.6430 - val_accuracy: 0.6294\n",
            "Epoch 40/100\n",
            "25/25 [==============================] - 18s 738ms/step - loss: 0.6157 - accuracy: 0.6555 - val_loss: 0.6431 - val_accuracy: 0.6288\n",
            "Epoch 41/100\n",
            "25/25 [==============================] - 19s 738ms/step - loss: 0.6137 - accuracy: 0.6652 - val_loss: 0.6376 - val_accuracy: 0.6369\n",
            "Epoch 42/100\n",
            "25/25 [==============================] - 18s 736ms/step - loss: 0.6141 - accuracy: 0.6545 - val_loss: 0.6363 - val_accuracy: 0.6463\n",
            "Epoch 43/100\n",
            "25/25 [==============================] - 18s 738ms/step - loss: 0.6274 - accuracy: 0.6491 - val_loss: 0.6450 - val_accuracy: 0.6313\n",
            "Epoch 44/100\n",
            "25/25 [==============================] - 19s 742ms/step - loss: 0.6215 - accuracy: 0.6492 - val_loss: 0.6429 - val_accuracy: 0.6438\n",
            "Epoch 45/100\n",
            "25/25 [==============================] - 18s 738ms/step - loss: 0.6174 - accuracy: 0.6489 - val_loss: 0.6369 - val_accuracy: 0.6488\n",
            "Epoch 46/100\n",
            "25/25 [==============================] - 18s 737ms/step - loss: 0.6104 - accuracy: 0.6518 - val_loss: 0.6365 - val_accuracy: 0.6294\n",
            "Epoch 47/100\n",
            "25/25 [==============================] - 19s 740ms/step - loss: 0.6207 - accuracy: 0.6551 - val_loss: 0.6428 - val_accuracy: 0.6481\n",
            "Epoch 48/100\n",
            "25/25 [==============================] - 19s 742ms/step - loss: 0.6124 - accuracy: 0.6616 - val_loss: 0.6546 - val_accuracy: 0.6438\n",
            "Epoch 49/100\n",
            "25/25 [==============================] - 19s 739ms/step - loss: 0.6205 - accuracy: 0.6387 - val_loss: 0.6370 - val_accuracy: 0.6394\n",
            "Epoch 50/100\n",
            "25/25 [==============================] - 18s 737ms/step - loss: 0.6225 - accuracy: 0.6529 - val_loss: 0.6351 - val_accuracy: 0.6419\n",
            "Epoch 51/100\n",
            "25/25 [==============================] - 19s 739ms/step - loss: 0.6168 - accuracy: 0.6547 - val_loss: 0.6357 - val_accuracy: 0.6475\n",
            "Epoch 52/100\n",
            "25/25 [==============================] - 18s 735ms/step - loss: 0.6080 - accuracy: 0.6578 - val_loss: 0.6416 - val_accuracy: 0.6500\n",
            "Epoch 53/100\n",
            "25/25 [==============================] - 19s 739ms/step - loss: 0.6098 - accuracy: 0.6664 - val_loss: 0.6480 - val_accuracy: 0.6325\n",
            "Epoch 54/100\n",
            "25/25 [==============================] - 19s 741ms/step - loss: 0.6107 - accuracy: 0.6622 - val_loss: 0.6352 - val_accuracy: 0.6350\n",
            "Epoch 55/100\n",
            "25/25 [==============================] - 18s 736ms/step - loss: 0.6121 - accuracy: 0.6646 - val_loss: 0.6345 - val_accuracy: 0.6413\n",
            "Epoch 56/100\n",
            "25/25 [==============================] - 18s 734ms/step - loss: 0.6088 - accuracy: 0.6573 - val_loss: 0.6445 - val_accuracy: 0.6431\n",
            "Epoch 57/100\n",
            "25/25 [==============================] - 19s 739ms/step - loss: 0.6091 - accuracy: 0.6580 - val_loss: 0.6519 - val_accuracy: 0.6044\n",
            "Epoch 58/100\n",
            "25/25 [==============================] - 19s 743ms/step - loss: 0.6132 - accuracy: 0.6499 - val_loss: 0.6445 - val_accuracy: 0.6200\n",
            "Epoch 59/100\n",
            "25/25 [==============================] - 18s 738ms/step - loss: 0.6087 - accuracy: 0.6613 - val_loss: 0.6419 - val_accuracy: 0.6381\n",
            "Epoch 60/100\n",
            "25/25 [==============================] - 19s 747ms/step - loss: 0.5987 - accuracy: 0.6736 - val_loss: 0.6686 - val_accuracy: 0.6350\n",
            "Epoch 61/100\n",
            "25/25 [==============================] - 19s 742ms/step - loss: 0.6166 - accuracy: 0.6509 - val_loss: 0.6492 - val_accuracy: 0.6381\n",
            "Epoch 62/100\n",
            "25/25 [==============================] - 19s 744ms/step - loss: 0.5977 - accuracy: 0.6722 - val_loss: 0.6487 - val_accuracy: 0.6406\n",
            "Epoch 63/100\n",
            "25/25 [==============================] - 18s 738ms/step - loss: 0.6004 - accuracy: 0.6693 - val_loss: 0.6299 - val_accuracy: 0.6637\n",
            "Epoch 64/100\n",
            "25/25 [==============================] - 19s 744ms/step - loss: 0.5999 - accuracy: 0.6744 - val_loss: 0.6378 - val_accuracy: 0.6425\n",
            "Epoch 65/100\n",
            "25/25 [==============================] - 18s 738ms/step - loss: 0.6052 - accuracy: 0.6689 - val_loss: 0.6406 - val_accuracy: 0.6494\n",
            "Epoch 66/100\n",
            "25/25 [==============================] - 19s 740ms/step - loss: 0.6041 - accuracy: 0.6724 - val_loss: 0.6321 - val_accuracy: 0.6381\n",
            "Epoch 67/100\n",
            "25/25 [==============================] - 19s 739ms/step - loss: 0.6005 - accuracy: 0.6694 - val_loss: 0.6364 - val_accuracy: 0.6575\n",
            "Epoch 68/100\n",
            "25/25 [==============================] - 18s 735ms/step - loss: 0.6055 - accuracy: 0.6647 - val_loss: 0.6358 - val_accuracy: 0.6612\n",
            "Epoch 69/100\n",
            "25/25 [==============================] - 18s 737ms/step - loss: 0.5973 - accuracy: 0.6721 - val_loss: 0.6265 - val_accuracy: 0.6538\n",
            "Epoch 70/100\n",
            "25/25 [==============================] - 18s 738ms/step - loss: 0.5963 - accuracy: 0.6812 - val_loss: 0.6344 - val_accuracy: 0.6438\n",
            "Epoch 71/100\n",
            "25/25 [==============================] - 19s 741ms/step - loss: 0.6008 - accuracy: 0.6663 - val_loss: 0.6326 - val_accuracy: 0.6481\n",
            "Epoch 72/100\n",
            "25/25 [==============================] - 18s 735ms/step - loss: 0.6041 - accuracy: 0.6742 - val_loss: 0.6333 - val_accuracy: 0.6494\n",
            "Epoch 73/100\n",
            "25/25 [==============================] - 18s 738ms/step - loss: 0.6036 - accuracy: 0.6641 - val_loss: 0.6293 - val_accuracy: 0.6513\n",
            "Epoch 74/100\n",
            "25/25 [==============================] - 18s 738ms/step - loss: 0.5974 - accuracy: 0.6746 - val_loss: 0.6392 - val_accuracy: 0.6294\n",
            "Epoch 75/100\n",
            "25/25 [==============================] - 19s 740ms/step - loss: 0.6057 - accuracy: 0.6652 - val_loss: 0.6406 - val_accuracy: 0.6288\n",
            "Epoch 76/100\n",
            "25/25 [==============================] - 19s 741ms/step - loss: 0.6058 - accuracy: 0.6594 - val_loss: 0.6462 - val_accuracy: 0.6338\n",
            "Epoch 77/100\n",
            "25/25 [==============================] - 18s 736ms/step - loss: 0.6138 - accuracy: 0.6584 - val_loss: 0.6311 - val_accuracy: 0.6488\n",
            "Epoch 78/100\n",
            "25/25 [==============================] - 18s 739ms/step - loss: 0.5900 - accuracy: 0.6766 - val_loss: 0.6301 - val_accuracy: 0.6488\n",
            "Epoch 79/100\n",
            "25/25 [==============================] - 18s 737ms/step - loss: 0.5907 - accuracy: 0.6807 - val_loss: 0.6268 - val_accuracy: 0.6556\n",
            "Epoch 80/100\n",
            "25/25 [==============================] - 19s 746ms/step - loss: 0.5880 - accuracy: 0.6730 - val_loss: 0.6327 - val_accuracy: 0.6406\n",
            "Epoch 81/100\n",
            "25/25 [==============================] - 18s 738ms/step - loss: 0.5956 - accuracy: 0.6700 - val_loss: 0.6294 - val_accuracy: 0.6469\n",
            "Epoch 82/100\n",
            "25/25 [==============================] - 18s 736ms/step - loss: 0.5863 - accuracy: 0.6859 - val_loss: 0.6273 - val_accuracy: 0.6587\n",
            "Epoch 83/100\n",
            "25/25 [==============================] - 19s 739ms/step - loss: 0.5790 - accuracy: 0.6888 - val_loss: 0.6407 - val_accuracy: 0.6463\n",
            "Epoch 84/100\n",
            "25/25 [==============================] - 19s 740ms/step - loss: 0.5975 - accuracy: 0.6675 - val_loss: 0.6323 - val_accuracy: 0.6594\n",
            "Epoch 85/100\n",
            "25/25 [==============================] - 19s 740ms/step - loss: 0.5926 - accuracy: 0.6791 - val_loss: 0.6311 - val_accuracy: 0.6425\n",
            "Epoch 86/100\n",
            "25/25 [==============================] - 18s 735ms/step - loss: 0.5958 - accuracy: 0.6672 - val_loss: 0.6265 - val_accuracy: 0.6600\n",
            "Epoch 87/100\n",
            "25/25 [==============================] - 19s 741ms/step - loss: 0.5886 - accuracy: 0.6811 - val_loss: 0.6422 - val_accuracy: 0.6394\n",
            "Epoch 88/100\n",
            "25/25 [==============================] - 18s 738ms/step - loss: 0.5929 - accuracy: 0.6689 - val_loss: 0.6460 - val_accuracy: 0.6281\n",
            "Epoch 89/100\n",
            "25/25 [==============================] - 18s 737ms/step - loss: 0.6079 - accuracy: 0.6720 - val_loss: 0.6424 - val_accuracy: 0.6256\n",
            "Epoch 90/100\n",
            "25/25 [==============================] - 19s 740ms/step - loss: 0.6029 - accuracy: 0.6735 - val_loss: 0.6224 - val_accuracy: 0.6525\n",
            "Epoch 91/100\n",
            "25/25 [==============================] - 18s 734ms/step - loss: 0.5803 - accuracy: 0.6994 - val_loss: 0.6295 - val_accuracy: 0.6600\n",
            "Epoch 92/100\n",
            "25/25 [==============================] - 19s 740ms/step - loss: 0.5793 - accuracy: 0.6880 - val_loss: 0.6350 - val_accuracy: 0.6475\n",
            "Epoch 93/100\n",
            "25/25 [==============================] - 18s 736ms/step - loss: 0.5872 - accuracy: 0.6876 - val_loss: 0.6281 - val_accuracy: 0.6519\n",
            "Epoch 94/100\n",
            "25/25 [==============================] - 19s 738ms/step - loss: 0.5846 - accuracy: 0.6906 - val_loss: 0.6260 - val_accuracy: 0.6569\n",
            "Epoch 95/100\n",
            "25/25 [==============================] - 18s 734ms/step - loss: 0.5887 - accuracy: 0.6787 - val_loss: 0.6643 - val_accuracy: 0.6475\n",
            "Epoch 96/100\n",
            "25/25 [==============================] - 18s 733ms/step - loss: 0.5989 - accuracy: 0.6721 - val_loss: 0.6343 - val_accuracy: 0.6431\n",
            "Epoch 97/100\n",
            "25/25 [==============================] - 19s 744ms/step - loss: 0.5949 - accuracy: 0.6681 - val_loss: 0.6373 - val_accuracy: 0.6406\n",
            "Epoch 98/100\n",
            "25/25 [==============================] - 18s 736ms/step - loss: 0.5914 - accuracy: 0.6778 - val_loss: 0.6317 - val_accuracy: 0.6500\n",
            "Epoch 99/100\n",
            "25/25 [==============================] - 18s 738ms/step - loss: 0.5850 - accuracy: 0.6798 - val_loss: 0.6334 - val_accuracy: 0.6538\n",
            "Epoch 100/100\n",
            "25/25 [==============================] - 18s 736ms/step - loss: 0.5843 - accuracy: 0.6785 - val_loss: 0.6305 - val_accuracy: 0.6556\n"
          ],
          "name": "stdout"
        },
        {
          "output_type": "display_data",
          "data": {
            "image/png": "[encoded data removed]",
            "text/plain": [
              "<Figure size 432x288 with 1 Axes>"
            ]
          },
          "metadata": {
            "tags": [],
            "needs_background": "light"
          }
        },
        {
          "output_type": "stream",
          "text": [
            "Test loss:  0.616276204586029\n",
            "Test accuracy:  0.6629999876022339\n",
            "\n",
            "\n",
            "\n",
            "              precision    recall  f1-score   support\n",
            "\n",
            "     Class 0       0.67      0.63      0.65      1000\n",
            "     Class 1       0.65      0.69      0.67      1000\n",
            "\n",
            "    accuracy                           0.66      2000\n",
            "   macro avg       0.66      0.66      0.66      2000\n",
            "weighted avg       0.66      0.66      0.66      2000\n",
            "\n"
          ],
          "name": "stdout"
        }
      ]
    },
    {
      "cell_type": "markdown",
      "metadata": {
        "id": "bF3OOVaKopET"
      },
      "source": [
        "# تحلیل عملکرد چهارمین مدل\n",
        "\n",
        "در این قسمت همانند سه مدل قبلی شبکه یکسانی داریم، مشابه مدل دوم از دراپ‌اوت استفاده کرده ایم و مشابه مدل سوم از داده های آگمنت شده برای آموزش مدل استفاده کرده ایم.\n",
        "\n",
        "در این مدل نیز نسبت به سه مدل قبلی صحت مدل هنگام ارزیابی با داده های تست افزایش یافته است، اگرچه لازم است به این نکته توجه کنیم که درصورت استفاده بیش از انداره از دراپ‌اوت و یا آگمنتیشن مدل آندرفیت شده است و نمیتوانیم به خوبی از قابلیتهای شبکه استفاده کرده و مدل مناسبی آموزش دهیم."
      ]
    },
    {
      "cell_type": "markdown",
      "metadata": {
        "id": "lQFJ9Jmq4VSs"
      },
      "source": [
        "# جمع بندی قسمت الف\n",
        "\n",
        "در این قسمت ابتدا مدل را با استفاده از یک شبکه عمیق ۱۹ لایه آموزش می‌دهیم.\n",
        "بعد از ۱۰۰ ایپاک آموزش و ارزیابی مدل با داده های تست دریافتیم که مدل دچار بیش‌برازش شده و عملکرد یکسانی بروی داده های آموزش و تست ندارد.\n",
        "\n",
        "برای رفع این مشکل از تکنیک منظم سازی دراپ‌اوت و آگمنت کردن داده ها استفاده کردیم و طی مراحل جداگانه رفتار مدل پس از استفاده از این موارد را نشان دادیم و نهایتا توانستیم با داشتن شبکه یکسان از صحت ۶۲ درصد به ۶۶ درصد برسیم.\n",
        "\n",
        "در هر یک از این مراحل برای مشخص کردن بهترین تنظیم پارامترها موارد گوناگونی بررسی شده است و هم اکنون پارامترهای مدل به گونه ای تنظیم شده اند که از آورفیت شدن یا آندرفیت شدن مدل جلوگیری شود."
      ]
    },
    {
      "cell_type": "code",
      "metadata": {
        "id": "LUjGgSZf57OJ"
      },
      "source": [
        ""
      ],
      "execution_count": null,
      "outputs": []
    }
  ]
}